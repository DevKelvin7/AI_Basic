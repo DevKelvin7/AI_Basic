{
 "cells": [
  {
   "cell_type": "code",
   "execution_count": 1,
   "metadata": {
    "colab": {
     "base_uri": "https://localhost:8080/"
    },
    "executionInfo": {
     "elapsed": 22517,
     "status": "ok",
     "timestamp": 1672620142765,
     "user": {
      "displayName": "jinyang park",
      "userId": "06576046992691541404"
     },
     "user_tz": -540
    },
    "id": "OmyVNMI9FGj8",
    "outputId": "1962c0a1-d02a-44cb-971e-a6bce245e4e8"
   },
   "outputs": [],
   "source": [
    "# from google.colab import drive\n",
    "# drive.mount('/gdrive', force_remount=True)"
   ]
  },
  {
   "cell_type": "code",
   "execution_count": 2,
   "metadata": {
    "colab": {
     "base_uri": "https://localhost:8080/",
     "height": 35
    },
    "executionInfo": {
     "elapsed": 5,
     "status": "ok",
     "timestamp": 1672620651542,
     "user": {
      "displayName": "jinyang park",
      "userId": "06576046992691541404"
     },
     "user_tz": -540
    },
    "id": "Gd-NbOMpFt3v",
    "outputId": "cc07f4d4-f48c-4329-cd81-0b986e2f51c3"
   },
   "outputs": [
    {
     "data": {
      "text/plain": [
       "'1.4.4'"
      ]
     },
     "execution_count": 2,
     "metadata": {},
     "output_type": "execute_result"
    }
   ],
   "source": [
    "import pandas as pd\n",
    "import numpy as np\n",
    "import warnings\n",
    "warnings.filterwarnings('ignore')\n",
    "pd.__version__"
   ]
  },
  {
   "cell_type": "markdown",
   "metadata": {
    "id": "x8dDEx5ON4WI"
   },
   "source": [
    "# 문제 설명\n",
    "* 영화 스트리밍 사이트 운영진은 등록된 영화들에 대한 데이터를 분석하여, 개봉 년도, 평점, 투표 수, 감독 등 변수들 간 관계에 대해 알아 보고자 한다.\n",
    "\n",
    "DS_Sample_3.csv (구분자: comma(“,”), 188 Rows, 5 Columns, UTF-8 인코딩)"
   ]
  },
  {
   "cell_type": "code",
   "execution_count": 18,
   "metadata": {
    "colab": {
     "base_uri": "https://localhost:8080/",
     "height": 206
    },
    "executionInfo": {
     "elapsed": 1275,
     "status": "ok",
     "timestamp": 1672620656411,
     "user": {
      "displayName": "jinyang park",
      "userId": "06576046992691541404"
     },
     "user_tz": -540
    },
    "id": "gW3YeXVJOTU8",
    "outputId": "bf288a56-408f-4631-c70e-f1eb08631665"
   },
   "outputs": [
    {
     "data": {
      "text/html": [
       "<div>\n",
       "<style scoped>\n",
       "    .dataframe tbody tr th:only-of-type {\n",
       "        vertical-align: middle;\n",
       "    }\n",
       "\n",
       "    .dataframe tbody tr th {\n",
       "        vertical-align: top;\n",
       "    }\n",
       "\n",
       "    .dataframe thead th {\n",
       "        text-align: right;\n",
       "    }\n",
       "</style>\n",
       "<table border=\"1\" class=\"dataframe\">\n",
       "  <thead>\n",
       "    <tr style=\"text-align: right;\">\n",
       "      <th></th>\n",
       "      <th>Title</th>\n",
       "      <th>AirDate</th>\n",
       "      <th>Rating</th>\n",
       "      <th>Num_Votes</th>\n",
       "      <th>DirectedBy</th>\n",
       "    </tr>\n",
       "  </thead>\n",
       "  <tbody>\n",
       "    <tr>\n",
       "      <th>0</th>\n",
       "      <td>Pilot</td>\n",
       "      <td>2005-03-24</td>\n",
       "      <td>7.5</td>\n",
       "      <td>4349</td>\n",
       "      <td>Ken Kwapis</td>\n",
       "    </tr>\n",
       "    <tr>\n",
       "      <th>1</th>\n",
       "      <td>Diversity Day</td>\n",
       "      <td>2005-03-29</td>\n",
       "      <td>8.3</td>\n",
       "      <td>4213</td>\n",
       "      <td>Ken Kwapis</td>\n",
       "    </tr>\n",
       "  </tbody>\n",
       "</table>\n",
       "</div>"
      ],
      "text/plain": [
       "           Title     AirDate  Rating  Num_Votes  DirectedBy\n",
       "0          Pilot  2005-03-24     7.5       4349  Ken Kwapis\n",
       "1  Diversity Day  2005-03-29     8.3       4213  Ken Kwapis"
      ]
     },
     "execution_count": 18,
     "metadata": {},
     "output_type": "execute_result"
    }
   ],
   "source": [
    "df09 = pd.read_csv('.\\\\data\\\\DS_Sample_3.csv')\n",
    "df09[:2]"
   ]
  },
  {
   "cell_type": "markdown",
   "metadata": {
    "id": "UsdmwfLPOEJs"
   },
   "source": [
    "# 전처리 1\n",
    "\n",
    "* 분석을 수행하기 전, 상기 데이터를 이용하여 아래의 전처리를 수행하시오.\n",
    "* 단계 1: 영화 공개 날짜(AirDate)의 연도 정보를 기준으로, 2005년에서 2007년은 ‘A’, 2008년에서 2010년은 ‘B’, 2011년에서 2013년은 ‘C’ 값을 가지는 공개년도그룹(변수명: group) 변수를 생성하시오.\n"
   ]
  },
  {
   "cell_type": "code",
   "execution_count": 4,
   "metadata": {
    "colab": {
     "base_uri": "https://localhost:8080/"
    },
    "executionInfo": {
     "elapsed": 588,
     "status": "ok",
     "timestamp": 1672621641225,
     "user": {
      "displayName": "jinyang park",
      "userId": "06576046992691541404"
     },
     "user_tz": -540
    },
    "id": "sbNNdclAPi2E",
    "outputId": "b4da3e44-74f6-4ddd-f22f-5e8698e26af0",
    "scrolled": true
   },
   "outputs": [
    {
     "name": "stdout",
     "output_type": "stream",
     "text": [
      "<class 'pandas.core.frame.DataFrame'>\n",
      "RangeIndex: 188 entries, 0 to 187\n",
      "Data columns (total 5 columns):\n",
      " #   Column      Non-Null Count  Dtype  \n",
      "---  ------      --------------  -----  \n",
      " 0   Title       188 non-null    object \n",
      " 1   AirDate     188 non-null    object \n",
      " 2   Rating      188 non-null    float64\n",
      " 3   Num_Votes   188 non-null    int64  \n",
      " 4   DirectedBy  188 non-null    object \n",
      "dtypes: float64(1), int64(1), object(3)\n",
      "memory usage: 7.5+ KB\n"
     ]
    }
   ],
   "source": [
    "df09.info()"
   ]
  },
  {
   "cell_type": "code",
   "execution_count": 5,
   "metadata": {
    "colab": {
     "base_uri": "https://localhost:8080/",
     "height": 394
    },
    "executionInfo": {
     "elapsed": 8,
     "status": "ok",
     "timestamp": 1672621647808,
     "user": {
      "displayName": "jinyang park",
      "userId": "06576046992691541404"
     },
     "user_tz": -540
    },
    "id": "2h3kpc9IRDGf",
    "outputId": "1fda585c-6257-4060-82fb-b2245afeb383",
    "scrolled": false
   },
   "outputs": [
    {
     "data": {
      "text/html": [
       "<div>\n",
       "<style scoped>\n",
       "    .dataframe tbody tr th:only-of-type {\n",
       "        vertical-align: middle;\n",
       "    }\n",
       "\n",
       "    .dataframe tbody tr th {\n",
       "        vertical-align: top;\n",
       "    }\n",
       "\n",
       "    .dataframe thead th {\n",
       "        text-align: right;\n",
       "    }\n",
       "</style>\n",
       "<table border=\"1\" class=\"dataframe\">\n",
       "  <thead>\n",
       "    <tr style=\"text-align: right;\">\n",
       "      <th></th>\n",
       "      <th>Title</th>\n",
       "      <th>AirDate</th>\n",
       "      <th>Rating</th>\n",
       "      <th>Num_Votes</th>\n",
       "      <th>DirectedBy</th>\n",
       "    </tr>\n",
       "  </thead>\n",
       "  <tbody>\n",
       "    <tr>\n",
       "      <th>count</th>\n",
       "      <td>188</td>\n",
       "      <td>188</td>\n",
       "      <td>188.000000</td>\n",
       "      <td>188.000000</td>\n",
       "      <td>188</td>\n",
       "    </tr>\n",
       "    <tr>\n",
       "      <th>unique</th>\n",
       "      <td>188</td>\n",
       "      <td>184</td>\n",
       "      <td>NaN</td>\n",
       "      <td>NaN</td>\n",
       "      <td>55</td>\n",
       "    </tr>\n",
       "    <tr>\n",
       "      <th>top</th>\n",
       "      <td>Pilot</td>\n",
       "      <td>2009-10-08</td>\n",
       "      <td>NaN</td>\n",
       "      <td>NaN</td>\n",
       "      <td>Randall Einhorn</td>\n",
       "    </tr>\n",
       "    <tr>\n",
       "      <th>freq</th>\n",
       "      <td>1</td>\n",
       "      <td>2</td>\n",
       "      <td>NaN</td>\n",
       "      <td>NaN</td>\n",
       "      <td>15</td>\n",
       "    </tr>\n",
       "    <tr>\n",
       "      <th>mean</th>\n",
       "      <td>NaN</td>\n",
       "      <td>NaN</td>\n",
       "      <td>8.248404</td>\n",
       "      <td>2489.787234</td>\n",
       "      <td>NaN</td>\n",
       "    </tr>\n",
       "    <tr>\n",
       "      <th>std</th>\n",
       "      <td>NaN</td>\n",
       "      <td>NaN</td>\n",
       "      <td>0.578720</td>\n",
       "      <td>924.986433</td>\n",
       "      <td>NaN</td>\n",
       "    </tr>\n",
       "    <tr>\n",
       "      <th>min</th>\n",
       "      <td>NaN</td>\n",
       "      <td>NaN</td>\n",
       "      <td>6.600000</td>\n",
       "      <td>1630.000000</td>\n",
       "      <td>NaN</td>\n",
       "    </tr>\n",
       "    <tr>\n",
       "      <th>25%</th>\n",
       "      <td>NaN</td>\n",
       "      <td>NaN</td>\n",
       "      <td>7.800000</td>\n",
       "      <td>1918.000000</td>\n",
       "      <td>NaN</td>\n",
       "    </tr>\n",
       "    <tr>\n",
       "      <th>50%</th>\n",
       "      <td>NaN</td>\n",
       "      <td>NaN</td>\n",
       "      <td>8.200000</td>\n",
       "      <td>2295.000000</td>\n",
       "      <td>NaN</td>\n",
       "    </tr>\n",
       "    <tr>\n",
       "      <th>75%</th>\n",
       "      <td>NaN</td>\n",
       "      <td>NaN</td>\n",
       "      <td>8.600000</td>\n",
       "      <td>2769.000000</td>\n",
       "      <td>NaN</td>\n",
       "    </tr>\n",
       "    <tr>\n",
       "      <th>max</th>\n",
       "      <td>NaN</td>\n",
       "      <td>NaN</td>\n",
       "      <td>9.800000</td>\n",
       "      <td>9269.000000</td>\n",
       "      <td>NaN</td>\n",
       "    </tr>\n",
       "  </tbody>\n",
       "</table>\n",
       "</div>"
      ],
      "text/plain": [
       "        Title     AirDate      Rating    Num_Votes       DirectedBy\n",
       "count     188         188  188.000000   188.000000              188\n",
       "unique    188         184         NaN          NaN               55\n",
       "top     Pilot  2009-10-08         NaN          NaN  Randall Einhorn\n",
       "freq        1           2         NaN          NaN               15\n",
       "mean      NaN         NaN    8.248404  2489.787234              NaN\n",
       "std       NaN         NaN    0.578720   924.986433              NaN\n",
       "min       NaN         NaN    6.600000  1630.000000              NaN\n",
       "25%       NaN         NaN    7.800000  1918.000000              NaN\n",
       "50%       NaN         NaN    8.200000  2295.000000              NaN\n",
       "75%       NaN         NaN    8.600000  2769.000000              NaN\n",
       "max       NaN         NaN    9.800000  9269.000000              NaN"
      ]
     },
     "execution_count": 5,
     "metadata": {},
     "output_type": "execute_result"
    }
   ],
   "source": [
    "df09.describe(include='all')"
   ]
  },
  {
   "cell_type": "code",
   "execution_count": 6,
   "metadata": {
    "scrolled": true
   },
   "outputs": [
    {
     "data": {
      "text/html": [
       "<div>\n",
       "<style scoped>\n",
       "    .dataframe tbody tr th:only-of-type {\n",
       "        vertical-align: middle;\n",
       "    }\n",
       "\n",
       "    .dataframe tbody tr th {\n",
       "        vertical-align: top;\n",
       "    }\n",
       "\n",
       "    .dataframe thead th {\n",
       "        text-align: right;\n",
       "    }\n",
       "</style>\n",
       "<table border=\"1\" class=\"dataframe\">\n",
       "  <thead>\n",
       "    <tr style=\"text-align: right;\">\n",
       "      <th></th>\n",
       "      <th>Title</th>\n",
       "      <th>AirDate</th>\n",
       "      <th>Rating</th>\n",
       "      <th>Num_Votes</th>\n",
       "      <th>DirectedBy</th>\n",
       "    </tr>\n",
       "  </thead>\n",
       "  <tbody>\n",
       "    <tr>\n",
       "      <th>0</th>\n",
       "      <td>Pilot</td>\n",
       "      <td>2005-03-24</td>\n",
       "      <td>7.5</td>\n",
       "      <td>4349</td>\n",
       "      <td>Ken Kwapis</td>\n",
       "    </tr>\n",
       "    <tr>\n",
       "      <th>1</th>\n",
       "      <td>Diversity Day</td>\n",
       "      <td>2005-03-29</td>\n",
       "      <td>8.3</td>\n",
       "      <td>4213</td>\n",
       "      <td>Ken Kwapis</td>\n",
       "    </tr>\n",
       "    <tr>\n",
       "      <th>2</th>\n",
       "      <td>Health Care</td>\n",
       "      <td>2005-04-05</td>\n",
       "      <td>7.8</td>\n",
       "      <td>3536</td>\n",
       "      <td>Ken Whittingham</td>\n",
       "    </tr>\n",
       "  </tbody>\n",
       "</table>\n",
       "</div>"
      ],
      "text/plain": [
       "           Title     AirDate  Rating  Num_Votes       DirectedBy\n",
       "0          Pilot  2005-03-24     7.5       4349       Ken Kwapis\n",
       "1  Diversity Day  2005-03-29     8.3       4213       Ken Kwapis\n",
       "2    Health Care  2005-04-05     7.8       3536  Ken Whittingham"
      ]
     },
     "execution_count": 6,
     "metadata": {},
     "output_type": "execute_result"
    }
   ],
   "source": [
    "df09[:3]"
   ]
  },
  {
   "cell_type": "code",
   "execution_count": 20,
   "metadata": {
    "colab": {
     "base_uri": "https://localhost:8080/",
     "height": 1000
    },
    "executionInfo": {
     "elapsed": 464,
     "status": "ok",
     "timestamp": 1672622817414,
     "user": {
      "displayName": "jinyang park",
      "userId": "06576046992691541404"
     },
     "user_tz": -540
    },
    "id": "GUGtoXpZe9FH",
    "outputId": "cdc92c2a-068e-4456-ac91-65143c5b1fcd",
    "scrolled": false
   },
   "outputs": [
    {
     "data": {
      "text/html": [
       "<div>\n",
       "<style scoped>\n",
       "    .dataframe tbody tr th:only-of-type {\n",
       "        vertical-align: middle;\n",
       "    }\n",
       "\n",
       "    .dataframe tbody tr th {\n",
       "        vertical-align: top;\n",
       "    }\n",
       "\n",
       "    .dataframe thead th {\n",
       "        text-align: right;\n",
       "    }\n",
       "</style>\n",
       "<table border=\"1\" class=\"dataframe\">\n",
       "  <thead>\n",
       "    <tr style=\"text-align: right;\">\n",
       "      <th></th>\n",
       "      <th>Title</th>\n",
       "      <th>AirDate</th>\n",
       "      <th>Rating</th>\n",
       "      <th>Num_Votes</th>\n",
       "      <th>DirectedBy</th>\n",
       "      <th>group</th>\n",
       "    </tr>\n",
       "  </thead>\n",
       "  <tbody>\n",
       "    <tr>\n",
       "      <th>128</th>\n",
       "      <td>Ultimatum</td>\n",
       "      <td>2011-01-20</td>\n",
       "      <td>8.3</td>\n",
       "      <td>2002</td>\n",
       "      <td>David Rogers</td>\n",
       "      <td>C</td>\n",
       "    </tr>\n",
       "    <tr>\n",
       "      <th>129</th>\n",
       "      <td>The Seminar</td>\n",
       "      <td>2011-01-27</td>\n",
       "      <td>7.7</td>\n",
       "      <td>1904</td>\n",
       "      <td>B. J. Novak</td>\n",
       "      <td>C</td>\n",
       "    </tr>\n",
       "    <tr>\n",
       "      <th>130</th>\n",
       "      <td>The Search</td>\n",
       "      <td>2011-02-03</td>\n",
       "      <td>8.5</td>\n",
       "      <td>2065</td>\n",
       "      <td>Michael Spiller</td>\n",
       "      <td>C</td>\n",
       "    </tr>\n",
       "    <tr>\n",
       "      <th>131</th>\n",
       "      <td>PDA</td>\n",
       "      <td>2011-02-10</td>\n",
       "      <td>8.4</td>\n",
       "      <td>2048</td>\n",
       "      <td>Greg Daniels</td>\n",
       "      <td>C</td>\n",
       "    </tr>\n",
       "    <tr>\n",
       "      <th>132</th>\n",
       "      <td>Threat Level Midnight</td>\n",
       "      <td>2011-02-17</td>\n",
       "      <td>9.4</td>\n",
       "      <td>4236</td>\n",
       "      <td>Tucker Gates</td>\n",
       "      <td>C</td>\n",
       "    </tr>\n",
       "    <tr>\n",
       "      <th>133</th>\n",
       "      <td>Todd Packer</td>\n",
       "      <td>2011-02-24</td>\n",
       "      <td>7.5</td>\n",
       "      <td>1872</td>\n",
       "      <td>Randall Einhorn</td>\n",
       "      <td>C</td>\n",
       "    </tr>\n",
       "    <tr>\n",
       "      <th>134</th>\n",
       "      <td>Garage Sale</td>\n",
       "      <td>2011-03-24</td>\n",
       "      <td>9.3</td>\n",
       "      <td>3216</td>\n",
       "      <td>Steve Carell</td>\n",
       "      <td>C</td>\n",
       "    </tr>\n",
       "    <tr>\n",
       "      <th>135</th>\n",
       "      <td>Training Day</td>\n",
       "      <td>2011-04-14</td>\n",
       "      <td>7.8</td>\n",
       "      <td>1950</td>\n",
       "      <td>Paul Lieberstein</td>\n",
       "      <td>C</td>\n",
       "    </tr>\n",
       "    <tr>\n",
       "      <th>136</th>\n",
       "      <td>Michael's Last Dundies</td>\n",
       "      <td>2011-04-21</td>\n",
       "      <td>9.0</td>\n",
       "      <td>2598</td>\n",
       "      <td>Mindy Kaling</td>\n",
       "      <td>C</td>\n",
       "    </tr>\n",
       "    <tr>\n",
       "      <th>137</th>\n",
       "      <td>Goodbye Michael</td>\n",
       "      <td>2011-04-28</td>\n",
       "      <td>9.8</td>\n",
       "      <td>6909</td>\n",
       "      <td>Paul Feig</td>\n",
       "      <td>C</td>\n",
       "    </tr>\n",
       "  </tbody>\n",
       "</table>\n",
       "</div>"
      ],
      "text/plain": [
       "                      Title     AirDate  Rating  Num_Votes        DirectedBy  \\\n",
       "128               Ultimatum  2011-01-20     8.3       2002      David Rogers   \n",
       "129             The Seminar  2011-01-27     7.7       1904       B. J. Novak   \n",
       "130              The Search  2011-02-03     8.5       2065   Michael Spiller   \n",
       "131                     PDA  2011-02-10     8.4       2048      Greg Daniels   \n",
       "132   Threat Level Midnight  2011-02-17     9.4       4236      Tucker Gates   \n",
       "133             Todd Packer  2011-02-24     7.5       1872   Randall Einhorn   \n",
       "134             Garage Sale  2011-03-24     9.3       3216      Steve Carell   \n",
       "135            Training Day  2011-04-14     7.8       1950  Paul Lieberstein   \n",
       "136  Michael's Last Dundies  2011-04-21     9.0       2598      Mindy Kaling   \n",
       "137         Goodbye Michael  2011-04-28     9.8       6909         Paul Feig   \n",
       "\n",
       "    group  \n",
       "128     C  \n",
       "129     C  \n",
       "130     C  \n",
       "131     C  \n",
       "132     C  \n",
       "133     C  \n",
       "134     C  \n",
       "135     C  \n",
       "136     C  \n",
       "137     C  "
      ]
     },
     "execution_count": 20,
     "metadata": {},
     "output_type": "execute_result"
    }
   ],
   "source": [
    "# case 1\n",
    "# 단계 1: 영화 공개 날짜(AirDate)의 연도 정보를 기준으로, 2005년에서 2007년은 ‘A’, \n",
    "#         2008년에서 2010년은 ‘B’, 2011년에서 2013년은 ‘C’ 값을 가지는 공개년도그룹(변수명: group) 변수를 생성하시오.\n",
    "\n",
    "\n",
    "# np.where(조건, True, \n",
    "#          np.where(조건, True, False))\n",
    "\n",
    "# year추출 방법\n",
    "# df09['AirDate'].str[0:4]\n",
    "# df09['AirDate'].apply(lambda x: x[0:4])\n",
    "\n",
    "df09['group'] = np.where(df09['AirDate'].str[0:4].between('2005', '2007'), 'A', \n",
    "                     np.where(df09['AirDate'].str[0:4].between('2008', '2010'), 'B', 'C'))\n",
    "\n",
    "df09\n",
    "\n",
    "df09[df09['group'] == 'C'] [:10]# 확인"
   ]
  },
  {
   "cell_type": "code",
   "execution_count": 8,
   "metadata": {},
   "outputs": [
    {
     "data": {
      "text/html": [
       "<div>\n",
       "<style scoped>\n",
       "    .dataframe tbody tr th:only-of-type {\n",
       "        vertical-align: middle;\n",
       "    }\n",
       "\n",
       "    .dataframe tbody tr th {\n",
       "        vertical-align: top;\n",
       "    }\n",
       "\n",
       "    .dataframe thead th {\n",
       "        text-align: right;\n",
       "    }\n",
       "</style>\n",
       "<table border=\"1\" class=\"dataframe\">\n",
       "  <thead>\n",
       "    <tr style=\"text-align: right;\">\n",
       "      <th>group_2</th>\n",
       "      <th>a</th>\n",
       "      <th>b</th>\n",
       "      <th>c</th>\n",
       "    </tr>\n",
       "    <tr>\n",
       "      <th>group</th>\n",
       "      <th></th>\n",
       "      <th></th>\n",
       "      <th></th>\n",
       "    </tr>\n",
       "  </thead>\n",
       "  <tbody>\n",
       "    <tr>\n",
       "      <th>A</th>\n",
       "      <td>59</td>\n",
       "      <td>0</td>\n",
       "      <td>0</td>\n",
       "    </tr>\n",
       "    <tr>\n",
       "      <th>B</th>\n",
       "      <td>0</td>\n",
       "      <td>69</td>\n",
       "      <td>0</td>\n",
       "    </tr>\n",
       "    <tr>\n",
       "      <th>C</th>\n",
       "      <td>0</td>\n",
       "      <td>0</td>\n",
       "      <td>60</td>\n",
       "    </tr>\n",
       "  </tbody>\n",
       "</table>\n",
       "</div>"
      ],
      "text/plain": [
       "group_2   a   b   c\n",
       "group              \n",
       "A        59   0   0\n",
       "B         0  69   0\n",
       "C         0   0  60"
      ]
     },
     "execution_count": 8,
     "metadata": {},
     "output_type": "execute_result"
    }
   ],
   "source": [
    "# case 2\n",
    "\n",
    "# 단계 1: 영화 공개 날짜(AirDate)의 연도 정보를 기준으로, 2005년에서 2007년은 ‘A’, \n",
    "#         2008년에서 2010년은 ‘B’, 2011년에서 2013년은 ‘C’ 값을 가지는 공개년도그룹(변수명: group) 변수를 생성하시오.\n",
    "\n",
    "# year추출 방법\n",
    "# df09['AirDate'].str[0:4].astype('int')\n",
    "# pd.to_datetime(df09['AirDate']).dt.year\n",
    "# df09['AirDate'].astype('datetime64').dt.year\n",
    "\n",
    "df09['group_2'] = pd.cut(df09['AirDate'].str[0:4].astype('int'),bins = [2000, 2007, 2010, 2013], labels = ['a', 'b', 'c'])\n",
    "df09\n",
    "pd.crosstab(df09['group'], df09['group_2']) # group 확인"
   ]
  },
  {
   "cell_type": "code",
   "execution_count": null,
   "metadata": {},
   "outputs": [],
   "source": []
  },
  {
   "cell_type": "code",
   "execution_count": 9,
   "metadata": {},
   "outputs": [
    {
     "data": {
      "text/html": [
       "<div>\n",
       "<style scoped>\n",
       "    .dataframe tbody tr th:only-of-type {\n",
       "        vertical-align: middle;\n",
       "    }\n",
       "\n",
       "    .dataframe tbody tr th {\n",
       "        vertical-align: top;\n",
       "    }\n",
       "\n",
       "    .dataframe thead th {\n",
       "        text-align: right;\n",
       "    }\n",
       "</style>\n",
       "<table border=\"1\" class=\"dataframe\">\n",
       "  <thead>\n",
       "    <tr style=\"text-align: right;\">\n",
       "      <th>group_3</th>\n",
       "      <th>A</th>\n",
       "      <th>B</th>\n",
       "      <th>C</th>\n",
       "    </tr>\n",
       "    <tr>\n",
       "      <th>group</th>\n",
       "      <th></th>\n",
       "      <th></th>\n",
       "      <th></th>\n",
       "    </tr>\n",
       "  </thead>\n",
       "  <tbody>\n",
       "    <tr>\n",
       "      <th>A</th>\n",
       "      <td>59</td>\n",
       "      <td>0</td>\n",
       "      <td>0</td>\n",
       "    </tr>\n",
       "    <tr>\n",
       "      <th>B</th>\n",
       "      <td>0</td>\n",
       "      <td>69</td>\n",
       "      <td>0</td>\n",
       "    </tr>\n",
       "    <tr>\n",
       "      <th>C</th>\n",
       "      <td>0</td>\n",
       "      <td>0</td>\n",
       "      <td>60</td>\n",
       "    </tr>\n",
       "  </tbody>\n",
       "</table>\n",
       "</div>"
      ],
      "text/plain": [
       "group_3   A   B   C\n",
       "group              \n",
       "A        59   0   0\n",
       "B         0  69   0\n",
       "C         0   0  60"
      ]
     },
     "execution_count": 9,
     "metadata": {},
     "output_type": "execute_result"
    }
   ],
   "source": [
    "# case 3 map 사용\n",
    "df09['group_3'] = df09['AirDate'].str[0:4].map({'2005' : 'A' ,\n",
    "                              '2006' : 'A' ,\n",
    "                              '2007' : 'A' ,\n",
    "                              '2008' : 'B' ,\n",
    "                              '2009' : 'B' ,\n",
    "                              '2010' : 'B' ,\n",
    "                              '2011' : 'C' ,\n",
    "                              '2012' : 'C' ,\n",
    "                              '2013' : 'C' })\n",
    "pd.crosstab(df09['group'], df09['group_3'])"
   ]
  },
  {
   "cell_type": "code",
   "execution_count": 21,
   "metadata": {},
   "outputs": [
    {
     "data": {
      "text/html": [
       "<div>\n",
       "<style scoped>\n",
       "    .dataframe tbody tr th:only-of-type {\n",
       "        vertical-align: middle;\n",
       "    }\n",
       "\n",
       "    .dataframe tbody tr th {\n",
       "        vertical-align: top;\n",
       "    }\n",
       "\n",
       "    .dataframe thead th {\n",
       "        text-align: right;\n",
       "    }\n",
       "</style>\n",
       "<table border=\"1\" class=\"dataframe\">\n",
       "  <thead>\n",
       "    <tr style=\"text-align: right;\">\n",
       "      <th></th>\n",
       "      <th>Title</th>\n",
       "      <th>AirDate</th>\n",
       "      <th>Rating</th>\n",
       "      <th>Num_Votes</th>\n",
       "      <th>DirectedBy</th>\n",
       "      <th>group</th>\n",
       "    </tr>\n",
       "  </thead>\n",
       "  <tbody>\n",
       "    <tr>\n",
       "      <th>0</th>\n",
       "      <td>Pilot</td>\n",
       "      <td>2005-03-24</td>\n",
       "      <td>7.5</td>\n",
       "      <td>4349</td>\n",
       "      <td>Ken Kwapis</td>\n",
       "      <td>A</td>\n",
       "    </tr>\n",
       "    <tr>\n",
       "      <th>1</th>\n",
       "      <td>Diversity Day</td>\n",
       "      <td>2005-03-29</td>\n",
       "      <td>8.3</td>\n",
       "      <td>4213</td>\n",
       "      <td>Ken Kwapis</td>\n",
       "      <td>A</td>\n",
       "    </tr>\n",
       "  </tbody>\n",
       "</table>\n",
       "</div>"
      ],
      "text/plain": [
       "           Title     AirDate  Rating  Num_Votes  DirectedBy group\n",
       "0          Pilot  2005-03-24     7.5       4349  Ken Kwapis     A\n",
       "1  Diversity Day  2005-03-29     8.3       4213  Ken Kwapis     A"
      ]
     },
     "execution_count": 21,
     "metadata": {},
     "output_type": "execute_result"
    }
   ],
   "source": [
    "df09[:2]"
   ]
  },
  {
   "cell_type": "markdown",
   "metadata": {
    "id": "csCP4TOA2nj5"
   },
   "source": [
    "# 문제7\n",
    "\n",
    "상기 전처리를 완료한 데이터셋(데이터셋명: movie3)을 이용하여 다음 7~9번 문제에 답하시오.\n",
    "\n",
    "7. (movie3을 이용하여) 감독 별로 영화 흥행 결과를 알아보고자 한다. 여기서 영화의 흥행 변수 ‘success’는 다음과 같이 정의된다.\n",
    "\n",
    "> $success_i=Rating_i×Num Votes_i$\n",
    "\n",
    "‘감독(DirectedBy)’ 별로 ‘흥행(success)‘ 변수의 평균을 계산하고, 이 중 가장 큰 값을 소수 부분을 버리고 정수 부분만 기술하시오.\n",
    "(답안예시) 1234\n"
   ]
  },
  {
   "cell_type": "code",
   "execution_count": 11,
   "metadata": {
    "executionInfo": {
     "elapsed": 8,
     "status": "ok",
     "timestamp": 1672622988535,
     "user": {
      "displayName": "jinyang park",
      "userId": "06576046992691541404"
     },
     "user_tz": -540
    },
    "id": "a9txJ6Bm1qmR"
   },
   "outputs": [],
   "source": [
    "# movie3\n",
    "movie3 = df09.copy()\n",
    "df7 = movie3.copy()"
   ]
  },
  {
   "cell_type": "code",
   "execution_count": 12,
   "metadata": {
    "colab": {
     "base_uri": "https://localhost:8080/"
    },
    "executionInfo": {
     "elapsed": 4,
     "status": "ok",
     "timestamp": 1672623736328,
     "user": {
      "displayName": "jinyang park",
      "userId": "06576046992691541404"
     },
     "user_tz": -540
    },
    "id": "KX257uI4BqQ4",
    "outputId": "2684a02c-4200-4901-9d9e-c9604f35ed2c"
   },
   "outputs": [
    {
     "data": {
      "text/plain": [
       "DirectedBy\n",
       "Ken Kwapis        32720.700000\n",
       "Bryan Gordon      31096.050000\n",
       "Paul Feig         28574.300000\n",
       "Harold Ramis      26523.466667\n",
       "Amy Heckerling    26301.600000\n",
       "Name: success, dtype: float64"
      ]
     },
     "execution_count": 12,
     "metadata": {},
     "output_type": "execute_result"
    }
   ],
   "source": [
    "# 감독 별로 영화 흥행 결과를 알아보고자 한다. 여기서 영화의 흥행 변수 ‘success’는 다음과 같이 정의된다.\n",
    "# success_i=Rating_i×Num_Votes_i ‘감독(DirectedBy)’ 별로 ‘흥행(success)‘ 변수의 평균을 계산하고, \n",
    "# 이 중 가장 큰 값을 소수 부분을 버리고 정수 부분만 기술하시오. (답안예시) 1234\n",
    "\n",
    "df7['success'] = df7['Rating'] * df7['Num_Votes']\n",
    "df7\n",
    "df7.groupby('DirectedBy').success.mean()\n",
    "df7.groupby('DirectedBy').success.mean().nlargest(5)"
   ]
  },
  {
   "cell_type": "code",
   "execution_count": 13,
   "metadata": {
    "colab": {
     "base_uri": "https://localhost:8080/"
    },
    "executionInfo": {
     "elapsed": 5,
     "status": "ok",
     "timestamp": 1672623897299,
     "user": {
      "displayName": "jinyang park",
      "userId": "06576046992691541404"
     },
     "user_tz": -540
    },
    "id": "smU4hiH0ZDxP",
    "outputId": "c2664229-483b-40fd-e75c-fb1ddbd8a426"
   },
   "outputs": [
    {
     "data": {
      "text/plain": [
       "32720.0"
      ]
     },
     "execution_count": 13,
     "metadata": {},
     "output_type": "execute_result"
    }
   ],
   "source": [
    "round(32720.700000, -1)"
   ]
  },
  {
   "cell_type": "markdown",
   "metadata": {
    "id": "S6BatPBD5zhO"
   },
   "source": [
    "# 문제8\n",
    "\n",
    "8. (movie3을 이용하여) 영화 평가에 참여한 총 투표 규모는 영화의 컨텐츠 뿐만 아니라 서비스 공개 시기에 따라 달라질 가능성이 있다. \n",
    "\n",
    "영화 공개 년도에 따라 투표 수에 차이가 존재하는지 검정하기 위해 수립한 가설은 다음과 같다. \n",
    "\n",
    "\n",
    "대립 가설($H_1$): 공개년도그룹(group)에 따라 평균 투표 수(Num_Votes)는 달라진다.\n",
    "\n",
    "적절한 검정 방법을 택하여 위 가설을 검정할 때, 검정통계량 값(A)과 요인의 자유도(B)의 합(A+B)을 기술하시오. \n",
    "-\t그룹 간 등분산성 및 정규성은 만족한다고 가정한다.\n",
    "-\t툴별 가이드(python)\n",
    "\n",
    "소수점 셋째 자리에서 반올림하여 소수점 둘째 자리까지 기술하시오.\n",
    "(답안예시) 12.34\n"
   ]
  },
  {
   "cell_type": "code",
   "execution_count": 14,
   "metadata": {
    "executionInfo": {
     "elapsed": 3,
     "status": "ok",
     "timestamp": 1672624315933,
     "user": {
      "displayName": "jinyang park",
      "userId": "06576046992691541404"
     },
     "user_tz": -540
    },
    "id": "foDbLISpowrp"
   },
   "outputs": [
    {
     "data": {
      "text/html": [
       "<div>\n",
       "<style scoped>\n",
       "    .dataframe tbody tr th:only-of-type {\n",
       "        vertical-align: middle;\n",
       "    }\n",
       "\n",
       "    .dataframe tbody tr th {\n",
       "        vertical-align: top;\n",
       "    }\n",
       "\n",
       "    .dataframe thead th {\n",
       "        text-align: right;\n",
       "    }\n",
       "</style>\n",
       "<table border=\"1\" class=\"dataframe\">\n",
       "  <thead>\n",
       "    <tr style=\"text-align: right;\">\n",
       "      <th></th>\n",
       "      <th>Title</th>\n",
       "      <th>AirDate</th>\n",
       "      <th>Rating</th>\n",
       "      <th>Num_Votes</th>\n",
       "      <th>DirectedBy</th>\n",
       "      <th>group</th>\n",
       "      <th>group_2</th>\n",
       "      <th>group_3</th>\n",
       "    </tr>\n",
       "  </thead>\n",
       "  <tbody>\n",
       "    <tr>\n",
       "      <th>0</th>\n",
       "      <td>Pilot</td>\n",
       "      <td>2005-03-24</td>\n",
       "      <td>7.5</td>\n",
       "      <td>4349</td>\n",
       "      <td>Ken Kwapis</td>\n",
       "      <td>A</td>\n",
       "      <td>a</td>\n",
       "      <td>A</td>\n",
       "    </tr>\n",
       "    <tr>\n",
       "      <th>1</th>\n",
       "      <td>Diversity Day</td>\n",
       "      <td>2005-03-29</td>\n",
       "      <td>8.3</td>\n",
       "      <td>4213</td>\n",
       "      <td>Ken Kwapis</td>\n",
       "      <td>A</td>\n",
       "      <td>a</td>\n",
       "      <td>A</td>\n",
       "    </tr>\n",
       "    <tr>\n",
       "      <th>2</th>\n",
       "      <td>Health Care</td>\n",
       "      <td>2005-04-05</td>\n",
       "      <td>7.8</td>\n",
       "      <td>3536</td>\n",
       "      <td>Ken Whittingham</td>\n",
       "      <td>A</td>\n",
       "      <td>a</td>\n",
       "      <td>A</td>\n",
       "    </tr>\n",
       "  </tbody>\n",
       "</table>\n",
       "</div>"
      ],
      "text/plain": [
       "           Title     AirDate  Rating  Num_Votes       DirectedBy group  \\\n",
       "0          Pilot  2005-03-24     7.5       4349       Ken Kwapis     A   \n",
       "1  Diversity Day  2005-03-29     8.3       4213       Ken Kwapis     A   \n",
       "2    Health Care  2005-04-05     7.8       3536  Ken Whittingham     A   \n",
       "\n",
       "  group_2 group_3  \n",
       "0       a       A  \n",
       "1       a       A  \n",
       "2       a       A  "
      ]
     },
     "execution_count": 14,
     "metadata": {},
     "output_type": "execute_result"
    }
   ],
   "source": [
    "df8 = movie3.copy()\n",
    "df8[:3]"
   ]
  },
  {
   "cell_type": "code",
   "execution_count": 15,
   "metadata": {
    "executionInfo": {
     "elapsed": 667,
     "status": "ok",
     "timestamp": 1672624405165,
     "user": {
      "displayName": "jinyang park",
      "userId": "06576046992691541404"
     },
     "user_tz": -540
    },
    "id": "L-5OOD2YLZcF"
   },
   "outputs": [],
   "source": [
    "# ANOVA 검정\n",
    "\n",
    "from statsmodels.stats.anova import anova_lm\n",
    "from statsmodels.formula.api import ols"
   ]
  },
  {
   "cell_type": "code",
   "execution_count": 16,
   "metadata": {
    "colab": {
     "base_uri": "https://localhost:8080/",
     "height": 112
    },
    "executionInfo": {
     "elapsed": 12,
     "status": "ok",
     "timestamp": 1672624517058,
     "user": {
      "displayName": "jinyang park",
      "userId": "06576046992691541404"
     },
     "user_tz": -540
    },
    "id": "gpiKEwxTLvMM",
    "outputId": "39e44396-4cae-43e9-d8ee-ce5a511aadc2"
   },
   "outputs": [
    {
     "data": {
      "text/html": [
       "<div>\n",
       "<style scoped>\n",
       "    .dataframe tbody tr th:only-of-type {\n",
       "        vertical-align: middle;\n",
       "    }\n",
       "\n",
       "    .dataframe tbody tr th {\n",
       "        vertical-align: top;\n",
       "    }\n",
       "\n",
       "    .dataframe thead th {\n",
       "        text-align: right;\n",
       "    }\n",
       "</style>\n",
       "<table border=\"1\" class=\"dataframe\">\n",
       "  <thead>\n",
       "    <tr style=\"text-align: right;\">\n",
       "      <th></th>\n",
       "      <th>df</th>\n",
       "      <th>sum_sq</th>\n",
       "      <th>mean_sq</th>\n",
       "      <th>F</th>\n",
       "      <th>PR(&gt;F)</th>\n",
       "    </tr>\n",
       "  </thead>\n",
       "  <tbody>\n",
       "    <tr>\n",
       "      <th>group</th>\n",
       "      <td>2.0</td>\n",
       "      <td>2.362951e+07</td>\n",
       "      <td>1.181476e+07</td>\n",
       "      <td>16.028213</td>\n",
       "      <td>3.805527e-07</td>\n",
       "    </tr>\n",
       "    <tr>\n",
       "      <th>Residual</th>\n",
       "      <td>185.0</td>\n",
       "      <td>1.363677e+08</td>\n",
       "      <td>7.371225e+05</td>\n",
       "      <td>NaN</td>\n",
       "      <td>NaN</td>\n",
       "    </tr>\n",
       "  </tbody>\n",
       "</table>\n",
       "</div>"
      ],
      "text/plain": [
       "             df        sum_sq       mean_sq          F        PR(>F)\n",
       "group       2.0  2.362951e+07  1.181476e+07  16.028213  3.805527e-07\n",
       "Residual  185.0  1.363677e+08  7.371225e+05        NaN           NaN"
      ]
     },
     "execution_count": 16,
     "metadata": {},
     "output_type": "execute_result"
    }
   ],
   "source": [
    "model8 = ols(formula='Num_Votes ~ group', data = df8).fit()\n",
    "model8\n",
    "anova_lm(model8)"
   ]
  },
  {
   "cell_type": "code",
   "execution_count": 17,
   "metadata": {
    "colab": {
     "base_uri": "https://localhost:8080/"
    },
    "executionInfo": {
     "elapsed": 7,
     "status": "ok",
     "timestamp": 1672624607572,
     "user": {
      "displayName": "jinyang park",
      "userId": "06576046992691541404"
     },
     "user_tz": -540
    },
    "id": "v36UJoNdMEPY",
    "outputId": "27df3e35-58b5-45b6-efcb-09ef8fc1e392"
   },
   "outputs": [
    {
     "data": {
      "text/plain": [
       "18.03"
      ]
     },
     "execution_count": 17,
     "metadata": {},
     "output_type": "execute_result"
    }
   ],
   "source": [
    "round(16.028213 + 2.0, 2)"
   ]
  },
  {
   "cell_type": "code",
   "execution_count": null,
   "metadata": {},
   "outputs": [],
   "source": []
  }
 ],
 "metadata": {
  "colab": {
   "authorship_tag": "ABX9TyN7gs4k6jhH/0qiOF8DhsPP",
   "provenance": [
    {
     "file_id": "1RUTaMh0aUhVAbwG1Xt1JPswiGRLI97bQ",
     "timestamp": 1672620075490
    },
    {
     "file_id": "1r00tQU_E_6ToTTs330vTTYbpLrLG2Vah",
     "timestamp": 1672576165262
    },
    {
     "file_id": "1mCBkRBSjRNq2IMnrV2H1ksme1tJBP8c4",
     "timestamp": 1672572067134
    },
    {
     "file_id": "1UYLgiU1GseSOSFaO7DpHqs-J4z9SiU5m",
     "timestamp": 1672570452096
    },
    {
     "file_id": "1gSSPu1U7aDtnwfrFRCgGf58kIKLmhVl7",
     "timestamp": 1672565150634
    },
    {
     "file_id": "107mhffIDgezMiUzFvJ0YBTBchaj1BlA-",
     "timestamp": 1672546570721
    },
    {
     "file_id": "1EDujMMvtee6iAnOYDmqWI_LrxNLXQK4U",
     "timestamp": 1672482563271
    }
   ],
   "toc_visible": true
  },
  "kernelspec": {
   "display_name": "Python 3 (ipykernel)",
   "language": "python",
   "name": "python3"
  },
  "language_info": {
   "codemirror_mode": {
    "name": "ipython",
    "version": 3
   },
   "file_extension": ".py",
   "mimetype": "text/x-python",
   "name": "python",
   "nbconvert_exporter": "python",
   "pygments_lexer": "ipython3",
   "version": "3.9.12"
  }
 },
 "nbformat": 4,
 "nbformat_minor": 1
}
