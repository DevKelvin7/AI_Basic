{
 "cells": [
  {
   "cell_type": "markdown",
   "metadata": {
    "id": "k4zYsf3Qzyo3"
   },
   "source": [
    "# [KDT] ch1 데이타분석용 파이썬 이해"
   ]
  },
  {
   "cell_type": "code",
   "execution_count": 10,
   "metadata": {
    "id": "Jn4muvF6fYW-",
    "outputId": "d6dd4a00-e7c1-44b4-db9a-215d6ff1d6a7"
   },
   "outputs": [
    {
     "data": {
      "text/plain": [
       "'/Users/kelvin/Desktop/workspace/AI_Basic'"
      ]
     },
     "execution_count": 10,
     "metadata": {},
     "output_type": "execute_result"
    }
   ],
   "source": [
    "import os\n",
    "os.getcwd()"
   ]
  },
  {
   "cell_type": "code",
   "execution_count": 11,
   "metadata": {
    "id": "FzscBurRzyo6"
   },
   "outputs": [],
   "source": [
    "import pandas as pd\n",
    "import numpy as np\n",
    "import warnings\n",
    "warnings.filterwarnings('ignore')"
   ]
  },
  {
   "cell_type": "code",
   "execution_count": 42,
   "metadata": {
    "id": "RgXhNucwzyo7"
   },
   "outputs": [
    {
     "data": {
      "text/plain": [
       "'1.24.2'"
      ]
     },
     "execution_count": 42,
     "metadata": {},
     "output_type": "execute_result"
    }
   ],
   "source": [
    "pd.__version__\n",
    "np.__version__\n"
   ]
  },
  {
   "cell_type": "markdown",
   "metadata": {
    "id": "MQHG6qF9gnyl"
   },
   "source": [
    "# 1. Numpy"
   ]
  },
  {
   "cell_type": "code",
   "execution_count": 4,
   "metadata": {
    "id": "b33-j2Frgnyq"
   },
   "outputs": [],
   "source": [
    "#import numpy \n",
    "import numpy as np"
   ]
  },
  {
   "cell_type": "code",
   "execution_count": 22,
   "metadata": {
    "colab": {
     "base_uri": "https://localhost:8080/"
    },
    "executionInfo": {
     "elapsed": 7,
     "status": "ok",
     "timestamp": 1672369492989,
     "user": {
      "displayName": "jinyang park",
      "userId": "06576046992691541404"
     },
     "user_tz": -540
    },
    "id": "aW5wIu4sgnyu",
    "outputId": "aa98ca11-51e3-4924-acb6-8dfe4ea1c886",
    "scrolled": true
   },
   "outputs": [
    {
     "data": {
      "text/plain": [
       "(5,)"
      ]
     },
     "execution_count": 22,
     "metadata": {},
     "output_type": "execute_result"
    }
   ],
   "source": [
    "# nd array 1차원\n",
    "np.array([1,2,3,4,5]).shape"
   ]
  },
  {
   "cell_type": "code",
   "execution_count": 26,
   "metadata": {
    "colab": {
     "base_uri": "https://localhost:8080/"
    },
    "executionInfo": {
     "elapsed": 240,
     "status": "ok",
     "timestamp": 1672370394872,
     "user": {
      "displayName": "jinyang park",
      "userId": "06576046992691541404"
     },
     "user_tz": -540
    },
    "id": "f_zyo_5Ugnyy",
    "outputId": "9d1dad04-d520-45e9-c5d8-c86cb5dfb796"
   },
   "outputs": [
    {
     "data": {
      "text/plain": [
       "(1, 15)"
      ]
     },
     "execution_count": 26,
     "metadata": {},
     "output_type": "execute_result"
    }
   ],
   "source": [
    "# nd array 2차원\n",
    "np.array([[ 1,  3,  5,  7,  9,11, 13, 15, 17, 19, 21, 23, 25, 27, 29]]).shape"
   ]
  },
  {
   "cell_type": "code",
   "execution_count": 43,
   "metadata": {
    "colab": {
     "base_uri": "https://localhost:8080/"
    },
    "executionInfo": {
     "elapsed": 4,
     "status": "ok",
     "timestamp": 1672370395962,
     "user": {
      "displayName": "jinyang park",
      "userId": "06576046992691541404"
     },
     "user_tz": -540
    },
    "id": "MMj33MsHgny1",
    "outputId": "d9fc5025-daa5-44d3-b421-977d7cc11a9e"
   },
   "outputs": [
    {
     "data": {
      "text/plain": [
       "(1, 1, 15)"
      ]
     },
     "execution_count": 43,
     "metadata": {},
     "output_type": "execute_result"
    }
   ],
   "source": [
    "# nd array 3차원\n",
    "np.array([[[ 1,  3,  5,  7,  9, 11, 13, 15, 17, 19, 21, 23, 25, 27, 29]]]).shape"
   ]
  },
  {
   "cell_type": "markdown",
   "metadata": {
    "id": "QspHZJnRgny8"
   },
   "source": [
    "### 1_1. ndarray의 데이터 타입"
   ]
  },
  {
   "cell_type": "code",
   "execution_count": 30,
   "metadata": {},
   "outputs": [
    {
     "name": "stdout",
     "output_type": "stream",
     "text": [
      "<class 'type'>\n",
      "<class 'numpy.ndarray'>\n",
      "[1 2 3] int64\n"
     ]
    }
   ],
   "source": [
    "# int type\n",
    "list1 = [1,2,3]\n",
    "list1\n",
    "print(type(list))\n",
    "array1 = np.array(list1)\n",
    "array1\n",
    "print(type(array1))\n",
    "print(array1, array1.dtype)"
   ]
  },
  {
   "cell_type": "code",
   "execution_count": 35,
   "metadata": {},
   "outputs": [
    {
     "name": "stdout",
     "output_type": "stream",
     "text": [
      "[1. 2. 3. 4.] float64\n"
     ]
    }
   ],
   "source": [
    "# int type + object\n",
    "list2 = [1,2,3,4.0]\n",
    "list2\n",
    "array2 = np.array(list2)\n",
    "array2\n",
    "print(array2,array2.dtype)\n",
    "# int type + float\n"
   ]
  },
  {
   "cell_type": "code",
   "execution_count": 41,
   "metadata": {},
   "outputs": [
    {
     "data": {
      "text/plain": [
       "dtype('float64')"
      ]
     },
     "execution_count": 41,
     "metadata": {},
     "output_type": "execute_result"
    }
   ],
   "source": [
    "# type 변환, astype('float'), astype('int')\n",
    "array_int = np.array([1,2,3])\n",
    "array_float = np.array([1.0, 2.0, 3.0])\n",
    "array_float.dtype\n",
    "\n",
    "array_ch = array_int.astype(float)\n",
    "array_ch.dtype"
   ]
  },
  {
   "cell_type": "markdown",
   "metadata": {
    "id": "2g4oyFqcgny_"
   },
   "source": [
    "### 1_2. ndarray를 편리하게 생성하기 - arange, zeros, ones"
   ]
  },
  {
   "cell_type": "code",
   "execution_count": 45,
   "metadata": {
    "colab": {
     "base_uri": "https://localhost:8080/"
    },
    "executionInfo": {
     "elapsed": 309,
     "status": "ok",
     "timestamp": 1672370529702,
     "user": {
      "displayName": "jinyang park",
      "userId": "06576046992691541404"
     },
     "user_tz": -540
    },
    "id": "n6d-qN9Xgny_",
    "outputId": "f9a5bca6-c2ee-4b4b-a268-e03b7b15e4bc"
   },
   "outputs": [
    {
     "data": {
      "text/plain": [
       "(10,)"
      ]
     },
     "execution_count": 45,
     "metadata": {},
     "output_type": "execute_result"
    }
   ],
   "source": [
    "# np.arange\n",
    "sequence_array = np.arange(10)\n",
    "sequence_array.dtype\n",
    "sequence_array.shape"
   ]
  },
  {
   "cell_type": "code",
   "execution_count": 50,
   "metadata": {
    "colab": {
     "base_uri": "https://localhost:8080/"
    },
    "executionInfo": {
     "elapsed": 248,
     "status": "ok",
     "timestamp": 1672370554080,
     "user": {
      "displayName": "jinyang park",
      "userId": "06576046992691541404"
     },
     "user_tz": -540
    },
    "id": "7gnWcUv5gnzA",
    "outputId": "51c3172c-f66a-42da-b0f6-9f32b6b1bf80"
   },
   "outputs": [
    {
     "data": {
      "text/plain": [
       "(3, 2)"
      ]
     },
     "execution_count": 50,
     "metadata": {},
     "output_type": "execute_result"
    }
   ],
   "source": [
    "#(3, 2) shape을 가지는 모든 원소가 0, dtype은 int32 인 ndarray 생성. \n",
    "zero_array = np.zeros((3,2),dtype=int)\n",
    "zero_array.dtype\n",
    "zero_array.shape\n",
    "zero_array\n",
    "#(3, 2) shape을 가지는 모든 원소가 1인 ndarray 생성.\n",
    "ones_array = np.ones((3,2))\n",
    "ones_array.dtype\n",
    "ones_array.shape"
   ]
  },
  {
   "cell_type": "markdown",
   "metadata": {
    "id": "vwdC1ch7gnzA"
   },
   "source": [
    "### 1_3. ndarray reshape"
   ]
  },
  {
   "cell_type": "code",
   "execution_count": 59,
   "metadata": {
    "colab": {
     "base_uri": "https://localhost:8080/"
    },
    "executionInfo": {
     "elapsed": 315,
     "status": "ok",
     "timestamp": 1672370622072,
     "user": {
      "displayName": "jinyang park",
      "userId": "06576046992691541404"
     },
     "user_tz": -540
    },
    "id": "dlCEKDxIgnzB",
    "outputId": "38ac0b2e-2e79-4462-89b5-239f05ac9e6d"
   },
   "outputs": [],
   "source": [
    "# reshape\n",
    "array1 = np.arange(10)\n",
    "array1\n",
    "# (2, 5) shape으로 변환\n",
    "array2 = array1.reshape(2,5)\n",
    "#(5, 2) shape으로 변환\n",
    "array3 = array1.reshape(5,2)"
   ]
  },
  {
   "cell_type": "code",
   "execution_count": 54,
   "metadata": {
    "colab": {
     "base_uri": "https://localhost:8080/",
     "height": 172
    },
    "executionInfo": {
     "elapsed": 257,
     "status": "error",
     "timestamp": 1672370631666,
     "user": {
      "displayName": "jinyang park",
      "userId": "06576046992691541404"
     },
     "user_tz": -540
    },
    "id": "ujqn-PGXgnzB",
    "outputId": "359637cf-25a8-4b92-ff84-5a24acdc708d"
   },
   "outputs": [
    {
     "ename": "NameError",
     "evalue": "name 'array3' is not defined",
     "output_type": "error",
     "traceback": [
      "\u001b[0;31m---------------------------------------------------------------------------\u001b[0m",
      "\u001b[0;31mNameError\u001b[0m                                 Traceback (most recent call last)",
      "Cell \u001b[0;32mIn[54], line 2\u001b[0m\n\u001b[1;32m      1\u001b[0m \u001b[38;5;66;03m# reshape (X)\u001b[39;00m\n\u001b[0;32m----> 2\u001b[0m array4 \u001b[38;5;241m=\u001b[39m \u001b[43marray3\u001b[49m\u001b[38;5;241m.\u001b[39mreshape(\u001b[38;5;241m4\u001b[39m,\u001b[38;5;241m3\u001b[39m)\n",
      "\u001b[0;31mNameError\u001b[0m: name 'array3' is not defined"
     ]
    }
   ],
   "source": [
    "# reshape (X)\n",
    "array4 = array3.reshape(4,3)"
   ]
  },
  {
   "cell_type": "code",
   "execution_count": 60,
   "metadata": {
    "colab": {
     "base_uri": "https://localhost:8080/"
    },
    "executionInfo": {
     "elapsed": 257,
     "status": "ok",
     "timestamp": 1672370645213,
     "user": {
      "displayName": "jinyang park",
      "userId": "06576046992691541404"
     },
     "user_tz": -540
    },
    "id": "BToiIwkHgnzC",
    "outputId": "7654e568-25bc-4f3e-a755-2a17e208a70a"
   },
   "outputs": [
    {
     "data": {
      "text/plain": [
       "array([[0, 1, 2, 3, 4],\n",
       "       [5, 6, 7, 8, 9]])"
      ]
     },
     "execution_count": 60,
     "metadata": {},
     "output_type": "execute_result"
    }
   ],
   "source": [
    "# reshape(-1)\n",
    "array5 = array3.reshape(2,-1)\n",
    "array5"
   ]
  },
  {
   "cell_type": "code",
   "execution_count": 61,
   "metadata": {
    "colab": {
     "base_uri": "https://localhost:8080/",
     "height": 190
    },
    "executionInfo": {
     "elapsed": 281,
     "status": "error",
     "timestamp": 1672370652761,
     "user": {
      "displayName": "jinyang park",
      "userId": "06576046992691541404"
     },
     "user_tz": -540
    },
    "id": "ScbKYyghgnzC",
    "outputId": "ce63cfd9-1048-4d95-cbe5-5719a819cd2d"
   },
   "outputs": [
    {
     "ename": "ValueError",
     "evalue": "cannot reshape array of size 10 into shape (4)",
     "output_type": "error",
     "traceback": [
      "\u001b[0;31m---------------------------------------------------------------------------\u001b[0m",
      "\u001b[0;31mValueError\u001b[0m                                Traceback (most recent call last)",
      "Cell \u001b[0;32mIn[61], line 2\u001b[0m\n\u001b[1;32m      1\u001b[0m \u001b[38;5;66;03m# reshape (X)\u001b[39;00m\n\u001b[0;32m----> 2\u001b[0m array5 \u001b[38;5;241m=\u001b[39m \u001b[43marray3\u001b[49m\u001b[38;5;241;43m.\u001b[39;49m\u001b[43mreshape\u001b[49m\u001b[43m(\u001b[49m\u001b[38;5;241;43m-\u001b[39;49m\u001b[38;5;241;43m1\u001b[39;49m\u001b[43m,\u001b[49m\u001b[38;5;241;43m4\u001b[39;49m\u001b[43m)\u001b[49m\n",
      "\u001b[0;31mValueError\u001b[0m: cannot reshape array of size 10 into shape (4)"
     ]
    }
   ],
   "source": [
    "# reshape (X)\n",
    "array5 = array3.reshape(-1,4)"
   ]
  },
  {
   "cell_type": "code",
   "execution_count": 67,
   "metadata": {
    "colab": {
     "base_uri": "https://localhost:8080/"
    },
    "executionInfo": {
     "elapsed": 484,
     "status": "ok",
     "timestamp": 1672370659861,
     "user": {
      "displayName": "jinyang park",
      "userId": "06576046992691541404"
     },
     "user_tz": -540
    },
    "id": "Lz1r6OFqgnzD",
    "outputId": "5afbe71a-b12c-41e3-eb59-6986c65090c7"
   },
   "outputs": [
    {
     "name": "stdout",
     "output_type": "stream",
     "text": [
      "array1:\n",
      " [0, 1, 2, 3, 4, 5, 6, 7]\n",
      "array1:\n",
      " [0 1 2 3 4 5 6 7]\n",
      "array3d:\n",
      " [[[0, 1], [2, 3]], [[4, 5], [6, 7]]]\n",
      "array3d:\n",
      " [[[0 1]\n",
      "  [2 3]]\n",
      "\n",
      " [[4 5]\n",
      "  [6 7]]]\n",
      "array5:\n",
      " [[0], [1], [2], [3], [4], [5], [6], [7]]\n",
      "array5:\n",
      " [[0]\n",
      " [1]\n",
      " [2]\n",
      " [3]\n",
      " [4]\n",
      " [5]\n",
      " [6]\n",
      " [7]]\n"
     ]
    }
   ],
   "source": [
    "# reshape (ndarray 차원변환) \n",
    "array1 = np.arange(8)\n",
    "print('array1:\\n',array1.tolist())\n",
    "print('array1:\\n',array1)\n",
    "# 1차원 ndarray를 3차원 ndarray로 변환 \n",
    "array3d = array1.reshape((2,2,2))\n",
    "print('array3d:\\n',array3d.tolist())\n",
    "print('array3d:\\n',array3d)\n",
    "# 3차원 ndarray를 2차원 ndarray로 변환하되 칼럼갯수는 1 \n",
    "array5 = array3d.reshape(-1,1)\n",
    "print('array5:\\n',array5.tolist())\n",
    "print('array5:\\n',array5)\n",
    "# 1차원 ndarray를 2차원 ndarray로 변환화되 칼럼 갯수는 1 \n",
    "\n",
    "# 3차원 ndarray를 1차원으로 변환 "
   ]
  },
  {
   "cell_type": "markdown",
   "metadata": {
    "id": "nrYmBXXFgnzE"
   },
   "source": [
    "### 1_4. ndarray indexing"
   ]
  },
  {
   "cell_type": "markdown",
   "metadata": {
    "id": "EdJ6_-0zgnzE"
   },
   "source": [
    "* 단일 값 추출 (1d array)"
   ]
  },
  {
   "cell_type": "code",
   "execution_count": 70,
   "metadata": {
    "colab": {
     "base_uri": "https://localhost:8080/"
    },
    "executionInfo": {
     "elapsed": 345,
     "status": "ok",
     "timestamp": 1664428844819,
     "user": {
      "displayName": "jinyang park",
      "userId": "06576046992691541404"
     },
     "user_tz": -540
    },
    "id": "8RbAjk8XgnzF",
    "outputId": "2ce21c61-40b1-4cca-e0a2-f4c39fb008c8"
   },
   "outputs": [
    {
     "name": "stdout",
     "output_type": "stream",
     "text": [
      "arr= [ 0  1  2  3  4  5  6  7  8  9 10 11]\n"
     ]
    }
   ],
   "source": [
    "# 1에서 부터 12 까지의 1차원 ndarray 생성 \n",
    "arr = np.arange(12)\n",
    "print('arr=',arr)"
   ]
  },
  {
   "cell_type": "code",
   "execution_count": 72,
   "metadata": {
    "colab": {
     "base_uri": "https://localhost:8080/"
    },
    "executionInfo": {
     "elapsed": 347,
     "status": "ok",
     "timestamp": 1664428854881,
     "user": {
      "displayName": "jinyang park",
      "userId": "06576046992691541404"
     },
     "user_tz": -540
    },
    "id": "UvhTU2HognzF",
    "outputId": "13ff0585-d763-4721-af31-ecb8bc7eb5eb"
   },
   "outputs": [
    {
     "name": "stdout",
     "output_type": "stream",
     "text": [
      "11\n"
     ]
    }
   ],
   "source": [
    "# array[-1] 맨 뒤값\n",
    "print(arr[-1])"
   ]
  },
  {
   "cell_type": "markdown",
   "metadata": {
    "id": "3JIJwBdkskl4"
   },
   "source": [
    "단일 값 추출 (2d array)"
   ]
  },
  {
   "cell_type": "code",
   "execution_count": 74,
   "metadata": {
    "colab": {
     "base_uri": "https://localhost:8080/"
    },
    "executionInfo": {
     "elapsed": 518,
     "status": "ok",
     "timestamp": 1664430573738,
     "user": {
      "displayName": "jinyang park",
      "userId": "06576046992691541404"
     },
     "user_tz": -540
    },
    "id": "DfrUL2awgnzH",
    "outputId": "49020849-189f-44d7-e4b8-80bea2d14797"
   },
   "outputs": [
    {
     "data": {
      "text/plain": [
       "array([[ 0,  1,  2,  3,  4,  5],\n",
       "       [ 6,  7,  8,  9, 10, 11]])"
      ]
     },
     "execution_count": 74,
     "metadata": {},
     "output_type": "execute_result"
    }
   ],
   "source": [
    "# 실습 array 생성\n",
    "arr = np.arange(12)\n",
    "arr2 = arr.reshape(2,-1)"
   ]
  },
  {
   "cell_type": "code",
   "execution_count": 83,
   "metadata": {
    "colab": {
     "base_uri": "https://localhost:8080/"
    },
    "executionInfo": {
     "elapsed": 335,
     "status": "ok",
     "timestamp": 1664429924380,
     "user": {
      "displayName": "jinyang park",
      "userId": "06576046992691541404"
     },
     "user_tz": -540
    },
    "id": "OVD2uugMs3vm",
    "outputId": "a0fea038-9545-4409-9f8c-57b1397721c1"
   },
   "outputs": [
    {
     "name": "stdout",
     "output_type": "stream",
     "text": [
      "11\n"
     ]
    }
   ],
   "source": [
    "# ndarray indexing\n",
    "arr = np.arange(12)\n",
    "arr2 = arr.reshape(2,-1)\n",
    "print(arr2[1,5])"
   ]
  },
  {
   "cell_type": "markdown",
   "metadata": {
    "id": "rLaglLtxgnzH"
   },
   "source": [
    "* 슬라이싱 - 연속된 인덱스상의 값을 추출하는 방식"
   ]
  },
  {
   "cell_type": "code",
   "execution_count": null,
   "metadata": {
    "colab": {
     "base_uri": "https://localhost:8080/"
    },
    "executionInfo": {
     "elapsed": 527,
     "status": "ok",
     "timestamp": 1664433199986,
     "user": {
      "displayName": "jinyang park",
      "userId": "06576046992691541404"
     },
     "user_tz": -540
    },
    "id": "I9l5lHBHyc_z",
    "outputId": "7a9cd89d-713e-4bb5-d668-47303231f4d1"
   },
   "outputs": [],
   "source": [
    "# 실습 array 생성\n",
    "arr = np.arange(12)\n",
    "arr2 = arr.reshape(2,-1)"
   ]
  },
  {
   "cell_type": "code",
   "execution_count": 85,
   "metadata": {
    "colab": {
     "base_uri": "https://localhost:8080/"
    },
    "executionInfo": {
     "elapsed": 1118,
     "status": "ok",
     "timestamp": 1664436184190,
     "user": {
      "displayName": "jinyang park",
      "userId": "06576046992691541404"
     },
     "user_tz": -540
    },
    "id": "nVz-hSBNgnzI",
    "outputId": "2c694457-cef7-4a61-8d7c-07713d47ddce"
   },
   "outputs": [
    {
     "data": {
      "text/plain": [
       "array([0, 1, 2, 3, 4])"
      ]
     },
     "execution_count": 85,
     "metadata": {},
     "output_type": "execute_result"
    }
   ],
   "source": [
    "# 슬라이싱 1d\n",
    "arr[0:5]"
   ]
  },
  {
   "cell_type": "code",
   "execution_count": 87,
   "metadata": {
    "colab": {
     "base_uri": "https://localhost:8080/"
    },
    "executionInfo": {
     "elapsed": 4,
     "status": "ok",
     "timestamp": 1664436171390,
     "user": {
      "displayName": "jinyang park",
      "userId": "06576046992691541404"
     },
     "user_tz": -540
    },
    "id": "5cxYM6-9zueT",
    "outputId": "559f38f9-0c6f-4f59-e484-f3b11ebe3d4f"
   },
   "outputs": [
    {
     "data": {
      "text/plain": [
       "array([ 7,  8,  9, 10])"
      ]
     },
     "execution_count": 87,
     "metadata": {},
     "output_type": "execute_result"
    }
   ],
   "source": [
    "# 슬라이싱 2d\n",
    "arr2[1,1:5]"
   ]
  },
  {
   "cell_type": "markdown",
   "metadata": {
    "id": "xsPz5_w7gnzK"
   },
   "source": [
    "* 팬시 인덱싱 - 리스트나 ndarray로 인덱스 집합을 지정하는 방식"
   ]
  },
  {
   "cell_type": "code",
   "execution_count": 89,
   "metadata": {
    "colab": {
     "base_uri": "https://localhost:8080/"
    },
    "executionInfo": {
     "elapsed": 864,
     "status": "ok",
     "timestamp": 1664433225939,
     "user": {
      "displayName": "jinyang park",
      "userId": "06576046992691541404"
     },
     "user_tz": -540
    },
    "id": "US9Ev7Us81ZY",
    "outputId": "8ed25900-9c5b-4ea8-e7ce-1cb66efcb631"
   },
   "outputs": [
    {
     "name": "stdout",
     "output_type": "stream",
     "text": [
      "arr_12\n",
      " [ 0  1  2  3  4  5  6  7  8  9 10 11]\n",
      "arr_26\n",
      " [[ 0  1  2  3  4  5]\n",
      " [ 6  7  8  9 10 11]]\n",
      "arr_34\n",
      " [[ 0  1  2  3]\n",
      " [ 4  5  6  7]\n",
      " [ 8  9 10 11]]\n"
     ]
    }
   ],
   "source": [
    "# 실습 array 생성\n",
    "arr_12 = np.arange(12)\n",
    "print('arr_12\\n', arr_12)\n",
    "arr_26 = arr_12.reshape(2,6)\n",
    "print('arr_26\\n', arr_26)\n",
    "arr_34 = arr_12.reshape(3,-1)\n",
    "print('arr_34\\n', arr_34)"
   ]
  },
  {
   "cell_type": "code",
   "execution_count": 91,
   "metadata": {
    "colab": {
     "base_uri": "https://localhost:8080/"
    },
    "executionInfo": {
     "elapsed": 924,
     "status": "ok",
     "timestamp": 1664436202733,
     "user": {
      "displayName": "jinyang park",
      "userId": "06576046992691541404"
     },
     "user_tz": -540
    },
    "id": "FxyKyLZt9BFX",
    "outputId": "9629b6c9-1585-47d3-d120-c303cc9102d2"
   },
   "outputs": [
    {
     "data": {
      "text/plain": [
       "array([[0, 1],\n",
       "       [4, 5]])"
      ]
     },
     "execution_count": 91,
     "metadata": {},
     "output_type": "execute_result"
    }
   ],
   "source": [
    "# 팬시 인덱싱 지정할 수 있음\n",
    "arr_34[[0,1],0:2]"
   ]
  },
  {
   "cell_type": "markdown",
   "metadata": {
    "id": "C2HU1FmMgnzL"
   },
   "source": [
    "* 불린 인덱싱- True, False 조건으로 인덱스 집합을 지정하는 방식"
   ]
  },
  {
   "cell_type": "code",
   "execution_count": null,
   "metadata": {
    "colab": {
     "base_uri": "https://localhost:8080/"
    },
    "executionInfo": {
     "elapsed": 463,
     "status": "ok",
     "timestamp": 1664437251513,
     "user": {
      "displayName": "jinyang park",
      "userId": "06576046992691541404"
     },
     "user_tz": -540
    },
    "id": "m8xlQwC1MNZb",
    "outputId": "27159b9a-b939-408c-fff7-19c9b31e2142"
   },
   "outputs": [],
   "source": [
    "# 실습 array 생성\n",
    "arr_12 = np.arange(12)\n",
    "print('arr_12\\n', arr_12)"
   ]
  },
  {
   "cell_type": "code",
   "execution_count": 93,
   "metadata": {
    "colab": {
     "base_uri": "https://localhost:8080/"
    },
    "executionInfo": {
     "elapsed": 1640,
     "status": "ok",
     "timestamp": 1664437998559,
     "user": {
      "displayName": "jinyang park",
      "userId": "06576046992691541404"
     },
     "user_tz": -540
    },
    "id": "YsOwHzVgMNfF",
    "outputId": "62d610a8-0e55-4831-b3a9-aa02c01bc0aa"
   },
   "outputs": [
    {
     "data": {
      "text/plain": [
       "array([False, False, False, False, False,  True,  True,  True,  True,\n",
       "        True,  True,  True])"
      ]
     },
     "execution_count": 93,
     "metadata": {},
     "output_type": "execute_result"
    }
   ],
   "source": [
    "# 불린 인덱싱\n",
    "arr_12 > 4"
   ]
  },
  {
   "cell_type": "code",
   "execution_count": 95,
   "metadata": {
    "colab": {
     "base_uri": "https://localhost:8080/"
    },
    "executionInfo": {
     "elapsed": 582,
     "status": "ok",
     "timestamp": 1664439053529,
     "user": {
      "displayName": "jinyang park",
      "userId": "06576046992691541404"
     },
     "user_tz": -540
    },
    "id": "lTMkOTjCgnzM",
    "outputId": "c6702f33-c90f-41c9-ad01-8aceb5e85d46"
   },
   "outputs": [
    {
     "data": {
      "text/plain": [
       "array([ 5,  6,  7,  8,  9, 10, 11])"
      ]
     },
     "execution_count": 95,
     "metadata": {},
     "output_type": "execute_result"
    }
   ],
   "source": [
    "# 불린 인덱싱, boolean_indexes => boolean_indexes는 필터링에 활용\n",
    "arr_12[arr_12 > 4]"
   ]
  },
  {
   "cell_type": "code",
   "execution_count": 96,
   "metadata": {
    "colab": {
     "base_uri": "https://localhost:8080/"
    },
    "executionInfo": {
     "elapsed": 2,
     "status": "ok",
     "timestamp": 1664439429722,
     "user": {
      "displayName": "jinyang park",
      "userId": "06576046992691541404"
     },
     "user_tz": -540
    },
    "id": "RRZ8_YyDTNHG",
    "outputId": "2ef4e092-ec3f-4da1-d63d-4cacd7ae3535"
   },
   "outputs": [
    {
     "data": {
      "text/plain": [
       "array([ True, False,  True, False,  True, False,  True, False,  True,\n",
       "       False,  True, False])"
      ]
     },
     "execution_count": 96,
     "metadata": {},
     "output_type": "execute_result"
    }
   ],
   "source": [
    "# arr_12를 2로 나눈 나머지가 짝수인가\n",
    "np.mod(arr_12,2) == 0"
   ]
  },
  {
   "cell_type": "code",
   "execution_count": 99,
   "metadata": {
    "colab": {
     "base_uri": "https://localhost:8080/"
    },
    "executionInfo": {
     "elapsed": 10,
     "status": "ok",
     "timestamp": 1664439638848,
     "user": {
      "displayName": "jinyang park",
      "userId": "06576046992691541404"
     },
     "user_tz": -540
    },
    "id": "72aocvWHVFvg",
    "outputId": "88190fdb-c204-4d8b-a14c-ab4aadd7b3e1"
   },
   "outputs": [
    {
     "data": {
      "text/plain": [
       "array([ 0,  2,  4,  6,  8, 10])"
      ]
     },
     "execution_count": 99,
     "metadata": {},
     "output_type": "execute_result"
    }
   ],
   "source": [
    "# arr_12에서 홀수만 추출(필터링)\n",
    "boolean_indexer = [ True, False,  True, False,  True, False,  True, False,  True,\n",
    "       False,  True, False]\n",
    "arr_12[boolean_indexer]"
   ]
  },
  {
   "cell_type": "markdown",
   "metadata": {
    "id": "xS0xNRlUVn0v"
   },
   "source": [
    "연습문제 풀이"
   ]
  },
  {
   "cell_type": "markdown",
   "metadata": {
    "id": "-JBIPHpwlCWk"
   },
   "source": [
    "# 2. Pandas"
   ]
  },
  {
   "cell_type": "markdown",
   "metadata": {
    "id": "QlfJD_lqzypG"
   },
   "source": [
    "### 2_1. DataFrames 생성\n",
    "\n",
    "* pd.DataFrame() "
   ]
  },
  {
   "cell_type": "code",
   "execution_count": 102,
   "metadata": {
    "colab": {
     "base_uri": "https://localhost:8080/",
     "height": 112
    },
    "executionInfo": {
     "elapsed": 23,
     "status": "ok",
     "timestamp": 1672370984012,
     "user": {
      "displayName": "jinyang park",
      "userId": "06576046992691541404"
     },
     "user_tz": -540
    },
    "id": "K_8-UxBxFdJD",
    "outputId": "0ac48387-43a5-44ca-c537-c120a4710326"
   },
   "outputs": [
    {
     "data": {
      "text/html": [
       "<div>\n",
       "<style scoped>\n",
       "    .dataframe tbody tr th:only-of-type {\n",
       "        vertical-align: middle;\n",
       "    }\n",
       "\n",
       "    .dataframe tbody tr th {\n",
       "        vertical-align: top;\n",
       "    }\n",
       "\n",
       "    .dataframe thead th {\n",
       "        text-align: right;\n",
       "    }\n",
       "</style>\n",
       "<table border=\"1\" class=\"dataframe\">\n",
       "  <thead>\n",
       "    <tr style=\"text-align: right;\">\n",
       "      <th></th>\n",
       "      <th>0</th>\n",
       "      <th>1</th>\n",
       "      <th>2</th>\n",
       "      <th>3</th>\n",
       "    </tr>\n",
       "  </thead>\n",
       "  <tbody>\n",
       "    <tr>\n",
       "      <th>0</th>\n",
       "      <td>1</td>\n",
       "      <td>2</td>\n",
       "      <td>3</td>\n",
       "      <td>4</td>\n",
       "    </tr>\n",
       "    <tr>\n",
       "      <th>1</th>\n",
       "      <td>5</td>\n",
       "      <td>6</td>\n",
       "      <td>7</td>\n",
       "      <td>8</td>\n",
       "    </tr>\n",
       "  </tbody>\n",
       "</table>\n",
       "</div>"
      ],
      "text/plain": [
       "   0  1  2  3\n",
       "0  1  2  3  4\n",
       "1  5  6  7  8"
      ]
     },
     "execution_count": 102,
     "metadata": {},
     "output_type": "execute_result"
    }
   ],
   "source": [
    "# list로 생성\n",
    "import pandas as pd\n",
    "list = [[1,2,3,4],[5,6,7,8]]\n",
    "list\n",
    "pd.DataFrame(list)\n"
   ]
  },
  {
   "cell_type": "code",
   "execution_count": 104,
   "metadata": {
    "colab": {
     "base_uri": "https://localhost:8080/",
     "height": 112
    },
    "executionInfo": {
     "elapsed": 551,
     "status": "ok",
     "timestamp": 1672370994433,
     "user": {
      "displayName": "jinyang park",
      "userId": "06576046992691541404"
     },
     "user_tz": -540
    },
    "id": "peEcmDOoeO7v",
    "outputId": "1e63311e-0119-49b4-a6d3-73b0b9c5d2ab"
   },
   "outputs": [
    {
     "data": {
      "text/html": [
       "<div>\n",
       "<style scoped>\n",
       "    .dataframe tbody tr th:only-of-type {\n",
       "        vertical-align: middle;\n",
       "    }\n",
       "\n",
       "    .dataframe tbody tr th {\n",
       "        vertical-align: top;\n",
       "    }\n",
       "\n",
       "    .dataframe thead th {\n",
       "        text-align: right;\n",
       "    }\n",
       "</style>\n",
       "<table border=\"1\" class=\"dataframe\">\n",
       "  <thead>\n",
       "    <tr style=\"text-align: right;\">\n",
       "      <th></th>\n",
       "      <th>A</th>\n",
       "      <th>B</th>\n",
       "      <th>C</th>\n",
       "      <th>D</th>\n",
       "    </tr>\n",
       "  </thead>\n",
       "  <tbody>\n",
       "    <tr>\n",
       "      <th>0</th>\n",
       "      <td>1</td>\n",
       "      <td>2</td>\n",
       "      <td>3</td>\n",
       "      <td>4</td>\n",
       "    </tr>\n",
       "    <tr>\n",
       "      <th>1</th>\n",
       "      <td>5</td>\n",
       "      <td>6</td>\n",
       "      <td>7</td>\n",
       "      <td>8</td>\n",
       "    </tr>\n",
       "  </tbody>\n",
       "</table>\n",
       "</div>"
      ],
      "text/plain": [
       "   A  B  C  D\n",
       "0  1  2  3  4\n",
       "1  5  6  7  8"
      ]
     },
     "execution_count": 104,
     "metadata": {},
     "output_type": "execute_result"
    }
   ],
   "source": [
    "# list로 생성, columnlumn 추가\n",
    "pd.DataFrame(list, columns=['A','B','C','D'])"
   ]
  },
  {
   "cell_type": "code",
   "execution_count": 105,
   "metadata": {
    "colab": {
     "base_uri": "https://localhost:8080/",
     "height": 112
    },
    "executionInfo": {
     "elapsed": 541,
     "status": "ok",
     "timestamp": 1672371008456,
     "user": {
      "displayName": "jinyang park",
      "userId": "06576046992691541404"
     },
     "user_tz": -540
    },
    "id": "eMhzKu92ef5r",
    "outputId": "f6691f3f-1e0b-414e-c30e-70202d2f80d5"
   },
   "outputs": [
    {
     "data": {
      "text/html": [
       "<div>\n",
       "<style scoped>\n",
       "    .dataframe tbody tr th:only-of-type {\n",
       "        vertical-align: middle;\n",
       "    }\n",
       "\n",
       "    .dataframe tbody tr th {\n",
       "        vertical-align: top;\n",
       "    }\n",
       "\n",
       "    .dataframe thead th {\n",
       "        text-align: right;\n",
       "    }\n",
       "</style>\n",
       "<table border=\"1\" class=\"dataframe\">\n",
       "  <thead>\n",
       "    <tr style=\"text-align: right;\">\n",
       "      <th></th>\n",
       "      <th>A</th>\n",
       "      <th>B</th>\n",
       "      <th>C</th>\n",
       "      <th>D</th>\n",
       "    </tr>\n",
       "  </thead>\n",
       "  <tbody>\n",
       "    <tr>\n",
       "      <th>one</th>\n",
       "      <td>1</td>\n",
       "      <td>2</td>\n",
       "      <td>3</td>\n",
       "      <td>4</td>\n",
       "    </tr>\n",
       "    <tr>\n",
       "      <th>two</th>\n",
       "      <td>5</td>\n",
       "      <td>6</td>\n",
       "      <td>7</td>\n",
       "      <td>8</td>\n",
       "    </tr>\n",
       "  </tbody>\n",
       "</table>\n",
       "</div>"
      ],
      "text/plain": [
       "     A  B  C  D\n",
       "one  1  2  3  4\n",
       "two  5  6  7  8"
      ]
     },
     "execution_count": 105,
     "metadata": {},
     "output_type": "execute_result"
    }
   ],
   "source": [
    "# list로 생성, column 추가, indexex 추가\n",
    "pd.DataFrame(list, columns=['A','B','C','D'], index = ['one','two'])"
   ]
  },
  {
   "cell_type": "code",
   "execution_count": 112,
   "metadata": {
    "colab": {
     "base_uri": "https://localhost:8080/",
     "height": 143
    },
    "executionInfo": {
     "elapsed": 424,
     "status": "ok",
     "timestamp": 1672371013968,
     "user": {
      "displayName": "jinyang park",
      "userId": "06576046992691541404"
     },
     "user_tz": -540
    },
    "id": "uLkTfK17cHFb",
    "outputId": "2d3cb2f9-0bf6-4e65-c463-6aab6a6c178c"
   },
   "outputs": [
    {
     "data": {
      "text/html": [
       "<div>\n",
       "<style scoped>\n",
       "    .dataframe tbody tr th:only-of-type {\n",
       "        vertical-align: middle;\n",
       "    }\n",
       "\n",
       "    .dataframe tbody tr th {\n",
       "        vertical-align: top;\n",
       "    }\n",
       "\n",
       "    .dataframe thead th {\n",
       "        text-align: right;\n",
       "    }\n",
       "</style>\n",
       "<table border=\"1\" class=\"dataframe\">\n",
       "  <thead>\n",
       "    <tr style=\"text-align: right;\">\n",
       "      <th></th>\n",
       "      <th>A</th>\n",
       "      <th>B</th>\n",
       "      <th>C</th>\n",
       "      <th>D</th>\n",
       "    </tr>\n",
       "  </thead>\n",
       "  <tbody>\n",
       "    <tr>\n",
       "      <th>one</th>\n",
       "      <td>0</td>\n",
       "      <td>1</td>\n",
       "      <td>2</td>\n",
       "      <td>3</td>\n",
       "    </tr>\n",
       "    <tr>\n",
       "      <th>two</th>\n",
       "      <td>4</td>\n",
       "      <td>5</td>\n",
       "      <td>6</td>\n",
       "      <td>7</td>\n",
       "    </tr>\n",
       "    <tr>\n",
       "      <th>three</th>\n",
       "      <td>8</td>\n",
       "      <td>9</td>\n",
       "      <td>10</td>\n",
       "      <td>11</td>\n",
       "    </tr>\n",
       "  </tbody>\n",
       "</table>\n",
       "</div>"
      ],
      "text/plain": [
       "       A  B   C   D\n",
       "one    0  1   2   3\n",
       "two    4  5   6   7\n",
       "three  8  9  10  11"
      ]
     },
     "execution_count": 112,
     "metadata": {},
     "output_type": "execute_result"
    }
   ],
   "source": [
    "# array로 생성\n",
    "arr = np.arange(12)\n",
    "arr2 = arr.reshape(3,-1)\n",
    "arr2\n",
    "pd.DataFrame(arr2, columns=['A','B','C','D'], index = ['one','two','three'])"
   ]
  },
  {
   "cell_type": "code",
   "execution_count": 111,
   "metadata": {
    "colab": {
     "base_uri": "https://localhost:8080/",
     "height": 143
    },
    "executionInfo": {
     "elapsed": 422,
     "status": "ok",
     "timestamp": 1672371023795,
     "user": {
      "displayName": "jinyang park",
      "userId": "06576046992691541404"
     },
     "user_tz": -540
    },
    "id": "mTSHLXFoeumV",
    "outputId": "2376a67f-617e-4aa2-edc5-f044c2477bd3"
   },
   "outputs": [
    {
     "data": {
      "text/html": [
       "<div>\n",
       "<style scoped>\n",
       "    .dataframe tbody tr th:only-of-type {\n",
       "        vertical-align: middle;\n",
       "    }\n",
       "\n",
       "    .dataframe tbody tr th {\n",
       "        vertical-align: top;\n",
       "    }\n",
       "\n",
       "    .dataframe thead th {\n",
       "        text-align: right;\n",
       "    }\n",
       "</style>\n",
       "<table border=\"1\" class=\"dataframe\">\n",
       "  <thead>\n",
       "    <tr style=\"text-align: right;\">\n",
       "      <th></th>\n",
       "      <th>A</th>\n",
       "      <th>B</th>\n",
       "      <th>C</th>\n",
       "      <th>D</th>\n",
       "    </tr>\n",
       "  </thead>\n",
       "  <tbody>\n",
       "    <tr>\n",
       "      <th>one</th>\n",
       "      <td>0</td>\n",
       "      <td>1</td>\n",
       "      <td>2</td>\n",
       "      <td>3</td>\n",
       "    </tr>\n",
       "    <tr>\n",
       "      <th>two</th>\n",
       "      <td>4</td>\n",
       "      <td>5</td>\n",
       "      <td>6</td>\n",
       "      <td>7</td>\n",
       "    </tr>\n",
       "    <tr>\n",
       "      <th>three</th>\n",
       "      <td>8</td>\n",
       "      <td>9</td>\n",
       "      <td>10</td>\n",
       "      <td>11</td>\n",
       "    </tr>\n",
       "  </tbody>\n",
       "</table>\n",
       "</div>"
      ],
      "text/plain": [
       "       A  B   C   D\n",
       "one    0  1   2   3\n",
       "two    4  5   6   7\n",
       "three  8  9  10  11"
      ]
     },
     "execution_count": 111,
     "metadata": {},
     "output_type": "execute_result"
    }
   ],
   "source": [
    "# array로 생성, column추가, index 추가\n",
    "pd.DataFrame(arr2, columns=['A','B','C','D'], index = ['one','two','three'])"
   ]
  },
  {
   "cell_type": "code",
   "execution_count": 113,
   "metadata": {
    "colab": {
     "base_uri": "https://localhost:8080/",
     "height": 143
    },
    "executionInfo": {
     "elapsed": 385,
     "status": "ok",
     "timestamp": 1672371129898,
     "user": {
      "displayName": "jinyang park",
      "userId": "06576046992691541404"
     },
     "user_tz": -540
    },
    "id": "IXVkS7dlXYC0",
    "outputId": "d9a0a71a-69c5-4612-e21a-50ac708f05d2"
   },
   "outputs": [],
   "source": [
    "# 딕셔너리로 생성\n",
    "dict1 = {'A':[1,2,3],'B':[4,5,6],'C':[7,8,9]}"
   ]
  },
  {
   "cell_type": "code",
   "execution_count": 114,
   "metadata": {
    "colab": {
     "base_uri": "https://localhost:8080/",
     "height": 143
    },
    "executionInfo": {
     "elapsed": 385,
     "status": "ok",
     "timestamp": 1672371037498,
     "user": {
      "displayName": "jinyang park",
      "userId": "06576046992691541404"
     },
     "user_tz": -540
    },
    "id": "701atieTfddQ",
    "outputId": "0399a17a-da7b-4b0d-8745-f4e6f30e25da"
   },
   "outputs": [
    {
     "data": {
      "text/html": [
       "<div>\n",
       "<style scoped>\n",
       "    .dataframe tbody tr th:only-of-type {\n",
       "        vertical-align: middle;\n",
       "    }\n",
       "\n",
       "    .dataframe tbody tr th {\n",
       "        vertical-align: top;\n",
       "    }\n",
       "\n",
       "    .dataframe thead th {\n",
       "        text-align: right;\n",
       "    }\n",
       "</style>\n",
       "<table border=\"1\" class=\"dataframe\">\n",
       "  <thead>\n",
       "    <tr style=\"text-align: right;\">\n",
       "      <th></th>\n",
       "      <th>A</th>\n",
       "      <th>B</th>\n",
       "      <th>C</th>\n",
       "    </tr>\n",
       "  </thead>\n",
       "  <tbody>\n",
       "    <tr>\n",
       "      <th>one</th>\n",
       "      <td>1</td>\n",
       "      <td>4</td>\n",
       "      <td>7</td>\n",
       "    </tr>\n",
       "    <tr>\n",
       "      <th>two</th>\n",
       "      <td>2</td>\n",
       "      <td>5</td>\n",
       "      <td>8</td>\n",
       "    </tr>\n",
       "    <tr>\n",
       "      <th>three</th>\n",
       "      <td>3</td>\n",
       "      <td>6</td>\n",
       "      <td>9</td>\n",
       "    </tr>\n",
       "  </tbody>\n",
       "</table>\n",
       "</div>"
      ],
      "text/plain": [
       "       A  B  C\n",
       "one    1  4  7\n",
       "two    2  5  8\n",
       "three  3  6  9"
      ]
     },
     "execution_count": 114,
     "metadata": {},
     "output_type": "execute_result"
    }
   ],
   "source": [
    "# 딕셔너리로 생성, index 추가\n",
    "pd.DataFrame(dict1,index =['one','two','three'])"
   ]
  },
  {
   "cell_type": "markdown",
   "metadata": {
    "id": "RXG9uGp2zypK"
   },
   "source": [
    "* DataFrame을 넘파이 ndarray, list, 딕셔너리로 변환하기"
   ]
  },
  {
   "cell_type": "code",
   "execution_count": 115,
   "metadata": {
    "colab": {
     "base_uri": "https://localhost:8080/",
     "height": 143
    },
    "executionInfo": {
     "elapsed": 374,
     "status": "ok",
     "timestamp": 1672371069606,
     "user": {
      "displayName": "jinyang park",
      "userId": "06576046992691541404"
     },
     "user_tz": -540
    },
    "id": "CDdNrbq4bIZB",
    "outputId": "dd751855-a636-494a-89a1-7d7614915023"
   },
   "outputs": [],
   "source": [
    "# DataFrame 생성\n",
    "df = pd.DataFrame(dict1,index =['one','two','three'])"
   ]
  },
  {
   "cell_type": "code",
   "execution_count": 117,
   "metadata": {
    "colab": {
     "base_uri": "https://localhost:8080/"
    },
    "executionInfo": {
     "elapsed": 357,
     "status": "ok",
     "timestamp": 1672371077519,
     "user": {
      "displayName": "jinyang park",
      "userId": "06576046992691541404"
     },
     "user_tz": -540
    },
    "id": "iC6ilAYEzypL",
    "outputId": "b995cc90-2fb0-424b-ae90-d25acc5f079c"
   },
   "outputs": [
    {
     "data": {
      "text/plain": [
       "<bound method DataFrame.to_dict of        A  B  C\n",
       "one    1  4  7\n",
       "two    2  5  8\n",
       "three  3  6  9>"
      ]
     },
     "execution_count": 117,
     "metadata": {},
     "output_type": "execute_result"
    }
   ],
   "source": [
    "# DataFrame을 딕셔너리로 변환\n",
    "df.to_dict"
   ]
  },
  {
   "cell_type": "code",
   "execution_count": 123,
   "metadata": {
    "colab": {
     "base_uri": "https://localhost:8080/"
    },
    "executionInfo": {
     "elapsed": 368,
     "status": "ok",
     "timestamp": 1672371277110,
     "user": {
      "displayName": "jinyang park",
      "userId": "06576046992691541404"
     },
     "user_tz": -540
    },
    "id": "8d8kNKDwa1v2",
    "outputId": "8768098e-1b72-4002-ad85-c2ed2421cc3f"
   },
   "outputs": [
    {
     "data": {
      "text/plain": [
       "array([[1, 4, 7],\n",
       "       [2, 5, 8],\n",
       "       [3, 6, 9]])"
      ]
     },
     "execution_count": 123,
     "metadata": {},
     "output_type": "execute_result"
    }
   ],
   "source": [
    "# DataFrame을 ndarray로 변환\n",
    "df.values"
   ]
  },
  {
   "cell_type": "code",
   "execution_count": 126,
   "metadata": {
    "colab": {
     "base_uri": "https://localhost:8080/"
    },
    "executionInfo": {
     "elapsed": 354,
     "status": "ok",
     "timestamp": 1664944332887,
     "user": {
      "displayName": "jinyang park",
      "userId": "06576046992691541404"
     },
     "user_tz": -540
    },
    "id": "QJ2l_ybxZ-gY",
    "outputId": "9ee10d81-30ec-4dd1-aa99-c16be87500b5",
    "scrolled": true
   },
   "outputs": [
    {
     "data": {
      "text/plain": [
       "[[1, 4, 7], [2, 5, 8], [3, 6, 9]]"
      ]
     },
     "execution_count": 126,
     "metadata": {},
     "output_type": "execute_result"
    }
   ],
   "source": [
    "# DataFrame을 list로 변환\n",
    "df.values.tolist()"
   ]
  },
  {
   "cell_type": "markdown",
   "metadata": {
    "id": "ibr-kCZkfYXC"
   },
   "source": [
    "## Quiz 1\n",
    "\n",
    "1) 아래 DataFrame을 딕셔너리로 생성하시오"
   ]
  },
  {
   "cell_type": "code",
   "execution_count": 127,
   "metadata": {
    "id": "Rb8NsglSD39k",
    "scrolled": true
   },
   "outputs": [
    {
     "data": {
      "text/html": [
       "<div>\n",
       "<style scoped>\n",
       "    .dataframe tbody tr th:only-of-type {\n",
       "        vertical-align: middle;\n",
       "    }\n",
       "\n",
       "    .dataframe tbody tr th {\n",
       "        vertical-align: top;\n",
       "    }\n",
       "\n",
       "    .dataframe thead th {\n",
       "        text-align: right;\n",
       "    }\n",
       "</style>\n",
       "<table border=\"1\" class=\"dataframe\">\n",
       "  <thead>\n",
       "    <tr style=\"text-align: right;\">\n",
       "      <th></th>\n",
       "      <th>name</th>\n",
       "      <th>jumin7</th>\n",
       "      <th>sex</th>\n",
       "    </tr>\n",
       "  </thead>\n",
       "  <tbody>\n",
       "    <tr>\n",
       "      <th>0</th>\n",
       "      <td>kdh100</td>\n",
       "      <td>990623-2</td>\n",
       "      <td>F</td>\n",
       "    </tr>\n",
       "    <tr>\n",
       "      <th>1</th>\n",
       "      <td>kdh101</td>\n",
       "      <td>900303-2</td>\n",
       "      <td>F</td>\n",
       "    </tr>\n",
       "    <tr>\n",
       "      <th>2</th>\n",
       "      <td>kdh101</td>\n",
       "      <td>681205-2</td>\n",
       "      <td>F</td>\n",
       "    </tr>\n",
       "    <tr>\n",
       "      <th>3</th>\n",
       "      <td>kdh103</td>\n",
       "      <td>931226-2</td>\n",
       "      <td>F</td>\n",
       "    </tr>\n",
       "  </tbody>\n",
       "</table>\n",
       "</div>"
      ],
      "text/plain": [
       "     name    jumin7 sex\n",
       "0  kdh100  990623-2   F\n",
       "1  kdh101  900303-2   F\n",
       "2  kdh101  681205-2   F\n",
       "3  kdh103  931226-2   F"
      ]
     },
     "execution_count": 127,
     "metadata": {},
     "output_type": "execute_result"
    }
   ],
   "source": [
    "# pd.DataFrame({ })\n",
    "dict2 = {'name':['kdh100','kdh101','kdh101','kdh103'],'jumin7':['990623-2','900303-2','681205-2','931226-2'],\n",
    "         'sex':['F','F','F','F']}\n",
    "pd.DataFrame(dict2)"
   ]
  },
  {
   "cell_type": "markdown",
   "metadata": {
    "id": "kjUomMkFzyo8"
   },
   "source": [
    "### 2_2. Data Frame 읽기\n",
    "* read_csv()** csv, txt, Excel Data 가능\n",
    "\n",
    "\n",
    "* 데이터 읽어오기 pd.read_csv('file_name.csv')\n",
    "- [데이터 읽어오기 참고(csv,txt,xlsx,UTF-8 인코딩)]\n",
    "- df = pd.read_csv('file_name.csv')\n",
    "- txt: 텍스트 파일. 특정 구분자로 구분되어있다면 sep 인자에 명시(탭(tab)은 sep='\\t', '|' 는 sep='|'\n",
    "- df = pd.read_csv('file_name.csv', encoding='cp949') - 한글파일 인코딩 에러시\n",
    "- df = pd.read_csv('file_name.csv', sep='\\t') - 구분자: Tab일때\n",
    "                                        \n",
    "- xlsx: 엑셀 파일. 특정 시트(sheet)의 데이터만 읽어올 경우 sheet_name 인자에 시트명 또는 순번을 입력해준다.\n",
    "- df = pd.read_excel('file.xlsx')\n",
    "- df = pd.read_excel('file.xlsx', sheet_name = 'first_sheet')"
   ]
  },
  {
   "cell_type": "code",
   "execution_count": 128,
   "metadata": {
    "id": "Jn4muvF6fYW-",
    "outputId": "d6dd4a00-e7c1-44b4-db9a-215d6ff1d6a7"
   },
   "outputs": [
    {
     "data": {
      "text/plain": [
       "'/Users/kelvin/Desktop/workspace/AI_Basic'"
      ]
     },
     "execution_count": 128,
     "metadata": {},
     "output_type": "execute_result"
    }
   ],
   "source": [
    "import os\n",
    "os.getcwd()"
   ]
  },
  {
   "cell_type": "code",
   "execution_count": 129,
   "metadata": {
    "id": "FijCqDSazyo9"
   },
   "outputs": [],
   "source": [
    "# 파일 로딩 (hk_221206.csv), 절대경로/상대경로 (.\\\\, ..\\\\)\n",
    "# df_hk = pd.read_csv('.\\\\data\\\\hk_221206.csv') # df_hk 라는 dataFrame명을 생성\n",
    "df_hk = pd.read_csv('./ktd_2_data230224/hk_221206.csv')"
   ]
  },
  {
   "cell_type": "code",
   "execution_count": 130,
   "metadata": {
    "colab": {
     "base_uri": "https://localhost:8080/",
     "height": 423
    },
    "executionInfo": {
     "elapsed": 5,
     "status": "ok",
     "timestamp": 1665614472085,
     "user": {
      "displayName": "jinyang park",
      "userId": "06576046992691541404"
     },
     "user_tz": -540
    },
    "id": "xeHfuteOzyo-",
    "outputId": "de39f167-c6f2-41ca-c983-efa017afb5e7"
   },
   "outputs": [
    {
     "data": {
      "text/html": [
       "<div>\n",
       "<style scoped>\n",
       "    .dataframe tbody tr th:only-of-type {\n",
       "        vertical-align: middle;\n",
       "    }\n",
       "\n",
       "    .dataframe tbody tr th {\n",
       "        vertical-align: top;\n",
       "    }\n",
       "\n",
       "    .dataframe thead th {\n",
       "        text-align: right;\n",
       "    }\n",
       "</style>\n",
       "<table border=\"1\" class=\"dataframe\">\n",
       "  <thead>\n",
       "    <tr style=\"text-align: right;\">\n",
       "      <th></th>\n",
       "      <th>name</th>\n",
       "      <th>jumin7</th>\n",
       "      <th>gender</th>\n",
       "      <th>height</th>\n",
       "      <th>age</th>\n",
       "      <th>blood_type</th>\n",
       "      <th>company</th>\n",
       "      <th>grades</th>\n",
       "      <th>salary</th>\n",
       "      <th>expenditure</th>\n",
       "    </tr>\n",
       "  </thead>\n",
       "  <tbody>\n",
       "    <tr>\n",
       "      <th>0</th>\n",
       "      <td>hkd1</td>\n",
       "      <td>990623-2</td>\n",
       "      <td>F</td>\n",
       "      <td>161.9</td>\n",
       "      <td>22</td>\n",
       "      <td>A</td>\n",
       "      <td>A</td>\n",
       "      <td>A</td>\n",
       "      <td>4100</td>\n",
       "      <td>1975</td>\n",
       "    </tr>\n",
       "    <tr>\n",
       "      <th>1</th>\n",
       "      <td>hkd10</td>\n",
       "      <td>900303-2</td>\n",
       "      <td>F</td>\n",
       "      <td>169.4</td>\n",
       "      <td>31</td>\n",
       "      <td>A</td>\n",
       "      <td>A</td>\n",
       "      <td>B</td>\n",
       "      <td>4720</td>\n",
       "      <td>2970</td>\n",
       "    </tr>\n",
       "    <tr>\n",
       "      <th>2</th>\n",
       "      <td>hkd100</td>\n",
       "      <td>681205-2</td>\n",
       "      <td>F</td>\n",
       "      <td>168.3</td>\n",
       "      <td>55</td>\n",
       "      <td>A</td>\n",
       "      <td>A</td>\n",
       "      <td>B</td>\n",
       "      <td>7280</td>\n",
       "      <td>5905</td>\n",
       "    </tr>\n",
       "    <tr>\n",
       "      <th>3</th>\n",
       "      <td>hkd101</td>\n",
       "      <td>931226-2</td>\n",
       "      <td>F</td>\n",
       "      <td>155.3</td>\n",
       "      <td>28</td>\n",
       "      <td>AB</td>\n",
       "      <td>B</td>\n",
       "      <td>B</td>\n",
       "      <td>4060</td>\n",
       "      <td>2935</td>\n",
       "    </tr>\n",
       "    <tr>\n",
       "      <th>4</th>\n",
       "      <td>hkd102</td>\n",
       "      <td>920123-1</td>\n",
       "      <td>M</td>\n",
       "      <td>188.6</td>\n",
       "      <td>29</td>\n",
       "      <td>O</td>\n",
       "      <td>B</td>\n",
       "      <td>F</td>\n",
       "      <td>4390</td>\n",
       "      <td>4015</td>\n",
       "    </tr>\n",
       "    <tr>\n",
       "      <th>...</th>\n",
       "      <td>...</td>\n",
       "      <td>...</td>\n",
       "      <td>...</td>\n",
       "      <td>...</td>\n",
       "      <td>...</td>\n",
       "      <td>...</td>\n",
       "      <td>...</td>\n",
       "      <td>...</td>\n",
       "      <td>...</td>\n",
       "      <td>...</td>\n",
       "    </tr>\n",
       "    <tr>\n",
       "      <th>245</th>\n",
       "      <td>hkd95</td>\n",
       "      <td>730710-2</td>\n",
       "      <td>F</td>\n",
       "      <td>157.8</td>\n",
       "      <td>50</td>\n",
       "      <td>A</td>\n",
       "      <td>A</td>\n",
       "      <td>A</td>\n",
       "      <td>6990</td>\n",
       "      <td>4865</td>\n",
       "    </tr>\n",
       "    <tr>\n",
       "      <th>246</th>\n",
       "      <td>hkd96</td>\n",
       "      <td>720805-2</td>\n",
       "      <td>F</td>\n",
       "      <td>150.4</td>\n",
       "      <td>51</td>\n",
       "      <td>O</td>\n",
       "      <td>A</td>\n",
       "      <td>A</td>\n",
       "      <td>7110</td>\n",
       "      <td>4985</td>\n",
       "    </tr>\n",
       "    <tr>\n",
       "      <th>247</th>\n",
       "      <td>hkd97</td>\n",
       "      <td>710929-1</td>\n",
       "      <td>M</td>\n",
       "      <td>172.4</td>\n",
       "      <td>52</td>\n",
       "      <td>A</td>\n",
       "      <td>A</td>\n",
       "      <td>B</td>\n",
       "      <td>8000</td>\n",
       "      <td>6625</td>\n",
       "    </tr>\n",
       "    <tr>\n",
       "      <th>248</th>\n",
       "      <td>hkd98</td>\n",
       "      <td>701024-1</td>\n",
       "      <td>M</td>\n",
       "      <td>166.7</td>\n",
       "      <td>53</td>\n",
       "      <td>O</td>\n",
       "      <td>A</td>\n",
       "      <td>B</td>\n",
       "      <td>8760</td>\n",
       "      <td>7385</td>\n",
       "    </tr>\n",
       "    <tr>\n",
       "      <th>249</th>\n",
       "      <td>hkd99</td>\n",
       "      <td>691115-2</td>\n",
       "      <td>F</td>\n",
       "      <td>152.6</td>\n",
       "      <td>54</td>\n",
       "      <td>B</td>\n",
       "      <td>A</td>\n",
       "      <td>B</td>\n",
       "      <td>7470</td>\n",
       "      <td>6095</td>\n",
       "    </tr>\n",
       "  </tbody>\n",
       "</table>\n",
       "<p>250 rows × 10 columns</p>\n",
       "</div>"
      ],
      "text/plain": [
       "       name    jumin7 gender  height  age blood_type company grades  salary  \\\n",
       "0      hkd1  990623-2      F   161.9   22          A       A      A    4100   \n",
       "1     hkd10  900303-2      F   169.4   31          A       A      B    4720   \n",
       "2    hkd100  681205-2      F   168.3   55          A       A      B    7280   \n",
       "3    hkd101  931226-2      F   155.3   28         AB       B      B    4060   \n",
       "4    hkd102  920123-1      M   188.6   29          O       B      F    4390   \n",
       "..      ...       ...    ...     ...  ...        ...     ...    ...     ...   \n",
       "245   hkd95  730710-2      F   157.8   50          A       A      A    6990   \n",
       "246   hkd96  720805-2      F   150.4   51          O       A      A    7110   \n",
       "247   hkd97  710929-1      M   172.4   52          A       A      B    8000   \n",
       "248   hkd98  701024-1      M   166.7   53          O       A      B    8760   \n",
       "249   hkd99  691115-2      F   152.6   54          B       A      B    7470   \n",
       "\n",
       "     expenditure  \n",
       "0           1975  \n",
       "1           2970  \n",
       "2           5905  \n",
       "3           2935  \n",
       "4           4015  \n",
       "..           ...  \n",
       "245         4865  \n",
       "246         4985  \n",
       "247         6625  \n",
       "248         7385  \n",
       "249         6095  \n",
       "\n",
       "[250 rows x 10 columns]"
      ]
     },
     "execution_count": 130,
     "metadata": {},
     "output_type": "execute_result"
    }
   ],
   "source": [
    "# df_hk\n",
    "df_hk"
   ]
  },
  {
   "cell_type": "code",
   "execution_count": 131,
   "metadata": {},
   "outputs": [
    {
     "data": {
      "text/html": [
       "<div>\n",
       "<style scoped>\n",
       "    .dataframe tbody tr th:only-of-type {\n",
       "        vertical-align: middle;\n",
       "    }\n",
       "\n",
       "    .dataframe tbody tr th {\n",
       "        vertical-align: top;\n",
       "    }\n",
       "\n",
       "    .dataframe thead th {\n",
       "        text-align: right;\n",
       "    }\n",
       "</style>\n",
       "<table border=\"1\" class=\"dataframe\">\n",
       "  <thead>\n",
       "    <tr style=\"text-align: right;\">\n",
       "      <th></th>\n",
       "      <th>name</th>\n",
       "      <th>jumin7</th>\n",
       "      <th>gender</th>\n",
       "      <th>height</th>\n",
       "      <th>age</th>\n",
       "      <th>blood_type</th>\n",
       "      <th>company</th>\n",
       "      <th>grades</th>\n",
       "      <th>salary</th>\n",
       "      <th>expenditure</th>\n",
       "    </tr>\n",
       "  </thead>\n",
       "  <tbody>\n",
       "    <tr>\n",
       "      <th>0</th>\n",
       "      <td>hkd1</td>\n",
       "      <td>990623-2</td>\n",
       "      <td>F</td>\n",
       "      <td>161.9</td>\n",
       "      <td>22</td>\n",
       "      <td>A</td>\n",
       "      <td>A</td>\n",
       "      <td>A</td>\n",
       "      <td>4100</td>\n",
       "      <td>1975</td>\n",
       "    </tr>\n",
       "    <tr>\n",
       "      <th>1</th>\n",
       "      <td>hkd10</td>\n",
       "      <td>900303-2</td>\n",
       "      <td>F</td>\n",
       "      <td>169.4</td>\n",
       "      <td>31</td>\n",
       "      <td>A</td>\n",
       "      <td>A</td>\n",
       "      <td>B</td>\n",
       "      <td>4720</td>\n",
       "      <td>2970</td>\n",
       "    </tr>\n",
       "    <tr>\n",
       "      <th>2</th>\n",
       "      <td>hkd100</td>\n",
       "      <td>681205-2</td>\n",
       "      <td>F</td>\n",
       "      <td>168.3</td>\n",
       "      <td>55</td>\n",
       "      <td>A</td>\n",
       "      <td>A</td>\n",
       "      <td>B</td>\n",
       "      <td>7280</td>\n",
       "      <td>5905</td>\n",
       "    </tr>\n",
       "    <tr>\n",
       "      <th>3</th>\n",
       "      <td>hkd101</td>\n",
       "      <td>931226-2</td>\n",
       "      <td>F</td>\n",
       "      <td>155.3</td>\n",
       "      <td>28</td>\n",
       "      <td>AB</td>\n",
       "      <td>B</td>\n",
       "      <td>B</td>\n",
       "      <td>4060</td>\n",
       "      <td>2935</td>\n",
       "    </tr>\n",
       "    <tr>\n",
       "      <th>4</th>\n",
       "      <td>hkd102</td>\n",
       "      <td>920123-1</td>\n",
       "      <td>M</td>\n",
       "      <td>188.6</td>\n",
       "      <td>29</td>\n",
       "      <td>O</td>\n",
       "      <td>B</td>\n",
       "      <td>F</td>\n",
       "      <td>4390</td>\n",
       "      <td>4015</td>\n",
       "    </tr>\n",
       "  </tbody>\n",
       "</table>\n",
       "</div>"
      ],
      "text/plain": [
       "     name    jumin7 gender  height  age blood_type company grades  salary  \\\n",
       "0    hkd1  990623-2      F   161.9   22          A       A      A    4100   \n",
       "1   hkd10  900303-2      F   169.4   31          A       A      B    4720   \n",
       "2  hkd100  681205-2      F   168.3   55          A       A      B    7280   \n",
       "3  hkd101  931226-2      F   155.3   28         AB       B      B    4060   \n",
       "4  hkd102  920123-1      M   188.6   29          O       B      F    4390   \n",
       "\n",
       "   expenditure  \n",
       "0         1975  \n",
       "1         2970  \n",
       "2         5905  \n",
       "3         2935  \n",
       "4         4015  "
      ]
     },
     "execution_count": 131,
     "metadata": {},
     "output_type": "execute_result"
    }
   ],
   "source": [
    "df_hk.head()"
   ]
  },
  {
   "cell_type": "markdown",
   "metadata": {
    "id": "PY4vAw5IzypC"
   },
   "source": [
    "**head()와 tail()**\n",
    "\n",
    "head()는 맨 앞부터 데이터 추출 (기본5개),    \n",
    "tail()은 맨 뒤부터 데이터 추출 (기본5개)  "
   ]
  },
  {
   "cell_type": "code",
   "execution_count": 132,
   "metadata": {
    "id": "m_sOrHBCzypC",
    "outputId": "b7e6b113-041d-49e5-f558-42d138f39c89",
    "scrolled": true
   },
   "outputs": [
    {
     "data": {
      "text/html": [
       "<div>\n",
       "<style scoped>\n",
       "    .dataframe tbody tr th:only-of-type {\n",
       "        vertical-align: middle;\n",
       "    }\n",
       "\n",
       "    .dataframe tbody tr th {\n",
       "        vertical-align: top;\n",
       "    }\n",
       "\n",
       "    .dataframe thead th {\n",
       "        text-align: right;\n",
       "    }\n",
       "</style>\n",
       "<table border=\"1\" class=\"dataframe\">\n",
       "  <thead>\n",
       "    <tr style=\"text-align: right;\">\n",
       "      <th></th>\n",
       "      <th>name</th>\n",
       "      <th>jumin7</th>\n",
       "      <th>gender</th>\n",
       "      <th>height</th>\n",
       "      <th>age</th>\n",
       "      <th>blood_type</th>\n",
       "      <th>company</th>\n",
       "      <th>grades</th>\n",
       "      <th>salary</th>\n",
       "      <th>expenditure</th>\n",
       "    </tr>\n",
       "  </thead>\n",
       "  <tbody>\n",
       "    <tr>\n",
       "      <th>245</th>\n",
       "      <td>hkd95</td>\n",
       "      <td>730710-2</td>\n",
       "      <td>F</td>\n",
       "      <td>157.8</td>\n",
       "      <td>50</td>\n",
       "      <td>A</td>\n",
       "      <td>A</td>\n",
       "      <td>A</td>\n",
       "      <td>6990</td>\n",
       "      <td>4865</td>\n",
       "    </tr>\n",
       "    <tr>\n",
       "      <th>246</th>\n",
       "      <td>hkd96</td>\n",
       "      <td>720805-2</td>\n",
       "      <td>F</td>\n",
       "      <td>150.4</td>\n",
       "      <td>51</td>\n",
       "      <td>O</td>\n",
       "      <td>A</td>\n",
       "      <td>A</td>\n",
       "      <td>7110</td>\n",
       "      <td>4985</td>\n",
       "    </tr>\n",
       "    <tr>\n",
       "      <th>247</th>\n",
       "      <td>hkd97</td>\n",
       "      <td>710929-1</td>\n",
       "      <td>M</td>\n",
       "      <td>172.4</td>\n",
       "      <td>52</td>\n",
       "      <td>A</td>\n",
       "      <td>A</td>\n",
       "      <td>B</td>\n",
       "      <td>8000</td>\n",
       "      <td>6625</td>\n",
       "    </tr>\n",
       "    <tr>\n",
       "      <th>248</th>\n",
       "      <td>hkd98</td>\n",
       "      <td>701024-1</td>\n",
       "      <td>M</td>\n",
       "      <td>166.7</td>\n",
       "      <td>53</td>\n",
       "      <td>O</td>\n",
       "      <td>A</td>\n",
       "      <td>B</td>\n",
       "      <td>8760</td>\n",
       "      <td>7385</td>\n",
       "    </tr>\n",
       "    <tr>\n",
       "      <th>249</th>\n",
       "      <td>hkd99</td>\n",
       "      <td>691115-2</td>\n",
       "      <td>F</td>\n",
       "      <td>152.6</td>\n",
       "      <td>54</td>\n",
       "      <td>B</td>\n",
       "      <td>A</td>\n",
       "      <td>B</td>\n",
       "      <td>7470</td>\n",
       "      <td>6095</td>\n",
       "    </tr>\n",
       "  </tbody>\n",
       "</table>\n",
       "</div>"
      ],
      "text/plain": [
       "      name    jumin7 gender  height  age blood_type company grades  salary  \\\n",
       "245  hkd95  730710-2      F   157.8   50          A       A      A    6990   \n",
       "246  hkd96  720805-2      F   150.4   51          O       A      A    7110   \n",
       "247  hkd97  710929-1      M   172.4   52          A       A      B    8000   \n",
       "248  hkd98  701024-1      M   166.7   53          O       A      B    8760   \n",
       "249  hkd99  691115-2      F   152.6   54          B       A      B    7470   \n",
       "\n",
       "     expenditure  \n",
       "245         4865  \n",
       "246         4985  \n",
       "247         6625  \n",
       "248         7385  \n",
       "249         6095  "
      ]
     },
     "execution_count": 132,
     "metadata": {},
     "output_type": "execute_result"
    }
   ],
   "source": [
    "df_hk.tail()"
   ]
  },
  {
   "cell_type": "markdown",
   "metadata": {
    "id": "5O7W_e50zypD"
   },
   "source": [
    "**DataFrame 출력 시 option**\n",
    "* max_rows, max_columns, max_colwidth 설정\n"
   ]
  },
  {
   "cell_type": "code",
   "execution_count": 139,
   "metadata": {
    "id": "LW5hEekWzypF",
    "scrolled": true
   },
   "outputs": [
    {
     "data": {
      "text/html": [
       "<div>\n",
       "<style scoped>\n",
       "    .dataframe tbody tr th:only-of-type {\n",
       "        vertical-align: middle;\n",
       "    }\n",
       "\n",
       "    .dataframe tbody tr th {\n",
       "        vertical-align: top;\n",
       "    }\n",
       "\n",
       "    .dataframe thead th {\n",
       "        text-align: right;\n",
       "    }\n",
       "</style>\n",
       "<table border=\"1\" class=\"dataframe\">\n",
       "  <thead>\n",
       "    <tr style=\"text-align: right;\">\n",
       "      <th></th>\n",
       "      <th>name</th>\n",
       "      <th>jumin7</th>\n",
       "      <th>gender</th>\n",
       "      <th>height</th>\n",
       "      <th>age</th>\n",
       "      <th>blood_type</th>\n",
       "      <th>company</th>\n",
       "      <th>grades</th>\n",
       "      <th>salary</th>\n",
       "      <th>expenditure</th>\n",
       "    </tr>\n",
       "  </thead>\n",
       "  <tbody>\n",
       "    <tr>\n",
       "      <th>0</th>\n",
       "      <td>hkd1</td>\n",
       "      <td>990623-2</td>\n",
       "      <td>F</td>\n",
       "      <td>161.9</td>\n",
       "      <td>22</td>\n",
       "      <td>A</td>\n",
       "      <td>A</td>\n",
       "      <td>A</td>\n",
       "      <td>4100</td>\n",
       "      <td>1975</td>\n",
       "    </tr>\n",
       "    <tr>\n",
       "      <th>1</th>\n",
       "      <td>hkd10</td>\n",
       "      <td>900303-2</td>\n",
       "      <td>F</td>\n",
       "      <td>169.4</td>\n",
       "      <td>31</td>\n",
       "      <td>A</td>\n",
       "      <td>A</td>\n",
       "      <td>B</td>\n",
       "      <td>4720</td>\n",
       "      <td>2970</td>\n",
       "    </tr>\n",
       "    <tr>\n",
       "      <th>2</th>\n",
       "      <td>hkd100</td>\n",
       "      <td>681205-2</td>\n",
       "      <td>F</td>\n",
       "      <td>168.3</td>\n",
       "      <td>55</td>\n",
       "      <td>A</td>\n",
       "      <td>A</td>\n",
       "      <td>B</td>\n",
       "      <td>7280</td>\n",
       "      <td>5905</td>\n",
       "    </tr>\n",
       "    <tr>\n",
       "      <th>3</th>\n",
       "      <td>hkd101</td>\n",
       "      <td>931226-2</td>\n",
       "      <td>F</td>\n",
       "      <td>155.3</td>\n",
       "      <td>28</td>\n",
       "      <td>AB</td>\n",
       "      <td>B</td>\n",
       "      <td>B</td>\n",
       "      <td>4060</td>\n",
       "      <td>2935</td>\n",
       "    </tr>\n",
       "    <tr>\n",
       "      <th>4</th>\n",
       "      <td>hkd102</td>\n",
       "      <td>920123-1</td>\n",
       "      <td>M</td>\n",
       "      <td>188.6</td>\n",
       "      <td>29</td>\n",
       "      <td>O</td>\n",
       "      <td>B</td>\n",
       "      <td>F</td>\n",
       "      <td>4390</td>\n",
       "      <td>4015</td>\n",
       "    </tr>\n",
       "    <tr>\n",
       "      <th>...</th>\n",
       "      <td>...</td>\n",
       "      <td>...</td>\n",
       "      <td>...</td>\n",
       "      <td>...</td>\n",
       "      <td>...</td>\n",
       "      <td>...</td>\n",
       "      <td>...</td>\n",
       "      <td>...</td>\n",
       "      <td>...</td>\n",
       "      <td>...</td>\n",
       "    </tr>\n",
       "    <tr>\n",
       "      <th>245</th>\n",
       "      <td>hkd95</td>\n",
       "      <td>730710-2</td>\n",
       "      <td>F</td>\n",
       "      <td>157.8</td>\n",
       "      <td>50</td>\n",
       "      <td>A</td>\n",
       "      <td>A</td>\n",
       "      <td>A</td>\n",
       "      <td>6990</td>\n",
       "      <td>4865</td>\n",
       "    </tr>\n",
       "    <tr>\n",
       "      <th>246</th>\n",
       "      <td>hkd96</td>\n",
       "      <td>720805-2</td>\n",
       "      <td>F</td>\n",
       "      <td>150.4</td>\n",
       "      <td>51</td>\n",
       "      <td>O</td>\n",
       "      <td>A</td>\n",
       "      <td>A</td>\n",
       "      <td>7110</td>\n",
       "      <td>4985</td>\n",
       "    </tr>\n",
       "    <tr>\n",
       "      <th>247</th>\n",
       "      <td>hkd97</td>\n",
       "      <td>710929-1</td>\n",
       "      <td>M</td>\n",
       "      <td>172.4</td>\n",
       "      <td>52</td>\n",
       "      <td>A</td>\n",
       "      <td>A</td>\n",
       "      <td>B</td>\n",
       "      <td>8000</td>\n",
       "      <td>6625</td>\n",
       "    </tr>\n",
       "    <tr>\n",
       "      <th>248</th>\n",
       "      <td>hkd98</td>\n",
       "      <td>701024-1</td>\n",
       "      <td>M</td>\n",
       "      <td>166.7</td>\n",
       "      <td>53</td>\n",
       "      <td>O</td>\n",
       "      <td>A</td>\n",
       "      <td>B</td>\n",
       "      <td>8760</td>\n",
       "      <td>7385</td>\n",
       "    </tr>\n",
       "    <tr>\n",
       "      <th>249</th>\n",
       "      <td>hkd99</td>\n",
       "      <td>691115-2</td>\n",
       "      <td>F</td>\n",
       "      <td>152.6</td>\n",
       "      <td>54</td>\n",
       "      <td>B</td>\n",
       "      <td>A</td>\n",
       "      <td>B</td>\n",
       "      <td>7470</td>\n",
       "      <td>6095</td>\n",
       "    </tr>\n",
       "  </tbody>\n",
       "</table>\n",
       "<p>250 rows × 10 columns</p>\n",
       "</div>"
      ],
      "text/plain": [
       "       name    jumin7 gender  height  age blood_type company grades  salary  \\\n",
       "0      hkd1  990623-2      F   161.9   22          A       A      A    4100   \n",
       "1     hkd10  900303-2      F   169.4   31          A       A      B    4720   \n",
       "2    hkd100  681205-2      F   168.3   55          A       A      B    7280   \n",
       "3    hkd101  931226-2      F   155.3   28         AB       B      B    4060   \n",
       "4    hkd102  920123-1      M   188.6   29          O       B      F    4390   \n",
       "..      ...       ...    ...     ...  ...        ...     ...    ...     ...   \n",
       "245   hkd95  730710-2      F   157.8   50          A       A      A    6990   \n",
       "246   hkd96  720805-2      F   150.4   51          O       A      A    7110   \n",
       "247   hkd97  710929-1      M   172.4   52          A       A      B    8000   \n",
       "248   hkd98  701024-1      M   166.7   53          O       A      B    8760   \n",
       "249   hkd99  691115-2      F   152.6   54          B       A      B    7470   \n",
       "\n",
       "     expenditure  \n",
       "0           1975  \n",
       "1           2970  \n",
       "2           5905  \n",
       "3           2935  \n",
       "4           4015  \n",
       "..           ...  \n",
       "245         4865  \n",
       "246         4985  \n",
       "247         6625  \n",
       "248         7385  \n",
       "249         6095  \n",
       "\n",
       "[250 rows x 10 columns]"
      ]
     },
     "execution_count": 139,
     "metadata": {},
     "output_type": "execute_result"
    }
   ],
   "source": [
    "pd.set_option('display.max_rows',1000)\n",
    "pd.set_option('display.max_columns',1000)\n",
    "pd.set_option('display.max_colwidth',1000)\n",
    "df_hk\n",
    "pd.set_option('display.max_rows',50)\n",
    "pd.set_option('display.max_columns',50)\n",
    "pd.set_option('display.max_colwidth',50)\n",
    "df_hk"
   ]
  },
  {
   "cell_type": "markdown",
   "metadata": {
    "id": "K0tl4EZ1fYXF"
   },
   "source": [
    "## Quiz 2\n",
    "\n",
    "1) bike.csv를 읽고 column이 몇 개 인지 기술 하시오\n",
    "12\n",
    "\n",
    "2) iris.cvs를 읽고 row가 몇 개 인지 기술 하시오 \n",
    "150\n",
    "\n",
    "3) Online2.txt를 읽고 3번째 column이 무엇인지 기술 하시오 \n",
    "Description"
   ]
  },
  {
   "cell_type": "code",
   "execution_count": 146,
   "metadata": {
    "id": "B6pBmD9pfYXF"
   },
   "outputs": [
    {
     "data": {
      "text/html": [
       "<div>\n",
       "<style scoped>\n",
       "    .dataframe tbody tr th:only-of-type {\n",
       "        vertical-align: middle;\n",
       "    }\n",
       "\n",
       "    .dataframe tbody tr th {\n",
       "        vertical-align: top;\n",
       "    }\n",
       "\n",
       "    .dataframe thead th {\n",
       "        text-align: right;\n",
       "    }\n",
       "</style>\n",
       "<table border=\"1\" class=\"dataframe\">\n",
       "  <thead>\n",
       "    <tr style=\"text-align: right;\">\n",
       "      <th></th>\n",
       "      <th>InvoiceNo</th>\n",
       "      <th>StockCode</th>\n",
       "      <th>Description</th>\n",
       "      <th>Quantity</th>\n",
       "      <th>InvoiceDate</th>\n",
       "      <th>UnitPrice</th>\n",
       "      <th>CustomerID</th>\n",
       "      <th>Country</th>\n",
       "    </tr>\n",
       "  </thead>\n",
       "  <tbody>\n",
       "    <tr>\n",
       "      <th>0</th>\n",
       "      <td>536365</td>\n",
       "      <td>85123A</td>\n",
       "      <td>WHITE HANGING HEART T-LIGHT HOLDER</td>\n",
       "      <td>6</td>\n",
       "      <td>2010-12-01</td>\n",
       "      <td>2.55</td>\n",
       "      <td>17850.0</td>\n",
       "      <td>United Kingdom</td>\n",
       "    </tr>\n",
       "    <tr>\n",
       "      <th>1</th>\n",
       "      <td>536365</td>\n",
       "      <td>71053</td>\n",
       "      <td>WHITE METAL LANTERN</td>\n",
       "      <td>6</td>\n",
       "      <td>2010-12-01</td>\n",
       "      <td>3.39</td>\n",
       "      <td>17850.0</td>\n",
       "      <td>United Kingdom</td>\n",
       "    </tr>\n",
       "    <tr>\n",
       "      <th>2</th>\n",
       "      <td>536365</td>\n",
       "      <td>84406B</td>\n",
       "      <td>CREAM CUPID HEARTS COAT HANGER</td>\n",
       "      <td>8</td>\n",
       "      <td>2010-12-01</td>\n",
       "      <td>2.75</td>\n",
       "      <td>17850.0</td>\n",
       "      <td>United Kingdom</td>\n",
       "    </tr>\n",
       "    <tr>\n",
       "      <th>3</th>\n",
       "      <td>536365</td>\n",
       "      <td>84029G</td>\n",
       "      <td>KNITTED UNION FLAG HOT WATER BOTTLE</td>\n",
       "      <td>6</td>\n",
       "      <td>2010-12-01</td>\n",
       "      <td>3.39</td>\n",
       "      <td>17850.0</td>\n",
       "      <td>United Kingdom</td>\n",
       "    </tr>\n",
       "    <tr>\n",
       "      <th>4</th>\n",
       "      <td>536365</td>\n",
       "      <td>84029E</td>\n",
       "      <td>RED WOOLLY HOTTIE WHITE HEART.</td>\n",
       "      <td>6</td>\n",
       "      <td>2010-12-01</td>\n",
       "      <td>3.39</td>\n",
       "      <td>17850.0</td>\n",
       "      <td>United Kingdom</td>\n",
       "    </tr>\n",
       "    <tr>\n",
       "      <th>...</th>\n",
       "      <td>...</td>\n",
       "      <td>...</td>\n",
       "      <td>...</td>\n",
       "      <td>...</td>\n",
       "      <td>...</td>\n",
       "      <td>...</td>\n",
       "      <td>...</td>\n",
       "      <td>...</td>\n",
       "    </tr>\n",
       "    <tr>\n",
       "      <th>541904</th>\n",
       "      <td>581587</td>\n",
       "      <td>22613</td>\n",
       "      <td>PACK OF 20 SPACEBOY NAPKINS</td>\n",
       "      <td>12</td>\n",
       "      <td>2011-12-09</td>\n",
       "      <td>0.85</td>\n",
       "      <td>12680.0</td>\n",
       "      <td>France</td>\n",
       "    </tr>\n",
       "    <tr>\n",
       "      <th>541905</th>\n",
       "      <td>581587</td>\n",
       "      <td>22899</td>\n",
       "      <td>CHILDREN'S APRON DOLLY GIRL</td>\n",
       "      <td>6</td>\n",
       "      <td>2011-12-09</td>\n",
       "      <td>2.10</td>\n",
       "      <td>12680.0</td>\n",
       "      <td>France</td>\n",
       "    </tr>\n",
       "    <tr>\n",
       "      <th>541906</th>\n",
       "      <td>581587</td>\n",
       "      <td>23254</td>\n",
       "      <td>CHILDRENS CUTLERY DOLLY GIRL</td>\n",
       "      <td>4</td>\n",
       "      <td>2011-12-09</td>\n",
       "      <td>4.15</td>\n",
       "      <td>12680.0</td>\n",
       "      <td>France</td>\n",
       "    </tr>\n",
       "    <tr>\n",
       "      <th>541907</th>\n",
       "      <td>581587</td>\n",
       "      <td>23255</td>\n",
       "      <td>CHILDRENS CUTLERY CIRCUS PARADE</td>\n",
       "      <td>4</td>\n",
       "      <td>2011-12-09</td>\n",
       "      <td>4.15</td>\n",
       "      <td>12680.0</td>\n",
       "      <td>France</td>\n",
       "    </tr>\n",
       "    <tr>\n",
       "      <th>541908</th>\n",
       "      <td>581587</td>\n",
       "      <td>22138</td>\n",
       "      <td>BAKING SET 9 PIECE RETROSPOT</td>\n",
       "      <td>3</td>\n",
       "      <td>2011-12-09</td>\n",
       "      <td>4.95</td>\n",
       "      <td>12680.0</td>\n",
       "      <td>France</td>\n",
       "    </tr>\n",
       "  </tbody>\n",
       "</table>\n",
       "<p>541909 rows × 8 columns</p>\n",
       "</div>"
      ],
      "text/plain": [
       "       InvoiceNo StockCode                          Description  Quantity  \\\n",
       "0         536365    85123A   WHITE HANGING HEART T-LIGHT HOLDER         6   \n",
       "1         536365     71053                  WHITE METAL LANTERN         6   \n",
       "2         536365    84406B       CREAM CUPID HEARTS COAT HANGER         8   \n",
       "3         536365    84029G  KNITTED UNION FLAG HOT WATER BOTTLE         6   \n",
       "4         536365    84029E       RED WOOLLY HOTTIE WHITE HEART.         6   \n",
       "...          ...       ...                                  ...       ...   \n",
       "541904    581587     22613          PACK OF 20 SPACEBOY NAPKINS        12   \n",
       "541905    581587     22899         CHILDREN'S APRON DOLLY GIRL          6   \n",
       "541906    581587     23254        CHILDRENS CUTLERY DOLLY GIRL          4   \n",
       "541907    581587     23255      CHILDRENS CUTLERY CIRCUS PARADE         4   \n",
       "541908    581587     22138        BAKING SET 9 PIECE RETROSPOT          3   \n",
       "\n",
       "       InvoiceDate  UnitPrice  CustomerID         Country  \n",
       "0       2010-12-01       2.55     17850.0  United Kingdom  \n",
       "1       2010-12-01       3.39     17850.0  United Kingdom  \n",
       "2       2010-12-01       2.75     17850.0  United Kingdom  \n",
       "3       2010-12-01       3.39     17850.0  United Kingdom  \n",
       "4       2010-12-01       3.39     17850.0  United Kingdom  \n",
       "...            ...        ...         ...             ...  \n",
       "541904  2011-12-09       0.85     12680.0          France  \n",
       "541905  2011-12-09       2.10     12680.0          France  \n",
       "541906  2011-12-09       4.15     12680.0          France  \n",
       "541907  2011-12-09       4.15     12680.0          France  \n",
       "541908  2011-12-09       4.95     12680.0          France  \n",
       "\n",
       "[541909 rows x 8 columns]"
      ]
     },
     "execution_count": 146,
     "metadata": {},
     "output_type": "execute_result"
    }
   ],
   "source": [
    "df_bike = pd.read_csv('./ktd_2_data230224/bike.csv')\n",
    "df_iris = pd.read_csv('./ktd_2_data230224/iris.csv')\n",
    "df_Online2 = pd.read_csv('./ktd_2_data230224/Online2.txt',sep='\\t')\n",
    "df_bike\n",
    "df_iris\n",
    "df_Online2"
   ]
  },
  {
   "cell_type": "markdown",
   "metadata": {
    "id": "3K5LDPvZdVKG"
   },
   "source": [
    "### 2_3. DataFrame 속성(attribute)\n",
    "* df.ndim: 객체의 차원\n",
    "* df.shape: 각 차원의 길이\n",
    "* df.dtypes: 데이터 타입 dtype와 구별, 복수형이라야 함\n",
    "* df.info(): 데이터 타입 정보 요약, 결측치 정보\n",
    "* df.columns: column명\n",
    "* df.describe(): 수치형 데이터 요약 정보"
   ]
  },
  {
   "cell_type": "code",
   "execution_count": 147,
   "metadata": {
    "colab": {
     "base_uri": "https://localhost:8080/"
    },
    "executionInfo": {
     "elapsed": 354,
     "status": "ok",
     "timestamp": 1664861399574,
     "user": {
      "displayName": "jinyang park",
      "userId": "06576046992691541404"
     },
     "user_tz": -540
    },
    "id": "aEcsETHLzypA",
    "outputId": "61f647ca-a6aa-4d25-c29c-8f22cce7d30d"
   },
   "outputs": [
    {
     "data": {
      "text/plain": [
       "2"
      ]
     },
     "execution_count": 147,
     "metadata": {},
     "output_type": "execute_result"
    }
   ],
   "source": [
    "# df.ndim: 객체의 차원\n",
    "df_hk.ndim"
   ]
  },
  {
   "cell_type": "code",
   "execution_count": 148,
   "metadata": {
    "colab": {
     "base_uri": "https://localhost:8080/"
    },
    "executionInfo": {
     "elapsed": 808,
     "status": "ok",
     "timestamp": 1664848861458,
     "user": {
      "displayName": "jinyang park",
      "userId": "06576046992691541404"
     },
     "user_tz": -540
    },
    "id": "vo-P63iluQVS",
    "outputId": "bb3b4157-dc05-4656-c0bb-c6b1e66cbcdb"
   },
   "outputs": [
    {
     "data": {
      "text/plain": [
       "(250, 10)"
      ]
     },
     "execution_count": 148,
     "metadata": {},
     "output_type": "execute_result"
    }
   ],
   "source": [
    "# df.shape: 각 차원의 길이\n",
    "df_hk.shape"
   ]
  },
  {
   "cell_type": "code",
   "execution_count": 149,
   "metadata": {
    "colab": {
     "base_uri": "https://localhost:8080/"
    },
    "executionInfo": {
     "elapsed": 370,
     "status": "ok",
     "timestamp": 1664867439597,
     "user": {
      "displayName": "jinyang park",
      "userId": "06576046992691541404"
     },
     "user_tz": -540
    },
    "id": "y1dEAM0Cua5I",
    "outputId": "46d54048-5383-4b1e-d133-1dcae3d107c2"
   },
   "outputs": [
    {
     "data": {
      "text/plain": [
       "name            object\n",
       "jumin7          object\n",
       "gender          object\n",
       "height         float64\n",
       "age              int64\n",
       "blood_type      object\n",
       "company         object\n",
       "grades          object\n",
       "salary           int64\n",
       "expenditure      int64\n",
       "dtype: object"
      ]
     },
     "execution_count": 149,
     "metadata": {},
     "output_type": "execute_result"
    }
   ],
   "source": [
    "# df.dtypes: 데이터 타입 dtype와 구별, 복수형이라야 함\n",
    "df_hk.dtypes"
   ]
  },
  {
   "cell_type": "code",
   "execution_count": 150,
   "metadata": {
    "colab": {
     "base_uri": "https://localhost:8080/"
    },
    "executionInfo": {
     "elapsed": 349,
     "status": "ok",
     "timestamp": 1664880698699,
     "user": {
      "displayName": "jinyang park",
      "userId": "06576046992691541404"
     },
     "user_tz": -540
    },
    "id": "zFbH4Yux1MXx",
    "outputId": "1746a7f7-be3d-4a07-8862-98e74ac1c61f"
   },
   "outputs": [
    {
     "name": "stdout",
     "output_type": "stream",
     "text": [
      "<class 'pandas.core.frame.DataFrame'>\n",
      "RangeIndex: 250 entries, 0 to 249\n",
      "Data columns (total 10 columns):\n",
      " #   Column       Non-Null Count  Dtype  \n",
      "---  ------       --------------  -----  \n",
      " 0   name         250 non-null    object \n",
      " 1   jumin7       250 non-null    object \n",
      " 2   gender       250 non-null    object \n",
      " 3   height       250 non-null    float64\n",
      " 4   age          250 non-null    int64  \n",
      " 5   blood_type   250 non-null    object \n",
      " 6   company      250 non-null    object \n",
      " 7   grades       250 non-null    object \n",
      " 8   salary       250 non-null    int64  \n",
      " 9   expenditure  250 non-null    int64  \n",
      "dtypes: float64(1), int64(3), object(6)\n",
      "memory usage: 19.7+ KB\n"
     ]
    }
   ],
   "source": [
    "# df.info(): 데이터 타입 정보 요약, 결측치 정보\n",
    "df_hk.info()"
   ]
  },
  {
   "cell_type": "code",
   "execution_count": 151,
   "metadata": {
    "colab": {
     "base_uri": "https://localhost:8080/"
    },
    "executionInfo": {
     "elapsed": 4,
     "status": "ok",
     "timestamp": 1664880802021,
     "user": {
      "displayName": "jinyang park",
      "userId": "06576046992691541404"
     },
     "user_tz": -540
    },
    "id": "Aq1FdVLlzyo_",
    "outputId": "48575d80-19d5-49e2-fd43-ec21a001627f"
   },
   "outputs": [
    {
     "data": {
      "text/plain": [
       "Index(['name', 'jumin7', 'gender', 'height', 'age', 'blood_type', 'company',\n",
       "       'grades', 'salary', 'expenditure'],\n",
       "      dtype='object')"
      ]
     },
     "execution_count": 151,
     "metadata": {},
     "output_type": "execute_result"
    }
   ],
   "source": [
    "# df.columns: column명\n",
    "df_hk.columns"
   ]
  },
  {
   "cell_type": "code",
   "execution_count": 152,
   "metadata": {
    "colab": {
     "base_uri": "https://localhost:8080/",
     "height": 300
    },
    "executionInfo": {
     "elapsed": 656,
     "status": "ok",
     "timestamp": 1664882819258,
     "user": {
      "displayName": "jinyang park",
      "userId": "06576046992691541404"
     },
     "user_tz": -540
    },
    "id": "2bHov1qkzypB",
    "outputId": "591dc98f-677a-4fab-be51-8d5ddcaec0dd"
   },
   "outputs": [
    {
     "data": {
      "text/html": [
       "<div>\n",
       "<style scoped>\n",
       "    .dataframe tbody tr th:only-of-type {\n",
       "        vertical-align: middle;\n",
       "    }\n",
       "\n",
       "    .dataframe tbody tr th {\n",
       "        vertical-align: top;\n",
       "    }\n",
       "\n",
       "    .dataframe thead th {\n",
       "        text-align: right;\n",
       "    }\n",
       "</style>\n",
       "<table border=\"1\" class=\"dataframe\">\n",
       "  <thead>\n",
       "    <tr style=\"text-align: right;\">\n",
       "      <th></th>\n",
       "      <th>height</th>\n",
       "      <th>age</th>\n",
       "      <th>salary</th>\n",
       "      <th>expenditure</th>\n",
       "    </tr>\n",
       "  </thead>\n",
       "  <tbody>\n",
       "    <tr>\n",
       "      <th>count</th>\n",
       "      <td>250.000000</td>\n",
       "      <td>250.000000</td>\n",
       "      <td>250.000000</td>\n",
       "      <td>250.000000</td>\n",
       "    </tr>\n",
       "    <tr>\n",
       "      <th>mean</th>\n",
       "      <td>169.569200</td>\n",
       "      <td>39.240000</td>\n",
       "      <td>6357.480000</td>\n",
       "      <td>4971.480000</td>\n",
       "    </tr>\n",
       "    <tr>\n",
       "      <th>std</th>\n",
       "      <td>12.283857</td>\n",
       "      <td>8.653899</td>\n",
       "      <td>1849.791383</td>\n",
       "      <td>1861.112508</td>\n",
       "    </tr>\n",
       "    <tr>\n",
       "      <th>min</th>\n",
       "      <td>148.100000</td>\n",
       "      <td>20.000000</td>\n",
       "      <td>3080.000000</td>\n",
       "      <td>1330.000000</td>\n",
       "    </tr>\n",
       "    <tr>\n",
       "      <th>25%</th>\n",
       "      <td>159.300000</td>\n",
       "      <td>33.000000</td>\n",
       "      <td>5002.500000</td>\n",
       "      <td>3593.750000</td>\n",
       "    </tr>\n",
       "    <tr>\n",
       "      <th>50%</th>\n",
       "      <td>168.750000</td>\n",
       "      <td>39.000000</td>\n",
       "      <td>6100.000000</td>\n",
       "      <td>4762.500000</td>\n",
       "    </tr>\n",
       "    <tr>\n",
       "      <th>75%</th>\n",
       "      <td>180.375000</td>\n",
       "      <td>46.000000</td>\n",
       "      <td>7427.500000</td>\n",
       "      <td>6272.500000</td>\n",
       "    </tr>\n",
       "    <tr>\n",
       "      <th>max</th>\n",
       "      <td>191.800000</td>\n",
       "      <td>55.000000</td>\n",
       "      <td>11990.000000</td>\n",
       "      <td>10865.000000</td>\n",
       "    </tr>\n",
       "  </tbody>\n",
       "</table>\n",
       "</div>"
      ],
      "text/plain": [
       "           height         age        salary   expenditure\n",
       "count  250.000000  250.000000    250.000000    250.000000\n",
       "mean   169.569200   39.240000   6357.480000   4971.480000\n",
       "std     12.283857    8.653899   1849.791383   1861.112508\n",
       "min    148.100000   20.000000   3080.000000   1330.000000\n",
       "25%    159.300000   33.000000   5002.500000   3593.750000\n",
       "50%    168.750000   39.000000   6100.000000   4762.500000\n",
       "75%    180.375000   46.000000   7427.500000   6272.500000\n",
       "max    191.800000   55.000000  11990.000000  10865.000000"
      ]
     },
     "execution_count": 152,
     "metadata": {},
     "output_type": "execute_result"
    }
   ],
   "source": [
    "# df.describe(): 수치형 데이터 요약 정보\n",
    "df_hk.describe()"
   ]
  },
  {
   "cell_type": "code",
   "execution_count": 154,
   "metadata": {
    "colab": {
     "base_uri": "https://localhost:8080/",
     "height": 394
    },
    "executionInfo": {
     "elapsed": 622,
     "status": "ok",
     "timestamp": 1664867933584,
     "user": {
      "displayName": "jinyang park",
      "userId": "06576046992691541404"
     },
     "user_tz": -540
    },
    "id": "QkqncW_d2D20",
    "outputId": "88525af3-bea8-45c5-f955-779671d0f79a"
   },
   "outputs": [
    {
     "data": {
      "text/html": [
       "<div>\n",
       "<style scoped>\n",
       "    .dataframe tbody tr th:only-of-type {\n",
       "        vertical-align: middle;\n",
       "    }\n",
       "\n",
       "    .dataframe tbody tr th {\n",
       "        vertical-align: top;\n",
       "    }\n",
       "\n",
       "    .dataframe thead th {\n",
       "        text-align: right;\n",
       "    }\n",
       "</style>\n",
       "<table border=\"1\" class=\"dataframe\">\n",
       "  <thead>\n",
       "    <tr style=\"text-align: right;\">\n",
       "      <th></th>\n",
       "      <th>height</th>\n",
       "      <th>age</th>\n",
       "      <th>salary</th>\n",
       "      <th>expenditure</th>\n",
       "    </tr>\n",
       "  </thead>\n",
       "  <tbody>\n",
       "    <tr>\n",
       "      <th>count</th>\n",
       "      <td>250.000000</td>\n",
       "      <td>250.000000</td>\n",
       "      <td>250.000000</td>\n",
       "      <td>250.000000</td>\n",
       "    </tr>\n",
       "    <tr>\n",
       "      <th>mean</th>\n",
       "      <td>169.569200</td>\n",
       "      <td>39.240000</td>\n",
       "      <td>6357.480000</td>\n",
       "      <td>4971.480000</td>\n",
       "    </tr>\n",
       "    <tr>\n",
       "      <th>std</th>\n",
       "      <td>12.283857</td>\n",
       "      <td>8.653899</td>\n",
       "      <td>1849.791383</td>\n",
       "      <td>1861.112508</td>\n",
       "    </tr>\n",
       "    <tr>\n",
       "      <th>min</th>\n",
       "      <td>148.100000</td>\n",
       "      <td>20.000000</td>\n",
       "      <td>3080.000000</td>\n",
       "      <td>1330.000000</td>\n",
       "    </tr>\n",
       "    <tr>\n",
       "      <th>25%</th>\n",
       "      <td>159.300000</td>\n",
       "      <td>33.000000</td>\n",
       "      <td>5002.500000</td>\n",
       "      <td>3593.750000</td>\n",
       "    </tr>\n",
       "    <tr>\n",
       "      <th>50%</th>\n",
       "      <td>168.750000</td>\n",
       "      <td>39.000000</td>\n",
       "      <td>6100.000000</td>\n",
       "      <td>4762.500000</td>\n",
       "    </tr>\n",
       "    <tr>\n",
       "      <th>75%</th>\n",
       "      <td>180.375000</td>\n",
       "      <td>46.000000</td>\n",
       "      <td>7427.500000</td>\n",
       "      <td>6272.500000</td>\n",
       "    </tr>\n",
       "    <tr>\n",
       "      <th>max</th>\n",
       "      <td>191.800000</td>\n",
       "      <td>55.000000</td>\n",
       "      <td>11990.000000</td>\n",
       "      <td>10865.000000</td>\n",
       "    </tr>\n",
       "  </tbody>\n",
       "</table>\n",
       "</div>"
      ],
      "text/plain": [
       "           height         age        salary   expenditure\n",
       "count  250.000000  250.000000    250.000000    250.000000\n",
       "mean   169.569200   39.240000   6357.480000   4971.480000\n",
       "std     12.283857    8.653899   1849.791383   1861.112508\n",
       "min    148.100000   20.000000   3080.000000   1330.000000\n",
       "25%    159.300000   33.000000   5002.500000   3593.750000\n",
       "50%    168.750000   39.000000   6100.000000   4762.500000\n",
       "75%    180.375000   46.000000   7427.500000   6272.500000\n",
       "max    191.800000   55.000000  11990.000000  10865.000000"
      ]
     },
     "execution_count": 154,
     "metadata": {},
     "output_type": "execute_result"
    }
   ],
   "source": [
    "# df.describe(): all 데이터 요약 정보\n",
    "df_hk.describe()"
   ]
  },
  {
   "cell_type": "markdown",
   "metadata": {
    "id": "tQgaErchzypN"
   },
   "source": [
    "### 2_4. Index와 Column 객체"
   ]
  },
  {
   "cell_type": "code",
   "execution_count": 156,
   "metadata": {
    "id": "4AEN5cDVzypN"
   },
   "outputs": [
    {
     "data": {
      "text/html": [
       "<div>\n",
       "<style scoped>\n",
       "    .dataframe tbody tr th:only-of-type {\n",
       "        vertical-align: middle;\n",
       "    }\n",
       "\n",
       "    .dataframe tbody tr th {\n",
       "        vertical-align: top;\n",
       "    }\n",
       "\n",
       "    .dataframe thead th {\n",
       "        text-align: right;\n",
       "    }\n",
       "</style>\n",
       "<table border=\"1\" class=\"dataframe\">\n",
       "  <thead>\n",
       "    <tr style=\"text-align: right;\">\n",
       "      <th></th>\n",
       "      <th>name</th>\n",
       "      <th>jumin7</th>\n",
       "      <th>gender</th>\n",
       "      <th>height</th>\n",
       "      <th>age</th>\n",
       "      <th>blood_type</th>\n",
       "      <th>company</th>\n",
       "      <th>grades</th>\n",
       "      <th>salary</th>\n",
       "      <th>expenditure</th>\n",
       "    </tr>\n",
       "  </thead>\n",
       "  <tbody>\n",
       "    <tr>\n",
       "      <th>0</th>\n",
       "      <td>hkd1</td>\n",
       "      <td>990623-2</td>\n",
       "      <td>F</td>\n",
       "      <td>161.9</td>\n",
       "      <td>22</td>\n",
       "      <td>A</td>\n",
       "      <td>A</td>\n",
       "      <td>A</td>\n",
       "      <td>4100</td>\n",
       "      <td>1975</td>\n",
       "    </tr>\n",
       "    <tr>\n",
       "      <th>1</th>\n",
       "      <td>hkd10</td>\n",
       "      <td>900303-2</td>\n",
       "      <td>F</td>\n",
       "      <td>169.4</td>\n",
       "      <td>31</td>\n",
       "      <td>A</td>\n",
       "      <td>A</td>\n",
       "      <td>B</td>\n",
       "      <td>4720</td>\n",
       "      <td>2970</td>\n",
       "    </tr>\n",
       "  </tbody>\n",
       "</table>\n",
       "</div>"
      ],
      "text/plain": [
       "    name    jumin7 gender  height  age blood_type company grades  salary  \\\n",
       "0   hkd1  990623-2      F   161.9   22          A       A      A    4100   \n",
       "1  hkd10  900303-2      F   169.4   31          A       A      B    4720   \n",
       "\n",
       "   expenditure  \n",
       "0         1975  \n",
       "1         2970  "
      ]
     },
     "execution_count": 156,
     "metadata": {},
     "output_type": "execute_result"
    }
   ],
   "source": [
    "# 파일 로딩 \n",
    "df_hk = pd.read_csv('./ktd_2_data230224/hk_221206.csv')\n",
    "df_hk.head(2)"
   ]
  },
  {
   "cell_type": "code",
   "execution_count": 157,
   "metadata": {
    "colab": {
     "base_uri": "https://localhost:8080/",
     "height": 206
    },
    "executionInfo": {
     "elapsed": 304,
     "status": "ok",
     "timestamp": 1664945778312,
     "user": {
      "displayName": "jinyang park",
      "userId": "06576046992691541404"
     },
     "user_tz": -540
    },
    "id": "BUER_QfGf_Fi",
    "outputId": "acea04c4-07f1-4075-e133-fbef1945d769"
   },
   "outputs": [
    {
     "data": {
      "text/plain": [
       "array([ 0,  1,  2,  3,  4,  5,  6,  7,  8,  9, 10, 11, 12, 13, 14, 15, 16,\n",
       "       17, 18, 19, 20, 21, 22, 23, 24, 25, 26, 27, 28, 29, 30, 31, 32, 33,\n",
       "       34, 35, 36, 37, 38, 39, 40, 41, 42, 43, 44, 45, 46, 47, 48, 49])"
      ]
     },
     "execution_count": 157,
     "metadata": {},
     "output_type": "execute_result"
    }
   ],
   "source": [
    "# Index, column 보기\n",
    "df_hk.index.values[:50]"
   ]
  },
  {
   "cell_type": "code",
   "execution_count": 158,
   "metadata": {
    "colab": {
     "base_uri": "https://localhost:8080/"
    },
    "executionInfo": {
     "elapsed": 300,
     "status": "ok",
     "timestamp": 1664945842025,
     "user": {
      "displayName": "jinyang park",
      "userId": "06576046992691541404"
     },
     "user_tz": -540
    },
    "id": "mEhVJyFGf785",
    "outputId": "e0ab1a19-fe10-41b8-b691-3097007747dc"
   },
   "outputs": [
    {
     "data": {
      "text/plain": [
       "RangeIndex(start=0, stop=250, step=1)"
      ]
     },
     "execution_count": 158,
     "metadata": {},
     "output_type": "execute_result"
    }
   ],
   "source": [
    "# Index 객체 추출\n",
    "df_hk.index"
   ]
  },
  {
   "cell_type": "code",
   "execution_count": null,
   "metadata": {
    "colab": {
     "base_uri": "https://localhost:8080/"
    },
    "executionInfo": {
     "elapsed": 545,
     "status": "ok",
     "timestamp": 1665648087958,
     "user": {
      "displayName": "jinyang park",
      "userId": "06576046992691541404"
     },
     "user_tz": -540
    },
    "id": "SEf1GiUmgS_Q",
    "outputId": "7f350a3f-9f5e-4986-a263-cc582918c51b"
   },
   "outputs": [],
   "source": [
    "# Index 객체 추출 (전체)\n",
    "df_hk.index.values"
   ]
  },
  {
   "cell_type": "code",
   "execution_count": null,
   "metadata": {
    "colab": {
     "base_uri": "https://localhost:8080/"
    },
    "executionInfo": {
     "elapsed": 364,
     "status": "ok",
     "timestamp": 1664946198786,
     "user": {
      "displayName": "jinyang park",
      "userId": "06576046992691541404"
     },
     "user_tz": -540
    },
    "id": "zfQ8vGcDhYXu",
    "outputId": "76a76216-fdaf-415e-8559-e5a8144b9744"
   },
   "outputs": [],
   "source": [
    "# Index 객체 추출 (일부)\n",
    "df_hk.index.values[:50]"
   ]
  },
  {
   "cell_type": "code",
   "execution_count": 159,
   "metadata": {
    "colab": {
     "base_uri": "https://localhost:8080/"
    },
    "executionInfo": {
     "elapsed": 326,
     "status": "ok",
     "timestamp": 1664946081329,
     "user": {
      "displayName": "jinyang park",
      "userId": "06576046992691541404"
     },
     "user_tz": -540
    },
    "id": "setBfmx0g2AQ",
    "outputId": "d6f99f72-92fc-4875-b037-4838ddc14548"
   },
   "outputs": [
    {
     "data": {
      "text/plain": [
       "Index(['name', 'jumin7', 'gender', 'height', 'age', 'blood_type', 'company',\n",
       "       'grades', 'salary', 'expenditure'],\n",
       "      dtype='object')"
      ]
     },
     "execution_count": 159,
     "metadata": {},
     "output_type": "execute_result"
    }
   ],
   "source": [
    "# column 객체 추출\n",
    "df_hk.columns"
   ]
  },
  {
   "cell_type": "code",
   "execution_count": 161,
   "metadata": {
    "colab": {
     "base_uri": "https://localhost:8080/"
    },
    "executionInfo": {
     "elapsed": 365,
     "status": "ok",
     "timestamp": 1664946251007,
     "user": {
      "displayName": "jinyang park",
      "userId": "06576046992691541404"
     },
     "user_tz": -540
    },
    "id": "j3G2FfWChxJE",
    "outputId": "656aaaa2-3828-4666-ce17-995a49247b5e"
   },
   "outputs": [
    {
     "data": {
      "text/plain": [
       "array(['name', 'jumin7', 'gender', 'height', 'age', 'blood_type',\n",
       "       'company', 'grades', 'salary', 'expenditure'], dtype=object)"
      ]
     },
     "execution_count": 161,
     "metadata": {},
     "output_type": "execute_result"
    }
   ],
   "source": [
    "# column 객체 추출 (일부)\n",
    "df_hk.columns.values[:50]"
   ]
  },
  {
   "cell_type": "code",
   "execution_count": 165,
   "metadata": {
    "colab": {
     "base_uri": "https://localhost:8080/"
    },
    "executionInfo": {
     "elapsed": 369,
     "status": "ok",
     "timestamp": 1664947040845,
     "user": {
      "displayName": "jinyang park",
      "userId": "06576046992691541404"
     },
     "user_tz": -540
    },
    "id": "z3sfAAtZiYzR",
    "outputId": "aef90776-b24c-421d-ec1e-df48d8b2c4fd"
   },
   "outputs": [
    {
     "data": {
      "text/plain": [
       "0      22\n",
       "1      31\n",
       "2      55\n",
       "3      28\n",
       "4      29\n",
       "       ..\n",
       "245    50\n",
       "246    51\n",
       "247    52\n",
       "248    53\n",
       "249    54\n",
       "Name: age, Length: 250, dtype: int64"
      ]
     },
     "execution_count": 165,
     "metadata": {},
     "output_type": "execute_result"
    }
   ],
   "source": [
    "# column 내용 추출 (1개)\n",
    "df_hk['age']"
   ]
  },
  {
   "cell_type": "code",
   "execution_count": 170,
   "metadata": {
    "colab": {
     "base_uri": "https://localhost:8080/",
     "height": 423
    },
    "executionInfo": {
     "elapsed": 366,
     "status": "ok",
     "timestamp": 1664947358640,
     "user": {
      "displayName": "jinyang park",
      "userId": "06576046992691541404"
     },
     "user_tz": -540
    },
    "id": "fUouhRDAkytS",
    "outputId": "aae6d963-4cd8-4838-f4d5-aba5d1704804"
   },
   "outputs": [
    {
     "data": {
      "text/html": [
       "<div>\n",
       "<style scoped>\n",
       "    .dataframe tbody tr th:only-of-type {\n",
       "        vertical-align: middle;\n",
       "    }\n",
       "\n",
       "    .dataframe tbody tr th {\n",
       "        vertical-align: top;\n",
       "    }\n",
       "\n",
       "    .dataframe thead th {\n",
       "        text-align: right;\n",
       "    }\n",
       "</style>\n",
       "<table border=\"1\" class=\"dataframe\">\n",
       "  <thead>\n",
       "    <tr style=\"text-align: right;\">\n",
       "      <th></th>\n",
       "      <th>age</th>\n",
       "      <th>jumin7</th>\n",
       "    </tr>\n",
       "  </thead>\n",
       "  <tbody>\n",
       "    <tr>\n",
       "      <th>0</th>\n",
       "      <td>22</td>\n",
       "      <td>990623-2</td>\n",
       "    </tr>\n",
       "    <tr>\n",
       "      <th>1</th>\n",
       "      <td>31</td>\n",
       "      <td>900303-2</td>\n",
       "    </tr>\n",
       "    <tr>\n",
       "      <th>2</th>\n",
       "      <td>55</td>\n",
       "      <td>681205-2</td>\n",
       "    </tr>\n",
       "    <tr>\n",
       "      <th>3</th>\n",
       "      <td>28</td>\n",
       "      <td>931226-2</td>\n",
       "    </tr>\n",
       "    <tr>\n",
       "      <th>4</th>\n",
       "      <td>29</td>\n",
       "      <td>920123-1</td>\n",
       "    </tr>\n",
       "    <tr>\n",
       "      <th>...</th>\n",
       "      <td>...</td>\n",
       "      <td>...</td>\n",
       "    </tr>\n",
       "    <tr>\n",
       "      <th>245</th>\n",
       "      <td>50</td>\n",
       "      <td>730710-2</td>\n",
       "    </tr>\n",
       "    <tr>\n",
       "      <th>246</th>\n",
       "      <td>51</td>\n",
       "      <td>720805-2</td>\n",
       "    </tr>\n",
       "    <tr>\n",
       "      <th>247</th>\n",
       "      <td>52</td>\n",
       "      <td>710929-1</td>\n",
       "    </tr>\n",
       "    <tr>\n",
       "      <th>248</th>\n",
       "      <td>53</td>\n",
       "      <td>701024-1</td>\n",
       "    </tr>\n",
       "    <tr>\n",
       "      <th>249</th>\n",
       "      <td>54</td>\n",
       "      <td>691115-2</td>\n",
       "    </tr>\n",
       "  </tbody>\n",
       "</table>\n",
       "<p>250 rows × 2 columns</p>\n",
       "</div>"
      ],
      "text/plain": [
       "     age    jumin7\n",
       "0     22  990623-2\n",
       "1     31  900303-2\n",
       "2     55  681205-2\n",
       "3     28  931226-2\n",
       "4     29  920123-1\n",
       "..   ...       ...\n",
       "245   50  730710-2\n",
       "246   51  720805-2\n",
       "247   52  710929-1\n",
       "248   53  701024-1\n",
       "249   54  691115-2\n",
       "\n",
       "[250 rows x 2 columns]"
      ]
     },
     "execution_count": 170,
     "metadata": {},
     "output_type": "execute_result"
    }
   ],
   "source": [
    "# column 내용 추출 (2개 이상)\n",
    "df_hk[['age','jumin7']]"
   ]
  },
  {
   "cell_type": "markdown",
   "metadata": {
    "id": "S07Dho4HfYXH"
   },
   "source": [
    "## Quiz 3\n",
    "\n",
    "1) bike.csv의 column을 전부 기술 하시오\n",
    "\n",
    "2) iris.cvs의 정수형 변수는 몇 개 인지 기술 하시오"
   ]
  },
  {
   "cell_type": "code",
   "execution_count": 171,
   "metadata": {
    "id": "WiTlYWlzfYXH"
   },
   "outputs": [
    {
     "name": "stdout",
     "output_type": "stream",
     "text": [
      "<class 'pandas.core.frame.DataFrame'>\n",
      "RangeIndex: 150 entries, 0 to 149\n",
      "Data columns (total 5 columns):\n",
      " #   Column        Non-Null Count  Dtype  \n",
      "---  ------        --------------  -----  \n",
      " 0   sepal_length  150 non-null    float64\n",
      " 1   sepal_width   150 non-null    float64\n",
      " 2   petal_length  150 non-null    float64\n",
      " 3   petal_width   150 non-null    float64\n",
      " 4   species       150 non-null    object \n",
      "dtypes: float64(4), object(1)\n",
      "memory usage: 6.0+ KB\n"
     ]
    }
   ],
   "source": [
    "df_bike.columns\n",
    "df_iris.info()"
   ]
  },
  {
   "cell_type": "markdown",
   "metadata": {
    "id": "w-YNI0R9szp0"
   },
   "source": [
    "### 2_5. 함수 및 메소드\n",
    "* df['age'].mean(): 평균값\n",
    "* df['age'].median(): 중앙값\n",
    "* df['age'].min(): 최소값\n",
    "* df['age'].max(): 최대값\n",
    "* df['age'].var(): 분산\n",
    "* df['age'].std(): 표준편차\n",
    "* df['age'].skew(): 왜도\n",
    "* df['age'].kurt(): 첨도\n",
    "* df['age'].count(): 개체수\n",
    "* df['age'].quantile(q = 0.25) : 1사분위수"
   ]
  },
  {
   "cell_type": "code",
   "execution_count": 172,
   "metadata": {
    "colab": {
     "base_uri": "https://localhost:8080/"
    },
    "executionInfo": {
     "elapsed": 880,
     "status": "ok",
     "timestamp": 1664945513331,
     "user": {
      "displayName": "jinyang park",
      "userId": "06576046992691541404"
     },
     "user_tz": -540
    },
    "id": "txsMy4rIvr-g",
    "outputId": "50c63d01-3cfe-4d98-f38a-51c27a20a155"
   },
   "outputs": [
    {
     "name": "stdout",
     "output_type": "stream",
     "text": [
      "df_hk['age'].min() :  20\n",
      "df_hk['age'].max() :  55\n",
      "df_hk['age'].var() :  74.88995983935743\n",
      "df_hk['age'].std() :  8.653898534149649\n",
      "df_hk['age'].skew() :  -0.07707060633056183\n",
      "df_hk['age'].kurt() :  -0.7894949277134797\n"
     ]
    }
   ],
   "source": [
    "# 수치형변수 함수 및 메소드\n",
    "print( \"df_hk['age'].min() : \", df_hk['age'].min())\n",
    "print( \"df_hk['age'].max() : \", df_hk['age'].max())\n",
    "print( \"df_hk['age'].var() : \", df_hk['age'].var())\n",
    "print( \"df_hk['age'].std() : \", df_hk['age'].std())\n",
    "print( \"df_hk['age'].skew() : \", df_hk['age'].skew())\n",
    "print( \"df_hk['age'].kurt() : \", df_hk['age'].kurt())"
   ]
  },
  {
   "cell_type": "markdown",
   "metadata": {
    "id": "_TtL3O8IzypH"
   },
   "source": [
    "* df['blood_type'].nunique(): Column내 개별 데이터값 갯수\n",
    "* df['blood_type'].unique(): Column내 개별 데이터값 내용\n",
    "* df['blood_type'].value_counts(): Column내 개별 데이터값의 분포\n",
    "\n",
    "  주의) default는 Null 값 제외, Null값 포함하려면 dropna를 True로 세팅"
   ]
  },
  {
   "cell_type": "code",
   "execution_count": 176,
   "metadata": {
    "colab": {
     "base_uri": "https://localhost:8080/"
    },
    "executionInfo": {
     "elapsed": 333,
     "status": "ok",
     "timestamp": 1664951101856,
     "user": {
      "displayName": "jinyang park",
      "userId": "06576046992691541404"
     },
     "user_tz": -540
    },
    "id": "Y-Tv-GMz0UVs",
    "outputId": "aa34e98a-212d-43e2-c806-7c05ba82af86"
   },
   "outputs": [
    {
     "data": {
      "text/plain": [
       "A     84\n",
       "O     83\n",
       "B     54\n",
       "AB    29\n",
       "Name: blood_type, dtype: int64"
      ]
     },
     "execution_count": 176,
     "metadata": {},
     "output_type": "execute_result"
    }
   ],
   "source": [
    "# 명목형변수 함수 및 메소드\n",
    "df_hk['blood_type'].nunique()\n",
    "df_hk['blood_type'].unique()\n",
    "df_hk['blood_type'].value_counts()"
   ]
  },
  {
   "cell_type": "markdown",
   "metadata": {
    "id": "qE2ymRWJfYXI"
   },
   "source": [
    "## Quiz 4\n",
    "\n",
    "1) iris.cvs의 column('species')의 value_counts()를 구하시오\n",
    "\n",
    "2) Online2.txt의 column('Country')의 unique()를 구하시오"
   ]
  },
  {
   "cell_type": "code",
   "execution_count": 179,
   "metadata": {
    "id": "jV14tKXAfYXI"
   },
   "outputs": [
    {
     "data": {
      "text/plain": [
       "38"
      ]
     },
     "execution_count": 179,
     "metadata": {},
     "output_type": "execute_result"
    }
   ],
   "source": [
    "df_iris['species'].value_counts()\n",
    "df_Online2['Country'].nunique()"
   ]
  },
  {
   "cell_type": "markdown",
   "metadata": {
    "id": "n2YHJwLJzypL"
   },
   "source": [
    "### 2_6. column 생성, 수정, 삭제\n"
   ]
  },
  {
   "cell_type": "code",
   "execution_count": 180,
   "metadata": {
    "colab": {
     "base_uri": "https://localhost:8080/",
     "height": 143
    },
    "executionInfo": {
     "elapsed": 413,
     "status": "ok",
     "timestamp": 1664948225632,
     "user": {
      "displayName": "jinyang park",
      "userId": "06576046992691541404"
     },
     "user_tz": -540
    },
    "id": "DW-XZ071zypL",
    "outputId": "60c4813b-fc03-4bd1-bb5e-bdffa8ffe4e5"
   },
   "outputs": [
    {
     "name": "stdout",
     "output_type": "stream",
     "text": [
      "<class 'pandas.core.frame.DataFrame'>\n",
      "RangeIndex: 250 entries, 0 to 249\n",
      "Data columns (total 10 columns):\n",
      " #   Column       Non-Null Count  Dtype  \n",
      "---  ------       --------------  -----  \n",
      " 0   name         250 non-null    object \n",
      " 1   jumin7       250 non-null    object \n",
      " 2   gender       250 non-null    object \n",
      " 3   height       250 non-null    float64\n",
      " 4   age          250 non-null    int64  \n",
      " 5   blood_type   250 non-null    object \n",
      " 6   company      250 non-null    object \n",
      " 7   grades       250 non-null    object \n",
      " 8   salary       250 non-null    int64  \n",
      " 9   expenditure  250 non-null    int64  \n",
      "dtypes: float64(1), int64(3), object(6)\n",
      "memory usage: 19.7+ KB\n"
     ]
    }
   ],
   "source": [
    "# column 생성\n",
    "df_hk.info()"
   ]
  },
  {
   "cell_type": "code",
   "execution_count": 182,
   "metadata": {
    "colab": {
     "base_uri": "https://localhost:8080/",
     "height": 112
    },
    "executionInfo": {
     "elapsed": 311,
     "status": "ok",
     "timestamp": 1664948250873,
     "user": {
      "displayName": "jinyang park",
      "userId": "06576046992691541404"
     },
     "user_tz": -540
    },
    "id": "aJ2GF644pBGH",
    "outputId": "667db9d2-9276-471f-e121-8166188aecac"
   },
   "outputs": [
    {
     "name": "stdout",
     "output_type": "stream",
     "text": [
      "<class 'pandas.core.frame.DataFrame'>\n",
      "RangeIndex: 250 entries, 0 to 249\n",
      "Data columns (total 11 columns):\n",
      " #   Column       Non-Null Count  Dtype  \n",
      "---  ------       --------------  -----  \n",
      " 0   name         250 non-null    object \n",
      " 1   jumin7       250 non-null    object \n",
      " 2   gender       250 non-null    object \n",
      " 3   height       250 non-null    float64\n",
      " 4   age          250 non-null    int64  \n",
      " 5   blood_type   250 non-null    object \n",
      " 6   company      250 non-null    object \n",
      " 7   grades       250 non-null    object \n",
      " 8   salary       250 non-null    int64  \n",
      " 9   expenditure  250 non-null    int64  \n",
      " 10  point        250 non-null    int64  \n",
      "dtypes: float64(1), int64(4), object(6)\n",
      "memory usage: 21.6+ KB\n"
     ]
    }
   ],
   "source": [
    "# column 수정\n",
    "df_hk['point'] = df_hk['age']+10\n",
    "df_hk.info()"
   ]
  },
  {
   "cell_type": "markdown",
   "metadata": {
    "id": "uuPPSvp3zypM"
   },
   "source": [
    "**axis에 따른 삭제**\n",
    "\n",
    "axis=1 일 경우 drop()은 column 방향으로 삭제"
   ]
  },
  {
   "cell_type": "code",
   "execution_count": 188,
   "metadata": {
    "colab": {
     "base_uri": "https://localhost:8080/",
     "height": 143
    },
    "executionInfo": {
     "elapsed": 388,
     "status": "ok",
     "timestamp": 1664948977613,
     "user": {
      "displayName": "jinyang park",
      "userId": "06576046992691541404"
     },
     "user_tz": -540
    },
    "id": "AKdVHG6wzypM",
    "outputId": "4586abb8-d858-4770-b627-e541d3ce21ac"
   },
   "outputs": [
    {
     "ename": "KeyError",
     "evalue": "\"['point'] not found in axis\"",
     "output_type": "error",
     "traceback": [
      "\u001b[0;31m---------------------------------------------------------------------------\u001b[0m",
      "\u001b[0;31mKeyError\u001b[0m                                  Traceback (most recent call last)",
      "Cell \u001b[0;32mIn[188], line 2\u001b[0m\n\u001b[1;32m      1\u001b[0m \u001b[38;5;66;03m# 1개 column 삭제\u001b[39;00m\n\u001b[0;32m----> 2\u001b[0m \u001b[43mdf_hk\u001b[49m\u001b[38;5;241;43m.\u001b[39;49m\u001b[43mdrop\u001b[49m\u001b[43m(\u001b[49m\u001b[38;5;124;43m'\u001b[39;49m\u001b[38;5;124;43mpoint\u001b[39;49m\u001b[38;5;124;43m'\u001b[39;49m\u001b[43m,\u001b[49m\u001b[43maxis\u001b[49m\u001b[38;5;241;43m=\u001b[39;49m\u001b[38;5;241;43m1\u001b[39;49m\u001b[43m,\u001b[49m\u001b[43m \u001b[49m\u001b[43minplace\u001b[49m\u001b[38;5;241;43m=\u001b[39;49m\u001b[38;5;28;43;01mTrue\u001b[39;49;00m\u001b[43m)\u001b[49m\n",
      "File \u001b[0;32m~/.pyenv/versions/3.11.1/envs/venv/lib/python3.11/site-packages/pandas/util/_decorators.py:331\u001b[0m, in \u001b[0;36mdeprecate_nonkeyword_arguments.<locals>.decorate.<locals>.wrapper\u001b[0;34m(*args, **kwargs)\u001b[0m\n\u001b[1;32m    325\u001b[0m \u001b[38;5;28;01mif\u001b[39;00m \u001b[38;5;28mlen\u001b[39m(args) \u001b[38;5;241m>\u001b[39m num_allow_args:\n\u001b[1;32m    326\u001b[0m     warnings\u001b[38;5;241m.\u001b[39mwarn(\n\u001b[1;32m    327\u001b[0m         msg\u001b[38;5;241m.\u001b[39mformat(arguments\u001b[38;5;241m=\u001b[39m_format_argument_list(allow_args)),\n\u001b[1;32m    328\u001b[0m         \u001b[38;5;167;01mFutureWarning\u001b[39;00m,\n\u001b[1;32m    329\u001b[0m         stacklevel\u001b[38;5;241m=\u001b[39mfind_stack_level(),\n\u001b[1;32m    330\u001b[0m     )\n\u001b[0;32m--> 331\u001b[0m \u001b[38;5;28;01mreturn\u001b[39;00m \u001b[43mfunc\u001b[49m\u001b[43m(\u001b[49m\u001b[38;5;241;43m*\u001b[39;49m\u001b[43margs\u001b[49m\u001b[43m,\u001b[49m\u001b[43m \u001b[49m\u001b[38;5;241;43m*\u001b[39;49m\u001b[38;5;241;43m*\u001b[39;49m\u001b[43mkwargs\u001b[49m\u001b[43m)\u001b[49m\n",
      "File \u001b[0;32m~/.pyenv/versions/3.11.1/envs/venv/lib/python3.11/site-packages/pandas/core/frame.py:5399\u001b[0m, in \u001b[0;36mDataFrame.drop\u001b[0;34m(self, labels, axis, index, columns, level, inplace, errors)\u001b[0m\n\u001b[1;32m   5251\u001b[0m \u001b[38;5;129m@deprecate_nonkeyword_arguments\u001b[39m(version\u001b[38;5;241m=\u001b[39m\u001b[38;5;28;01mNone\u001b[39;00m, allowed_args\u001b[38;5;241m=\u001b[39m[\u001b[38;5;124m\"\u001b[39m\u001b[38;5;124mself\u001b[39m\u001b[38;5;124m\"\u001b[39m, \u001b[38;5;124m\"\u001b[39m\u001b[38;5;124mlabels\u001b[39m\u001b[38;5;124m\"\u001b[39m])\n\u001b[1;32m   5252\u001b[0m \u001b[38;5;28;01mdef\u001b[39;00m \u001b[38;5;21mdrop\u001b[39m(  \u001b[38;5;66;03m# type: ignore[override]\u001b[39;00m\n\u001b[1;32m   5253\u001b[0m     \u001b[38;5;28mself\u001b[39m,\n\u001b[0;32m   (...)\u001b[0m\n\u001b[1;32m   5260\u001b[0m     errors: IgnoreRaise \u001b[38;5;241m=\u001b[39m \u001b[38;5;124m\"\u001b[39m\u001b[38;5;124mraise\u001b[39m\u001b[38;5;124m\"\u001b[39m,\n\u001b[1;32m   5261\u001b[0m ) \u001b[38;5;241m-\u001b[39m\u001b[38;5;241m>\u001b[39m DataFrame \u001b[38;5;241m|\u001b[39m \u001b[38;5;28;01mNone\u001b[39;00m:\n\u001b[1;32m   5262\u001b[0m \u001b[38;5;250m    \u001b[39m\u001b[38;5;124;03m\"\"\"\u001b[39;00m\n\u001b[1;32m   5263\u001b[0m \u001b[38;5;124;03m    Drop specified labels from rows or columns.\u001b[39;00m\n\u001b[1;32m   5264\u001b[0m \n\u001b[0;32m   (...)\u001b[0m\n\u001b[1;32m   5397\u001b[0m \u001b[38;5;124;03m            weight  1.0     0.8\u001b[39;00m\n\u001b[1;32m   5398\u001b[0m \u001b[38;5;124;03m    \"\"\"\u001b[39;00m\n\u001b[0;32m-> 5399\u001b[0m     \u001b[38;5;28;01mreturn\u001b[39;00m \u001b[38;5;28;43msuper\u001b[39;49m\u001b[43m(\u001b[49m\u001b[43m)\u001b[49m\u001b[38;5;241;43m.\u001b[39;49m\u001b[43mdrop\u001b[49m\u001b[43m(\u001b[49m\n\u001b[1;32m   5400\u001b[0m \u001b[43m        \u001b[49m\u001b[43mlabels\u001b[49m\u001b[38;5;241;43m=\u001b[39;49m\u001b[43mlabels\u001b[49m\u001b[43m,\u001b[49m\n\u001b[1;32m   5401\u001b[0m \u001b[43m        \u001b[49m\u001b[43maxis\u001b[49m\u001b[38;5;241;43m=\u001b[39;49m\u001b[43maxis\u001b[49m\u001b[43m,\u001b[49m\n\u001b[1;32m   5402\u001b[0m \u001b[43m        \u001b[49m\u001b[43mindex\u001b[49m\u001b[38;5;241;43m=\u001b[39;49m\u001b[43mindex\u001b[49m\u001b[43m,\u001b[49m\n\u001b[1;32m   5403\u001b[0m \u001b[43m        \u001b[49m\u001b[43mcolumns\u001b[49m\u001b[38;5;241;43m=\u001b[39;49m\u001b[43mcolumns\u001b[49m\u001b[43m,\u001b[49m\n\u001b[1;32m   5404\u001b[0m \u001b[43m        \u001b[49m\u001b[43mlevel\u001b[49m\u001b[38;5;241;43m=\u001b[39;49m\u001b[43mlevel\u001b[49m\u001b[43m,\u001b[49m\n\u001b[1;32m   5405\u001b[0m \u001b[43m        \u001b[49m\u001b[43minplace\u001b[49m\u001b[38;5;241;43m=\u001b[39;49m\u001b[43minplace\u001b[49m\u001b[43m,\u001b[49m\n\u001b[1;32m   5406\u001b[0m \u001b[43m        \u001b[49m\u001b[43merrors\u001b[49m\u001b[38;5;241;43m=\u001b[39;49m\u001b[43merrors\u001b[49m\u001b[43m,\u001b[49m\n\u001b[1;32m   5407\u001b[0m \u001b[43m    \u001b[49m\u001b[43m)\u001b[49m\n",
      "File \u001b[0;32m~/.pyenv/versions/3.11.1/envs/venv/lib/python3.11/site-packages/pandas/util/_decorators.py:331\u001b[0m, in \u001b[0;36mdeprecate_nonkeyword_arguments.<locals>.decorate.<locals>.wrapper\u001b[0;34m(*args, **kwargs)\u001b[0m\n\u001b[1;32m    325\u001b[0m \u001b[38;5;28;01mif\u001b[39;00m \u001b[38;5;28mlen\u001b[39m(args) \u001b[38;5;241m>\u001b[39m num_allow_args:\n\u001b[1;32m    326\u001b[0m     warnings\u001b[38;5;241m.\u001b[39mwarn(\n\u001b[1;32m    327\u001b[0m         msg\u001b[38;5;241m.\u001b[39mformat(arguments\u001b[38;5;241m=\u001b[39m_format_argument_list(allow_args)),\n\u001b[1;32m    328\u001b[0m         \u001b[38;5;167;01mFutureWarning\u001b[39;00m,\n\u001b[1;32m    329\u001b[0m         stacklevel\u001b[38;5;241m=\u001b[39mfind_stack_level(),\n\u001b[1;32m    330\u001b[0m     )\n\u001b[0;32m--> 331\u001b[0m \u001b[38;5;28;01mreturn\u001b[39;00m \u001b[43mfunc\u001b[49m\u001b[43m(\u001b[49m\u001b[38;5;241;43m*\u001b[39;49m\u001b[43margs\u001b[49m\u001b[43m,\u001b[49m\u001b[43m \u001b[49m\u001b[38;5;241;43m*\u001b[39;49m\u001b[38;5;241;43m*\u001b[39;49m\u001b[43mkwargs\u001b[49m\u001b[43m)\u001b[49m\n",
      "File \u001b[0;32m~/.pyenv/versions/3.11.1/envs/venv/lib/python3.11/site-packages/pandas/core/generic.py:4505\u001b[0m, in \u001b[0;36mNDFrame.drop\u001b[0;34m(self, labels, axis, index, columns, level, inplace, errors)\u001b[0m\n\u001b[1;32m   4503\u001b[0m \u001b[38;5;28;01mfor\u001b[39;00m axis, labels \u001b[38;5;129;01min\u001b[39;00m axes\u001b[38;5;241m.\u001b[39mitems():\n\u001b[1;32m   4504\u001b[0m     \u001b[38;5;28;01mif\u001b[39;00m labels \u001b[38;5;129;01mis\u001b[39;00m \u001b[38;5;129;01mnot\u001b[39;00m \u001b[38;5;28;01mNone\u001b[39;00m:\n\u001b[0;32m-> 4505\u001b[0m         obj \u001b[38;5;241m=\u001b[39m \u001b[43mobj\u001b[49m\u001b[38;5;241;43m.\u001b[39;49m\u001b[43m_drop_axis\u001b[49m\u001b[43m(\u001b[49m\u001b[43mlabels\u001b[49m\u001b[43m,\u001b[49m\u001b[43m \u001b[49m\u001b[43maxis\u001b[49m\u001b[43m,\u001b[49m\u001b[43m \u001b[49m\u001b[43mlevel\u001b[49m\u001b[38;5;241;43m=\u001b[39;49m\u001b[43mlevel\u001b[49m\u001b[43m,\u001b[49m\u001b[43m \u001b[49m\u001b[43merrors\u001b[49m\u001b[38;5;241;43m=\u001b[39;49m\u001b[43merrors\u001b[49m\u001b[43m)\u001b[49m\n\u001b[1;32m   4507\u001b[0m \u001b[38;5;28;01mif\u001b[39;00m inplace:\n\u001b[1;32m   4508\u001b[0m     \u001b[38;5;28mself\u001b[39m\u001b[38;5;241m.\u001b[39m_update_inplace(obj)\n",
      "File \u001b[0;32m~/.pyenv/versions/3.11.1/envs/venv/lib/python3.11/site-packages/pandas/core/generic.py:4546\u001b[0m, in \u001b[0;36mNDFrame._drop_axis\u001b[0;34m(self, labels, axis, level, errors, only_slice)\u001b[0m\n\u001b[1;32m   4544\u001b[0m         new_axis \u001b[38;5;241m=\u001b[39m axis\u001b[38;5;241m.\u001b[39mdrop(labels, level\u001b[38;5;241m=\u001b[39mlevel, errors\u001b[38;5;241m=\u001b[39merrors)\n\u001b[1;32m   4545\u001b[0m     \u001b[38;5;28;01melse\u001b[39;00m:\n\u001b[0;32m-> 4546\u001b[0m         new_axis \u001b[38;5;241m=\u001b[39m \u001b[43maxis\u001b[49m\u001b[38;5;241;43m.\u001b[39;49m\u001b[43mdrop\u001b[49m\u001b[43m(\u001b[49m\u001b[43mlabels\u001b[49m\u001b[43m,\u001b[49m\u001b[43m \u001b[49m\u001b[43merrors\u001b[49m\u001b[38;5;241;43m=\u001b[39;49m\u001b[43merrors\u001b[49m\u001b[43m)\u001b[49m\n\u001b[1;32m   4547\u001b[0m     indexer \u001b[38;5;241m=\u001b[39m axis\u001b[38;5;241m.\u001b[39mget_indexer(new_axis)\n\u001b[1;32m   4549\u001b[0m \u001b[38;5;66;03m# Case for non-unique axis\u001b[39;00m\n\u001b[1;32m   4550\u001b[0m \u001b[38;5;28;01melse\u001b[39;00m:\n",
      "File \u001b[0;32m~/.pyenv/versions/3.11.1/envs/venv/lib/python3.11/site-packages/pandas/core/indexes/base.py:6934\u001b[0m, in \u001b[0;36mIndex.drop\u001b[0;34m(self, labels, errors)\u001b[0m\n\u001b[1;32m   6932\u001b[0m \u001b[38;5;28;01mif\u001b[39;00m mask\u001b[38;5;241m.\u001b[39many():\n\u001b[1;32m   6933\u001b[0m     \u001b[38;5;28;01mif\u001b[39;00m errors \u001b[38;5;241m!=\u001b[39m \u001b[38;5;124m\"\u001b[39m\u001b[38;5;124mignore\u001b[39m\u001b[38;5;124m\"\u001b[39m:\n\u001b[0;32m-> 6934\u001b[0m         \u001b[38;5;28;01mraise\u001b[39;00m \u001b[38;5;167;01mKeyError\u001b[39;00m(\u001b[38;5;124mf\u001b[39m\u001b[38;5;124m\"\u001b[39m\u001b[38;5;132;01m{\u001b[39;00m\u001b[38;5;28mlist\u001b[39m(labels[mask])\u001b[38;5;132;01m}\u001b[39;00m\u001b[38;5;124m not found in axis\u001b[39m\u001b[38;5;124m\"\u001b[39m)\n\u001b[1;32m   6935\u001b[0m     indexer \u001b[38;5;241m=\u001b[39m indexer[\u001b[38;5;241m~\u001b[39mmask]\n\u001b[1;32m   6936\u001b[0m \u001b[38;5;28;01mreturn\u001b[39;00m \u001b[38;5;28mself\u001b[39m\u001b[38;5;241m.\u001b[39mdelete(indexer)\n",
      "\u001b[0;31mKeyError\u001b[0m: \"['point'] not found in axis\""
     ]
    }
   ],
   "source": [
    "# 1개 column 삭제\n",
    "df_hk.drop('point',axis=1, inplace=True)"
   ]
  },
  {
   "cell_type": "code",
   "execution_count": 4,
   "metadata": {
    "colab": {
     "base_uri": "https://localhost:8080/",
     "height": 143
    },
    "executionInfo": {
     "elapsed": 281,
     "status": "ok",
     "timestamp": 1664949287281,
     "user": {
      "displayName": "jinyang park",
      "userId": "06576046992691541404"
     },
     "user_tz": -540
    },
    "id": "3uYrPMG4zypM",
    "outputId": "40f38123-f71d-4462-dc96-49ab0351f7ee"
   },
   "outputs": [
    {
     "data": {
      "text/html": [
       "<div>\n",
       "<style scoped>\n",
       "    .dataframe tbody tr th:only-of-type {\n",
       "        vertical-align: middle;\n",
       "    }\n",
       "\n",
       "    .dataframe tbody tr th {\n",
       "        vertical-align: top;\n",
       "    }\n",
       "\n",
       "    .dataframe thead th {\n",
       "        text-align: right;\n",
       "    }\n",
       "</style>\n",
       "<table border=\"1\" class=\"dataframe\">\n",
       "  <thead>\n",
       "    <tr style=\"text-align: right;\">\n",
       "      <th></th>\n",
       "      <th>name</th>\n",
       "      <th>jumin7</th>\n",
       "      <th>gender</th>\n",
       "      <th>blood_type</th>\n",
       "      <th>company</th>\n",
       "      <th>grades</th>\n",
       "      <th>expenditure</th>\n",
       "    </tr>\n",
       "  </thead>\n",
       "  <tbody>\n",
       "    <tr>\n",
       "      <th>0</th>\n",
       "      <td>hkd1</td>\n",
       "      <td>990623-2</td>\n",
       "      <td>F</td>\n",
       "      <td>A</td>\n",
       "      <td>A</td>\n",
       "      <td>A</td>\n",
       "      <td>1975</td>\n",
       "    </tr>\n",
       "    <tr>\n",
       "      <th>1</th>\n",
       "      <td>hkd10</td>\n",
       "      <td>900303-2</td>\n",
       "      <td>F</td>\n",
       "      <td>A</td>\n",
       "      <td>A</td>\n",
       "      <td>B</td>\n",
       "      <td>2970</td>\n",
       "    </tr>\n",
       "    <tr>\n",
       "      <th>2</th>\n",
       "      <td>hkd100</td>\n",
       "      <td>681205-2</td>\n",
       "      <td>F</td>\n",
       "      <td>A</td>\n",
       "      <td>A</td>\n",
       "      <td>B</td>\n",
       "      <td>5905</td>\n",
       "    </tr>\n",
       "    <tr>\n",
       "      <th>3</th>\n",
       "      <td>hkd101</td>\n",
       "      <td>931226-2</td>\n",
       "      <td>F</td>\n",
       "      <td>AB</td>\n",
       "      <td>B</td>\n",
       "      <td>B</td>\n",
       "      <td>2935</td>\n",
       "    </tr>\n",
       "    <tr>\n",
       "      <th>4</th>\n",
       "      <td>hkd102</td>\n",
       "      <td>920123-1</td>\n",
       "      <td>M</td>\n",
       "      <td>O</td>\n",
       "      <td>B</td>\n",
       "      <td>F</td>\n",
       "      <td>4015</td>\n",
       "    </tr>\n",
       "    <tr>\n",
       "      <th>...</th>\n",
       "      <td>...</td>\n",
       "      <td>...</td>\n",
       "      <td>...</td>\n",
       "      <td>...</td>\n",
       "      <td>...</td>\n",
       "      <td>...</td>\n",
       "      <td>...</td>\n",
       "    </tr>\n",
       "    <tr>\n",
       "      <th>245</th>\n",
       "      <td>hkd95</td>\n",
       "      <td>730710-2</td>\n",
       "      <td>F</td>\n",
       "      <td>A</td>\n",
       "      <td>A</td>\n",
       "      <td>A</td>\n",
       "      <td>4865</td>\n",
       "    </tr>\n",
       "    <tr>\n",
       "      <th>246</th>\n",
       "      <td>hkd96</td>\n",
       "      <td>720805-2</td>\n",
       "      <td>F</td>\n",
       "      <td>O</td>\n",
       "      <td>A</td>\n",
       "      <td>A</td>\n",
       "      <td>4985</td>\n",
       "    </tr>\n",
       "    <tr>\n",
       "      <th>247</th>\n",
       "      <td>hkd97</td>\n",
       "      <td>710929-1</td>\n",
       "      <td>M</td>\n",
       "      <td>A</td>\n",
       "      <td>A</td>\n",
       "      <td>B</td>\n",
       "      <td>6625</td>\n",
       "    </tr>\n",
       "    <tr>\n",
       "      <th>248</th>\n",
       "      <td>hkd98</td>\n",
       "      <td>701024-1</td>\n",
       "      <td>M</td>\n",
       "      <td>O</td>\n",
       "      <td>A</td>\n",
       "      <td>B</td>\n",
       "      <td>7385</td>\n",
       "    </tr>\n",
       "    <tr>\n",
       "      <th>249</th>\n",
       "      <td>hkd99</td>\n",
       "      <td>691115-2</td>\n",
       "      <td>F</td>\n",
       "      <td>B</td>\n",
       "      <td>A</td>\n",
       "      <td>B</td>\n",
       "      <td>6095</td>\n",
       "    </tr>\n",
       "  </tbody>\n",
       "</table>\n",
       "<p>250 rows × 7 columns</p>\n",
       "</div>"
      ],
      "text/plain": [
       "       name    jumin7 gender blood_type company grades  expenditure\n",
       "0      hkd1  990623-2      F          A       A      A         1975\n",
       "1     hkd10  900303-2      F          A       A      B         2970\n",
       "2    hkd100  681205-2      F          A       A      B         5905\n",
       "3    hkd101  931226-2      F         AB       B      B         2935\n",
       "4    hkd102  920123-1      M          O       B      F         4015\n",
       "..      ...       ...    ...        ...     ...    ...          ...\n",
       "245   hkd95  730710-2      F          A       A      A         4865\n",
       "246   hkd96  720805-2      F          O       A      A         4985\n",
       "247   hkd97  710929-1      M          A       A      B         6625\n",
       "248   hkd98  701024-1      M          O       A      B         7385\n",
       "249   hkd99  691115-2      F          B       A      B         6095\n",
       "\n",
       "[250 rows x 7 columns]"
      ]
     },
     "execution_count": 4,
     "metadata": {},
     "output_type": "execute_result"
    }
   ],
   "source": [
    "# 2개 이상 column 삭제는 list로 입력. inplace=True일 경우 호출을 한 DataFrame에 drop결과가 직접 반영 \n",
    "import pandas as pd\n",
    "df_hk = pd.read_csv('./ktd_2_data230224/hk_221206.csv')\n",
    "df_drop=df_hk.drop(['age','height','salary'],axis=1)\n",
    "df_drop"
   ]
  },
  {
   "cell_type": "markdown",
   "metadata": {
    "id": "jp3FyUY6zypM"
   },
   "source": [
    "axis=0 일 경우 drop()은 row 방향으로 삭제 "
   ]
  },
  {
   "cell_type": "code",
   "execution_count": 6,
   "metadata": {
    "colab": {
     "base_uri": "https://localhost:8080/",
     "height": 143
    },
    "executionInfo": {
     "elapsed": 296,
     "status": "ok",
     "timestamp": 1664949669594,
     "user": {
      "displayName": "jinyang park",
      "userId": "06576046992691541404"
     },
     "user_tz": -540
    },
    "id": "q27_84RDuHab",
    "outputId": "858ce658-eea7-49e2-e58a-16831af3a0cc"
   },
   "outputs": [
    {
     "data": {
      "text/html": [
       "<div>\n",
       "<style scoped>\n",
       "    .dataframe tbody tr th:only-of-type {\n",
       "        vertical-align: middle;\n",
       "    }\n",
       "\n",
       "    .dataframe tbody tr th {\n",
       "        vertical-align: top;\n",
       "    }\n",
       "\n",
       "    .dataframe thead th {\n",
       "        text-align: right;\n",
       "    }\n",
       "</style>\n",
       "<table border=\"1\" class=\"dataframe\">\n",
       "  <thead>\n",
       "    <tr style=\"text-align: right;\">\n",
       "      <th></th>\n",
       "      <th>name</th>\n",
       "      <th>jumin7</th>\n",
       "      <th>gender</th>\n",
       "      <th>blood_type</th>\n",
       "      <th>company</th>\n",
       "      <th>grades</th>\n",
       "      <th>expenditure</th>\n",
       "    </tr>\n",
       "  </thead>\n",
       "  <tbody>\n",
       "    <tr>\n",
       "      <th>1</th>\n",
       "      <td>hkd10</td>\n",
       "      <td>900303-2</td>\n",
       "      <td>F</td>\n",
       "      <td>A</td>\n",
       "      <td>A</td>\n",
       "      <td>B</td>\n",
       "      <td>2970</td>\n",
       "    </tr>\n",
       "    <tr>\n",
       "      <th>2</th>\n",
       "      <td>hkd100</td>\n",
       "      <td>681205-2</td>\n",
       "      <td>F</td>\n",
       "      <td>A</td>\n",
       "      <td>A</td>\n",
       "      <td>B</td>\n",
       "      <td>5905</td>\n",
       "    </tr>\n",
       "    <tr>\n",
       "      <th>3</th>\n",
       "      <td>hkd101</td>\n",
       "      <td>931226-2</td>\n",
       "      <td>F</td>\n",
       "      <td>AB</td>\n",
       "      <td>B</td>\n",
       "      <td>B</td>\n",
       "      <td>2935</td>\n",
       "    </tr>\n",
       "    <tr>\n",
       "      <th>4</th>\n",
       "      <td>hkd102</td>\n",
       "      <td>920123-1</td>\n",
       "      <td>M</td>\n",
       "      <td>O</td>\n",
       "      <td>B</td>\n",
       "      <td>F</td>\n",
       "      <td>4015</td>\n",
       "    </tr>\n",
       "    <tr>\n",
       "      <th>5</th>\n",
       "      <td>hkd103</td>\n",
       "      <td>910215-2</td>\n",
       "      <td>F</td>\n",
       "      <td>A</td>\n",
       "      <td>B</td>\n",
       "      <td>A</td>\n",
       "      <td>1915</td>\n",
       "    </tr>\n",
       "    <tr>\n",
       "      <th>...</th>\n",
       "      <td>...</td>\n",
       "      <td>...</td>\n",
       "      <td>...</td>\n",
       "      <td>...</td>\n",
       "      <td>...</td>\n",
       "      <td>...</td>\n",
       "      <td>...</td>\n",
       "    </tr>\n",
       "    <tr>\n",
       "      <th>245</th>\n",
       "      <td>hkd95</td>\n",
       "      <td>730710-2</td>\n",
       "      <td>F</td>\n",
       "      <td>A</td>\n",
       "      <td>A</td>\n",
       "      <td>A</td>\n",
       "      <td>4865</td>\n",
       "    </tr>\n",
       "    <tr>\n",
       "      <th>246</th>\n",
       "      <td>hkd96</td>\n",
       "      <td>720805-2</td>\n",
       "      <td>F</td>\n",
       "      <td>O</td>\n",
       "      <td>A</td>\n",
       "      <td>A</td>\n",
       "      <td>4985</td>\n",
       "    </tr>\n",
       "    <tr>\n",
       "      <th>247</th>\n",
       "      <td>hkd97</td>\n",
       "      <td>710929-1</td>\n",
       "      <td>M</td>\n",
       "      <td>A</td>\n",
       "      <td>A</td>\n",
       "      <td>B</td>\n",
       "      <td>6625</td>\n",
       "    </tr>\n",
       "    <tr>\n",
       "      <th>248</th>\n",
       "      <td>hkd98</td>\n",
       "      <td>701024-1</td>\n",
       "      <td>M</td>\n",
       "      <td>O</td>\n",
       "      <td>A</td>\n",
       "      <td>B</td>\n",
       "      <td>7385</td>\n",
       "    </tr>\n",
       "    <tr>\n",
       "      <th>249</th>\n",
       "      <td>hkd99</td>\n",
       "      <td>691115-2</td>\n",
       "      <td>F</td>\n",
       "      <td>B</td>\n",
       "      <td>A</td>\n",
       "      <td>B</td>\n",
       "      <td>6095</td>\n",
       "    </tr>\n",
       "  </tbody>\n",
       "</table>\n",
       "<p>249 rows × 7 columns</p>\n",
       "</div>"
      ],
      "text/plain": [
       "       name    jumin7 gender blood_type company grades  expenditure\n",
       "1     hkd10  900303-2      F          A       A      B         2970\n",
       "2    hkd100  681205-2      F          A       A      B         5905\n",
       "3    hkd101  931226-2      F         AB       B      B         2935\n",
       "4    hkd102  920123-1      M          O       B      F         4015\n",
       "5    hkd103  910215-2      F          A       B      A         1915\n",
       "..      ...       ...    ...        ...     ...    ...          ...\n",
       "245   hkd95  730710-2      F          A       A      A         4865\n",
       "246   hkd96  720805-2      F          O       A      A         4985\n",
       "247   hkd97  710929-1      M          A       A      B         6625\n",
       "248   hkd98  701024-1      M          O       A      B         7385\n",
       "249   hkd99  691115-2      F          B       A      B         6095\n",
       "\n",
       "[249 rows x 7 columns]"
      ]
     },
     "execution_count": 6,
     "metadata": {},
     "output_type": "execute_result"
    }
   ],
   "source": [
    "# 1개 row 삭제\n",
    "df_drop.drop(0,axis=0)"
   ]
  },
  {
   "cell_type": "code",
   "execution_count": 7,
   "metadata": {
    "colab": {
     "base_uri": "https://localhost:8080/",
     "height": 143
    },
    "executionInfo": {
     "elapsed": 311,
     "status": "ok",
     "timestamp": 1664949681781,
     "user": {
      "displayName": "jinyang park",
      "userId": "06576046992691541404"
     },
     "user_tz": -540
    },
    "id": "MXwtdUGPuqf0",
    "outputId": "4e94af64-8838-4e9b-a2be-7dc633e9598c"
   },
   "outputs": [
    {
     "data": {
      "text/html": [
       "<div>\n",
       "<style scoped>\n",
       "    .dataframe tbody tr th:only-of-type {\n",
       "        vertical-align: middle;\n",
       "    }\n",
       "\n",
       "    .dataframe tbody tr th {\n",
       "        vertical-align: top;\n",
       "    }\n",
       "\n",
       "    .dataframe thead th {\n",
       "        text-align: right;\n",
       "    }\n",
       "</style>\n",
       "<table border=\"1\" class=\"dataframe\">\n",
       "  <thead>\n",
       "    <tr style=\"text-align: right;\">\n",
       "      <th></th>\n",
       "      <th>name</th>\n",
       "      <th>jumin7</th>\n",
       "      <th>gender</th>\n",
       "      <th>blood_type</th>\n",
       "      <th>company</th>\n",
       "      <th>grades</th>\n",
       "      <th>expenditure</th>\n",
       "    </tr>\n",
       "  </thead>\n",
       "  <tbody>\n",
       "    <tr>\n",
       "      <th>2</th>\n",
       "      <td>hkd100</td>\n",
       "      <td>681205-2</td>\n",
       "      <td>F</td>\n",
       "      <td>A</td>\n",
       "      <td>A</td>\n",
       "      <td>B</td>\n",
       "      <td>5905</td>\n",
       "    </tr>\n",
       "    <tr>\n",
       "      <th>3</th>\n",
       "      <td>hkd101</td>\n",
       "      <td>931226-2</td>\n",
       "      <td>F</td>\n",
       "      <td>AB</td>\n",
       "      <td>B</td>\n",
       "      <td>B</td>\n",
       "      <td>2935</td>\n",
       "    </tr>\n",
       "    <tr>\n",
       "      <th>4</th>\n",
       "      <td>hkd102</td>\n",
       "      <td>920123-1</td>\n",
       "      <td>M</td>\n",
       "      <td>O</td>\n",
       "      <td>B</td>\n",
       "      <td>F</td>\n",
       "      <td>4015</td>\n",
       "    </tr>\n",
       "    <tr>\n",
       "      <th>5</th>\n",
       "      <td>hkd103</td>\n",
       "      <td>910215-2</td>\n",
       "      <td>F</td>\n",
       "      <td>A</td>\n",
       "      <td>B</td>\n",
       "      <td>A</td>\n",
       "      <td>1915</td>\n",
       "    </tr>\n",
       "    <tr>\n",
       "      <th>6</th>\n",
       "      <td>hkd104</td>\n",
       "      <td>990623-1</td>\n",
       "      <td>M</td>\n",
       "      <td>A</td>\n",
       "      <td>B</td>\n",
       "      <td>A</td>\n",
       "      <td>2375</td>\n",
       "    </tr>\n",
       "    <tr>\n",
       "      <th>...</th>\n",
       "      <td>...</td>\n",
       "      <td>...</td>\n",
       "      <td>...</td>\n",
       "      <td>...</td>\n",
       "      <td>...</td>\n",
       "      <td>...</td>\n",
       "      <td>...</td>\n",
       "    </tr>\n",
       "    <tr>\n",
       "      <th>245</th>\n",
       "      <td>hkd95</td>\n",
       "      <td>730710-2</td>\n",
       "      <td>F</td>\n",
       "      <td>A</td>\n",
       "      <td>A</td>\n",
       "      <td>A</td>\n",
       "      <td>4865</td>\n",
       "    </tr>\n",
       "    <tr>\n",
       "      <th>246</th>\n",
       "      <td>hkd96</td>\n",
       "      <td>720805-2</td>\n",
       "      <td>F</td>\n",
       "      <td>O</td>\n",
       "      <td>A</td>\n",
       "      <td>A</td>\n",
       "      <td>4985</td>\n",
       "    </tr>\n",
       "    <tr>\n",
       "      <th>247</th>\n",
       "      <td>hkd97</td>\n",
       "      <td>710929-1</td>\n",
       "      <td>M</td>\n",
       "      <td>A</td>\n",
       "      <td>A</td>\n",
       "      <td>B</td>\n",
       "      <td>6625</td>\n",
       "    </tr>\n",
       "    <tr>\n",
       "      <th>248</th>\n",
       "      <td>hkd98</td>\n",
       "      <td>701024-1</td>\n",
       "      <td>M</td>\n",
       "      <td>O</td>\n",
       "      <td>A</td>\n",
       "      <td>B</td>\n",
       "      <td>7385</td>\n",
       "    </tr>\n",
       "    <tr>\n",
       "      <th>249</th>\n",
       "      <td>hkd99</td>\n",
       "      <td>691115-2</td>\n",
       "      <td>F</td>\n",
       "      <td>B</td>\n",
       "      <td>A</td>\n",
       "      <td>B</td>\n",
       "      <td>6095</td>\n",
       "    </tr>\n",
       "  </tbody>\n",
       "</table>\n",
       "<p>248 rows × 7 columns</p>\n",
       "</div>"
      ],
      "text/plain": [
       "       name    jumin7 gender blood_type company grades  expenditure\n",
       "2    hkd100  681205-2      F          A       A      B         5905\n",
       "3    hkd101  931226-2      F         AB       B      B         2935\n",
       "4    hkd102  920123-1      M          O       B      F         4015\n",
       "5    hkd103  910215-2      F          A       B      A         1915\n",
       "6    hkd104  990623-1      M          A       B      A         2375\n",
       "..      ...       ...    ...        ...     ...    ...          ...\n",
       "245   hkd95  730710-2      F          A       A      A         4865\n",
       "246   hkd96  720805-2      F          O       A      A         4985\n",
       "247   hkd97  710929-1      M          A       A      B         6625\n",
       "248   hkd98  701024-1      M          O       A      B         7385\n",
       "249   hkd99  691115-2      F          B       A      B         6095\n",
       "\n",
       "[248 rows x 7 columns]"
      ]
     },
     "execution_count": 7,
     "metadata": {},
     "output_type": "execute_result"
    }
   ],
   "source": [
    "# 2개 이상 row 삭제\n",
    "df_drop.drop([0,1],axis=0)"
   ]
  },
  {
   "cell_type": "markdown",
   "metadata": {
    "id": "ZXbO-9Oh_abf"
   },
   "source": [
    "column명 변경"
   ]
  },
  {
   "cell_type": "code",
   "execution_count": 9,
   "metadata": {
    "colab": {
     "base_uri": "https://localhost:8080/",
     "height": 423
    },
    "executionInfo": {
     "elapsed": 812,
     "status": "ok",
     "timestamp": 1665626982528,
     "user": {
      "displayName": "jinyang park",
      "userId": "06576046992691541404"
     },
     "user_tz": -540
    },
    "id": "o1eQuPf7_Zsb",
    "outputId": "a8373057-3ede-4d9d-deea-e5e03edd63a5"
   },
   "outputs": [
    {
     "data": {
      "text/html": [
       "<div>\n",
       "<style scoped>\n",
       "    .dataframe tbody tr th:only-of-type {\n",
       "        vertical-align: middle;\n",
       "    }\n",
       "\n",
       "    .dataframe tbody tr th {\n",
       "        vertical-align: top;\n",
       "    }\n",
       "\n",
       "    .dataframe thead th {\n",
       "        text-align: right;\n",
       "    }\n",
       "</style>\n",
       "<table border=\"1\" class=\"dataframe\">\n",
       "  <thead>\n",
       "    <tr style=\"text-align: right;\">\n",
       "      <th></th>\n",
       "      <th>name</th>\n",
       "      <th>jumin7</th>\n",
       "      <th>sex</th>\n",
       "      <th>height</th>\n",
       "      <th>age</th>\n",
       "      <th>blood_type</th>\n",
       "      <th>company</th>\n",
       "      <th>grades</th>\n",
       "      <th>salary</th>\n",
       "      <th>expenditure</th>\n",
       "    </tr>\n",
       "  </thead>\n",
       "  <tbody>\n",
       "    <tr>\n",
       "      <th>0</th>\n",
       "      <td>hkd1</td>\n",
       "      <td>990623-2</td>\n",
       "      <td>F</td>\n",
       "      <td>161.9</td>\n",
       "      <td>22</td>\n",
       "      <td>A</td>\n",
       "      <td>A</td>\n",
       "      <td>A</td>\n",
       "      <td>4100</td>\n",
       "      <td>1975</td>\n",
       "    </tr>\n",
       "    <tr>\n",
       "      <th>1</th>\n",
       "      <td>hkd10</td>\n",
       "      <td>900303-2</td>\n",
       "      <td>F</td>\n",
       "      <td>169.4</td>\n",
       "      <td>31</td>\n",
       "      <td>A</td>\n",
       "      <td>A</td>\n",
       "      <td>B</td>\n",
       "      <td>4720</td>\n",
       "      <td>2970</td>\n",
       "    </tr>\n",
       "    <tr>\n",
       "      <th>2</th>\n",
       "      <td>hkd100</td>\n",
       "      <td>681205-2</td>\n",
       "      <td>F</td>\n",
       "      <td>168.3</td>\n",
       "      <td>55</td>\n",
       "      <td>A</td>\n",
       "      <td>A</td>\n",
       "      <td>B</td>\n",
       "      <td>7280</td>\n",
       "      <td>5905</td>\n",
       "    </tr>\n",
       "    <tr>\n",
       "      <th>3</th>\n",
       "      <td>hkd101</td>\n",
       "      <td>931226-2</td>\n",
       "      <td>F</td>\n",
       "      <td>155.3</td>\n",
       "      <td>28</td>\n",
       "      <td>AB</td>\n",
       "      <td>B</td>\n",
       "      <td>B</td>\n",
       "      <td>4060</td>\n",
       "      <td>2935</td>\n",
       "    </tr>\n",
       "    <tr>\n",
       "      <th>4</th>\n",
       "      <td>hkd102</td>\n",
       "      <td>920123-1</td>\n",
       "      <td>M</td>\n",
       "      <td>188.6</td>\n",
       "      <td>29</td>\n",
       "      <td>O</td>\n",
       "      <td>B</td>\n",
       "      <td>F</td>\n",
       "      <td>4390</td>\n",
       "      <td>4015</td>\n",
       "    </tr>\n",
       "    <tr>\n",
       "      <th>...</th>\n",
       "      <td>...</td>\n",
       "      <td>...</td>\n",
       "      <td>...</td>\n",
       "      <td>...</td>\n",
       "      <td>...</td>\n",
       "      <td>...</td>\n",
       "      <td>...</td>\n",
       "      <td>...</td>\n",
       "      <td>...</td>\n",
       "      <td>...</td>\n",
       "    </tr>\n",
       "    <tr>\n",
       "      <th>245</th>\n",
       "      <td>hkd95</td>\n",
       "      <td>730710-2</td>\n",
       "      <td>F</td>\n",
       "      <td>157.8</td>\n",
       "      <td>50</td>\n",
       "      <td>A</td>\n",
       "      <td>A</td>\n",
       "      <td>A</td>\n",
       "      <td>6990</td>\n",
       "      <td>4865</td>\n",
       "    </tr>\n",
       "    <tr>\n",
       "      <th>246</th>\n",
       "      <td>hkd96</td>\n",
       "      <td>720805-2</td>\n",
       "      <td>F</td>\n",
       "      <td>150.4</td>\n",
       "      <td>51</td>\n",
       "      <td>O</td>\n",
       "      <td>A</td>\n",
       "      <td>A</td>\n",
       "      <td>7110</td>\n",
       "      <td>4985</td>\n",
       "    </tr>\n",
       "    <tr>\n",
       "      <th>247</th>\n",
       "      <td>hkd97</td>\n",
       "      <td>710929-1</td>\n",
       "      <td>M</td>\n",
       "      <td>172.4</td>\n",
       "      <td>52</td>\n",
       "      <td>A</td>\n",
       "      <td>A</td>\n",
       "      <td>B</td>\n",
       "      <td>8000</td>\n",
       "      <td>6625</td>\n",
       "    </tr>\n",
       "    <tr>\n",
       "      <th>248</th>\n",
       "      <td>hkd98</td>\n",
       "      <td>701024-1</td>\n",
       "      <td>M</td>\n",
       "      <td>166.7</td>\n",
       "      <td>53</td>\n",
       "      <td>O</td>\n",
       "      <td>A</td>\n",
       "      <td>B</td>\n",
       "      <td>8760</td>\n",
       "      <td>7385</td>\n",
       "    </tr>\n",
       "    <tr>\n",
       "      <th>249</th>\n",
       "      <td>hkd99</td>\n",
       "      <td>691115-2</td>\n",
       "      <td>F</td>\n",
       "      <td>152.6</td>\n",
       "      <td>54</td>\n",
       "      <td>B</td>\n",
       "      <td>A</td>\n",
       "      <td>B</td>\n",
       "      <td>7470</td>\n",
       "      <td>6095</td>\n",
       "    </tr>\n",
       "  </tbody>\n",
       "</table>\n",
       "<p>250 rows × 10 columns</p>\n",
       "</div>"
      ],
      "text/plain": [
       "       name    jumin7 sex  height  age blood_type company grades  salary  \\\n",
       "0      hkd1  990623-2   F   161.9   22          A       A      A    4100   \n",
       "1     hkd10  900303-2   F   169.4   31          A       A      B    4720   \n",
       "2    hkd100  681205-2   F   168.3   55          A       A      B    7280   \n",
       "3    hkd101  931226-2   F   155.3   28         AB       B      B    4060   \n",
       "4    hkd102  920123-1   M   188.6   29          O       B      F    4390   \n",
       "..      ...       ...  ..     ...  ...        ...     ...    ...     ...   \n",
       "245   hkd95  730710-2   F   157.8   50          A       A      A    6990   \n",
       "246   hkd96  720805-2   F   150.4   51          O       A      A    7110   \n",
       "247   hkd97  710929-1   M   172.4   52          A       A      B    8000   \n",
       "248   hkd98  701024-1   M   166.7   53          O       A      B    8760   \n",
       "249   hkd99  691115-2   F   152.6   54          B       A      B    7470   \n",
       "\n",
       "     expenditure  \n",
       "0           1975  \n",
       "1           2970  \n",
       "2           5905  \n",
       "3           2935  \n",
       "4           4015  \n",
       "..           ...  \n",
       "245         4865  \n",
       "246         4985  \n",
       "247         6625  \n",
       "248         7385  \n",
       "249         6095  \n",
       "\n",
       "[250 rows x 10 columns]"
      ]
     },
     "execution_count": 9,
     "metadata": {},
     "output_type": "execute_result"
    }
   ],
   "source": [
    "# rename\n",
    "df_hk.rename(columns={'gender':'sex'})"
   ]
  },
  {
   "cell_type": "code",
   "execution_count": null,
   "metadata": {
    "colab": {
     "base_uri": "https://localhost:8080/"
    },
    "executionInfo": {
     "elapsed": 589,
     "status": "ok",
     "timestamp": 1665648250823,
     "user": {
      "displayName": "jinyang park",
      "userId": "06576046992691541404"
     },
     "user_tz": -540
    },
    "id": "Q14Dm8ejGvC7",
    "outputId": "4376b4f7-1652-452f-eb95-93d3700c7b93"
   },
   "outputs": [],
   "source": [
    "# df.columns=['name','jumin7']"
   ]
  },
  {
   "cell_type": "markdown",
   "metadata": {
    "id": "cccNCu99fYXK"
   },
   "source": [
    "## Quiz 5\n",
    "\n",
    "1) iris.cvs의 column('sepal_length' , 'sepal_width')의 숫자 합을  파생변수 'sepal'로 생성하시오"
   ]
  },
  {
   "cell_type": "code",
   "execution_count": 10,
   "metadata": {
    "id": "GQXXiTbnfYXL"
   },
   "outputs": [],
   "source": [
    "df_iris = pd.read_csv('./ktd_2_data230224/iris.csv')\n",
    "df_iris['sepal'] = df_iris['sepal_length'] + df_iris['sepal_width']"
   ]
  },
  {
   "cell_type": "markdown",
   "metadata": {
    "id": "oNMitHI6zypP"
   },
   "source": [
    "### 2_7. 인덱싱 및 필터링"
   ]
  },
  {
   "cell_type": "markdown",
   "metadata": {
    "id": "WFsO_LsEzypP"
   },
   "source": [
    "* DataFrame [ ] 로 row와 column을 인덱싱"
   ]
  },
  {
   "cell_type": "code",
   "execution_count": 11,
   "metadata": {
    "id": "hTrhQmfOH45R"
   },
   "outputs": [],
   "source": [
    "# 파일 로딩 \n",
    "df_hk = pd.read_csv('./ktd_2_data230224/hk_221206.csv')"
   ]
  },
  {
   "cell_type": "code",
   "execution_count": 12,
   "metadata": {
    "colab": {
     "base_uri": "https://localhost:8080/"
    },
    "executionInfo": {
     "elapsed": 304,
     "status": "ok",
     "timestamp": 1665627168966,
     "user": {
      "displayName": "jinyang park",
      "userId": "06576046992691541404"
     },
     "user_tz": -540
    },
    "id": "BpkD19tRzypP",
    "outputId": "f519592f-ecf4-4ff5-a09b-103705b5c9c9"
   },
   "outputs": [
    {
     "data": {
      "text/html": [
       "<div>\n",
       "<style scoped>\n",
       "    .dataframe tbody tr th:only-of-type {\n",
       "        vertical-align: middle;\n",
       "    }\n",
       "\n",
       "    .dataframe tbody tr th {\n",
       "        vertical-align: top;\n",
       "    }\n",
       "\n",
       "    .dataframe thead th {\n",
       "        text-align: right;\n",
       "    }\n",
       "</style>\n",
       "<table border=\"1\" class=\"dataframe\">\n",
       "  <thead>\n",
       "    <tr style=\"text-align: right;\">\n",
       "      <th></th>\n",
       "      <th>age</th>\n",
       "      <th>jumin7</th>\n",
       "    </tr>\n",
       "  </thead>\n",
       "  <tbody>\n",
       "    <tr>\n",
       "      <th>0</th>\n",
       "      <td>22</td>\n",
       "      <td>990623-2</td>\n",
       "    </tr>\n",
       "    <tr>\n",
       "      <th>1</th>\n",
       "      <td>31</td>\n",
       "      <td>900303-2</td>\n",
       "    </tr>\n",
       "    <tr>\n",
       "      <th>2</th>\n",
       "      <td>55</td>\n",
       "      <td>681205-2</td>\n",
       "    </tr>\n",
       "    <tr>\n",
       "      <th>3</th>\n",
       "      <td>28</td>\n",
       "      <td>931226-2</td>\n",
       "    </tr>\n",
       "    <tr>\n",
       "      <th>4</th>\n",
       "      <td>29</td>\n",
       "      <td>920123-1</td>\n",
       "    </tr>\n",
       "    <tr>\n",
       "      <th>...</th>\n",
       "      <td>...</td>\n",
       "      <td>...</td>\n",
       "    </tr>\n",
       "    <tr>\n",
       "      <th>245</th>\n",
       "      <td>50</td>\n",
       "      <td>730710-2</td>\n",
       "    </tr>\n",
       "    <tr>\n",
       "      <th>246</th>\n",
       "      <td>51</td>\n",
       "      <td>720805-2</td>\n",
       "    </tr>\n",
       "    <tr>\n",
       "      <th>247</th>\n",
       "      <td>52</td>\n",
       "      <td>710929-1</td>\n",
       "    </tr>\n",
       "    <tr>\n",
       "      <th>248</th>\n",
       "      <td>53</td>\n",
       "      <td>701024-1</td>\n",
       "    </tr>\n",
       "    <tr>\n",
       "      <th>249</th>\n",
       "      <td>54</td>\n",
       "      <td>691115-2</td>\n",
       "    </tr>\n",
       "  </tbody>\n",
       "</table>\n",
       "<p>250 rows × 2 columns</p>\n",
       "</div>"
      ],
      "text/plain": [
       "     age    jumin7\n",
       "0     22  990623-2\n",
       "1     31  900303-2\n",
       "2     55  681205-2\n",
       "3     28  931226-2\n",
       "4     29  920123-1\n",
       "..   ...       ...\n",
       "245   50  730710-2\n",
       "246   51  720805-2\n",
       "247   52  710929-1\n",
       "248   53  701024-1\n",
       "249   54  691115-2\n",
       "\n",
       "[250 rows x 2 columns]"
      ]
     },
     "execution_count": 12,
     "metadata": {},
     "output_type": "execute_result"
    }
   ],
   "source": [
    "# []에 한개의 column만 입력하면 Series 객체를 반환  \n",
    "df_hk[['age','jumin7']]"
   ]
  },
  {
   "cell_type": "code",
   "execution_count": 13,
   "metadata": {
    "colab": {
     "base_uri": "https://localhost:8080/",
     "height": 206
    },
    "executionInfo": {
     "elapsed": 394,
     "status": "ok",
     "timestamp": 1672371737566,
     "user": {
      "displayName": "jinyang park",
      "userId": "06576046992691541404"
     },
     "user_tz": -540
    },
    "id": "uZTp6UO13omF",
    "outputId": "a0e245a8-3624-457e-ca5d-25e6436680dc"
   },
   "outputs": [
    {
     "data": {
      "text/html": [
       "<div>\n",
       "<style scoped>\n",
       "    .dataframe tbody tr th:only-of-type {\n",
       "        vertical-align: middle;\n",
       "    }\n",
       "\n",
       "    .dataframe tbody tr th {\n",
       "        vertical-align: top;\n",
       "    }\n",
       "\n",
       "    .dataframe thead th {\n",
       "        text-align: right;\n",
       "    }\n",
       "</style>\n",
       "<table border=\"1\" class=\"dataframe\">\n",
       "  <thead>\n",
       "    <tr style=\"text-align: right;\">\n",
       "      <th></th>\n",
       "      <th>name</th>\n",
       "      <th>jumin7</th>\n",
       "      <th>gender</th>\n",
       "      <th>height</th>\n",
       "      <th>age</th>\n",
       "      <th>blood_type</th>\n",
       "      <th>company</th>\n",
       "      <th>grades</th>\n",
       "      <th>salary</th>\n",
       "      <th>expenditure</th>\n",
       "    </tr>\n",
       "  </thead>\n",
       "  <tbody>\n",
       "    <tr>\n",
       "      <th>2</th>\n",
       "      <td>hkd100</td>\n",
       "      <td>681205-2</td>\n",
       "      <td>F</td>\n",
       "      <td>168.3</td>\n",
       "      <td>55</td>\n",
       "      <td>A</td>\n",
       "      <td>A</td>\n",
       "      <td>B</td>\n",
       "      <td>7280</td>\n",
       "      <td>5905</td>\n",
       "    </tr>\n",
       "    <tr>\n",
       "      <th>3</th>\n",
       "      <td>hkd101</td>\n",
       "      <td>931226-2</td>\n",
       "      <td>F</td>\n",
       "      <td>155.3</td>\n",
       "      <td>28</td>\n",
       "      <td>AB</td>\n",
       "      <td>B</td>\n",
       "      <td>B</td>\n",
       "      <td>4060</td>\n",
       "      <td>2935</td>\n",
       "    </tr>\n",
       "    <tr>\n",
       "      <th>4</th>\n",
       "      <td>hkd102</td>\n",
       "      <td>920123-1</td>\n",
       "      <td>M</td>\n",
       "      <td>188.6</td>\n",
       "      <td>29</td>\n",
       "      <td>O</td>\n",
       "      <td>B</td>\n",
       "      <td>F</td>\n",
       "      <td>4390</td>\n",
       "      <td>4015</td>\n",
       "    </tr>\n",
       "  </tbody>\n",
       "</table>\n",
       "</div>"
      ],
      "text/plain": [
       "     name    jumin7 gender  height  age blood_type company grades  salary  \\\n",
       "2  hkd100  681205-2      F   168.3   55          A       A      B    7280   \n",
       "3  hkd101  931226-2      F   155.3   28         AB       B      B    4060   \n",
       "4  hkd102  920123-1      M   188.6   29          O       B      F    4390   \n",
       "\n",
       "   expenditure  \n",
       "2         5905  \n",
       "3         2935  \n",
       "4         4015  "
      ]
     },
     "execution_count": 13,
     "metadata": {},
     "output_type": "execute_result"
    }
   ],
   "source": [
    "# []에 여러개 column을 list로 입력하면 column들로 구성된 DataFrame을 반환  \n",
    "df_hk[2:5]"
   ]
  },
  {
   "cell_type": "code",
   "execution_count": 14,
   "metadata": {
    "colab": {
     "base_uri": "https://localhost:8080/",
     "height": 112
    },
    "executionInfo": {
     "elapsed": 890,
     "status": "ok",
     "timestamp": 1672371746444,
     "user": {
      "displayName": "jinyang park",
      "userId": "06576046992691541404"
     },
     "user_tz": -540
    },
    "id": "KOU2ICxG3ovA",
    "outputId": "683719cb-0f93-423a-ea8d-188a263d17d4"
   },
   "outputs": [
    {
     "data": {
      "text/html": [
       "<div>\n",
       "<style scoped>\n",
       "    .dataframe tbody tr th:only-of-type {\n",
       "        vertical-align: middle;\n",
       "    }\n",
       "\n",
       "    .dataframe tbody tr th {\n",
       "        vertical-align: top;\n",
       "    }\n",
       "\n",
       "    .dataframe thead th {\n",
       "        text-align: right;\n",
       "    }\n",
       "</style>\n",
       "<table border=\"1\" class=\"dataframe\">\n",
       "  <thead>\n",
       "    <tr style=\"text-align: right;\">\n",
       "      <th></th>\n",
       "      <th>name</th>\n",
       "      <th>jumin7</th>\n",
       "      <th>gender</th>\n",
       "      <th>height</th>\n",
       "      <th>age</th>\n",
       "      <th>blood_type</th>\n",
       "      <th>company</th>\n",
       "      <th>grades</th>\n",
       "      <th>salary</th>\n",
       "      <th>expenditure</th>\n",
       "    </tr>\n",
       "  </thead>\n",
       "  <tbody>\n",
       "    <tr>\n",
       "      <th>0</th>\n",
       "      <td>hkd1</td>\n",
       "      <td>990623-2</td>\n",
       "      <td>F</td>\n",
       "      <td>161.9</td>\n",
       "      <td>22</td>\n",
       "      <td>A</td>\n",
       "      <td>A</td>\n",
       "      <td>A</td>\n",
       "      <td>4100</td>\n",
       "      <td>1975</td>\n",
       "    </tr>\n",
       "    <tr>\n",
       "      <th>1</th>\n",
       "      <td>hkd10</td>\n",
       "      <td>900303-2</td>\n",
       "      <td>F</td>\n",
       "      <td>169.4</td>\n",
       "      <td>31</td>\n",
       "      <td>A</td>\n",
       "      <td>A</td>\n",
       "      <td>B</td>\n",
       "      <td>4720</td>\n",
       "      <td>2970</td>\n",
       "    </tr>\n",
       "    <tr>\n",
       "      <th>2</th>\n",
       "      <td>hkd100</td>\n",
       "      <td>681205-2</td>\n",
       "      <td>F</td>\n",
       "      <td>168.3</td>\n",
       "      <td>55</td>\n",
       "      <td>A</td>\n",
       "      <td>A</td>\n",
       "      <td>B</td>\n",
       "      <td>7280</td>\n",
       "      <td>5905</td>\n",
       "    </tr>\n",
       "    <tr>\n",
       "      <th>3</th>\n",
       "      <td>hkd101</td>\n",
       "      <td>931226-2</td>\n",
       "      <td>F</td>\n",
       "      <td>155.3</td>\n",
       "      <td>28</td>\n",
       "      <td>AB</td>\n",
       "      <td>B</td>\n",
       "      <td>B</td>\n",
       "      <td>4060</td>\n",
       "      <td>2935</td>\n",
       "    </tr>\n",
       "    <tr>\n",
       "      <th>4</th>\n",
       "      <td>hkd102</td>\n",
       "      <td>920123-1</td>\n",
       "      <td>M</td>\n",
       "      <td>188.6</td>\n",
       "      <td>29</td>\n",
       "      <td>O</td>\n",
       "      <td>B</td>\n",
       "      <td>F</td>\n",
       "      <td>4390</td>\n",
       "      <td>4015</td>\n",
       "    </tr>\n",
       "    <tr>\n",
       "      <th>5</th>\n",
       "      <td>hkd103</td>\n",
       "      <td>910215-2</td>\n",
       "      <td>F</td>\n",
       "      <td>150.2</td>\n",
       "      <td>30</td>\n",
       "      <td>A</td>\n",
       "      <td>B</td>\n",
       "      <td>A</td>\n",
       "      <td>3290</td>\n",
       "      <td>1915</td>\n",
       "    </tr>\n",
       "    <tr>\n",
       "      <th>6</th>\n",
       "      <td>hkd104</td>\n",
       "      <td>990623-1</td>\n",
       "      <td>M</td>\n",
       "      <td>176.0</td>\n",
       "      <td>22</td>\n",
       "      <td>A</td>\n",
       "      <td>B</td>\n",
       "      <td>A</td>\n",
       "      <td>3750</td>\n",
       "      <td>2375</td>\n",
       "    </tr>\n",
       "    <tr>\n",
       "      <th>7</th>\n",
       "      <td>hkd105</td>\n",
       "      <td>980717-2</td>\n",
       "      <td>F</td>\n",
       "      <td>163.4</td>\n",
       "      <td>23</td>\n",
       "      <td>B</td>\n",
       "      <td>B</td>\n",
       "      <td>B</td>\n",
       "      <td>3080</td>\n",
       "      <td>1330</td>\n",
       "    </tr>\n",
       "    <tr>\n",
       "      <th>8</th>\n",
       "      <td>hkd106</td>\n",
       "      <td>970818-1</td>\n",
       "      <td>M</td>\n",
       "      <td>186.3</td>\n",
       "      <td>24</td>\n",
       "      <td>AB</td>\n",
       "      <td>B</td>\n",
       "      <td>C</td>\n",
       "      <td>3110</td>\n",
       "      <td>2360</td>\n",
       "    </tr>\n",
       "  </tbody>\n",
       "</table>\n",
       "</div>"
      ],
      "text/plain": [
       "     name    jumin7 gender  height  age blood_type company grades  salary  \\\n",
       "0    hkd1  990623-2      F   161.9   22          A       A      A    4100   \n",
       "1   hkd10  900303-2      F   169.4   31          A       A      B    4720   \n",
       "2  hkd100  681205-2      F   168.3   55          A       A      B    7280   \n",
       "3  hkd101  931226-2      F   155.3   28         AB       B      B    4060   \n",
       "4  hkd102  920123-1      M   188.6   29          O       B      F    4390   \n",
       "5  hkd103  910215-2      F   150.2   30          A       B      A    3290   \n",
       "6  hkd104  990623-1      M   176.0   22          A       B      A    3750   \n",
       "7  hkd105  980717-2      F   163.4   23          B       B      B    3080   \n",
       "8  hkd106  970818-1      M   186.3   24         AB       B      C    3110   \n",
       "\n",
       "   expenditure  \n",
       "0         1975  \n",
       "1         2970  \n",
       "2         5905  \n",
       "3         2935  \n",
       "4         4015  \n",
       "5         1915  \n",
       "6         2375  \n",
       "7         1330  \n",
       "8         2360  "
      ]
     },
     "execution_count": 14,
     "metadata": {},
     "output_type": "execute_result"
    }
   ],
   "source": [
    "# []에 한개 index 정보를 입력하면 DataFrame을 반환  \n",
    "df_hk[:9]"
   ]
  },
  {
   "cell_type": "code",
   "execution_count": null,
   "metadata": {
    "id": "NPowc0M060D_"
   },
   "outputs": [],
   "source": [
    "# []에 index 정보입력 오류\n"
   ]
  },
  {
   "cell_type": "markdown",
   "metadata": {
    "id": "gZm3FDyHzypQ"
   },
   "source": [
    "* iloc[ ] integer location : 위치기반 indexing\n",
    "\n",
    "   [row정보, column정보] row, column 정보는 integer"
   ]
  },
  {
   "cell_type": "code",
   "execution_count": 21,
   "metadata": {
    "colab": {
     "base_uri": "https://localhost:8080/",
     "height": 143
    },
    "executionInfo": {
     "elapsed": 10,
     "status": "ok",
     "timestamp": 1672371761813,
     "user": {
      "displayName": "jinyang park",
      "userId": "06576046992691541404"
     },
     "user_tz": -540
    },
    "id": "H2y6gA80zypQ",
    "outputId": "8aac5c5b-df4c-4902-9354-bc7682d0d2b3"
   },
   "outputs": [
    {
     "data": {
      "text/html": [
       "<div>\n",
       "<style scoped>\n",
       "    .dataframe tbody tr th:only-of-type {\n",
       "        vertical-align: middle;\n",
       "    }\n",
       "\n",
       "    .dataframe tbody tr th {\n",
       "        vertical-align: top;\n",
       "    }\n",
       "\n",
       "    .dataframe thead th {\n",
       "        text-align: right;\n",
       "    }\n",
       "</style>\n",
       "<table border=\"1\" class=\"dataframe\">\n",
       "  <thead>\n",
       "    <tr style=\"text-align: right;\">\n",
       "      <th></th>\n",
       "      <th>name</th>\n",
       "      <th>jumin7</th>\n",
       "      <th>gender</th>\n",
       "      <th>height</th>\n",
       "      <th>age</th>\n",
       "    </tr>\n",
       "  </thead>\n",
       "  <tbody>\n",
       "    <tr>\n",
       "      <th>0</th>\n",
       "      <td>hkd1</td>\n",
       "      <td>990623-2</td>\n",
       "      <td>F</td>\n",
       "      <td>161.9</td>\n",
       "      <td>22</td>\n",
       "    </tr>\n",
       "    <tr>\n",
       "      <th>1</th>\n",
       "      <td>hkd10</td>\n",
       "      <td>900303-2</td>\n",
       "      <td>F</td>\n",
       "      <td>169.4</td>\n",
       "      <td>31</td>\n",
       "    </tr>\n",
       "    <tr>\n",
       "      <th>2</th>\n",
       "      <td>hkd100</td>\n",
       "      <td>681205-2</td>\n",
       "      <td>F</td>\n",
       "      <td>168.3</td>\n",
       "      <td>55</td>\n",
       "    </tr>\n",
       "  </tbody>\n",
       "</table>\n",
       "</div>"
      ],
      "text/plain": [
       "     name    jumin7 gender  height  age\n",
       "0    hkd1  990623-2      F   161.9   22\n",
       "1   hkd10  900303-2      F   169.4   31\n",
       "2  hkd100  681205-2      F   168.3   55"
      ]
     },
     "execution_count": 21,
     "metadata": {},
     "output_type": "execute_result"
    }
   ],
   "source": [
    "# iloc\n",
    "df_hk.iloc[0:3,0:5]"
   ]
  },
  {
   "cell_type": "markdown",
   "metadata": {
    "id": "LKRY3RVt5Aix"
   },
   "source": [
    "* loc[ ] location : 명칭기반 indexing (slice indexing)\n",
    "\n",
    "   [row정보, column정보] column 정보는 column명"
   ]
  },
  {
   "cell_type": "code",
   "execution_count": 19,
   "metadata": {
    "colab": {
     "base_uri": "https://localhost:8080/",
     "height": 175
    },
    "executionInfo": {
     "elapsed": 468,
     "status": "ok",
     "timestamp": 1672372057857,
     "user": {
      "displayName": "jinyang park",
      "userId": "06576046992691541404"
     },
     "user_tz": -540
    },
    "id": "Tn6WJ7KgzypR",
    "outputId": "560b12b0-f03d-476a-afb1-9869b723297f"
   },
   "outputs": [
    {
     "data": {
      "text/html": [
       "<div>\n",
       "<style scoped>\n",
       "    .dataframe tbody tr th:only-of-type {\n",
       "        vertical-align: middle;\n",
       "    }\n",
       "\n",
       "    .dataframe tbody tr th {\n",
       "        vertical-align: top;\n",
       "    }\n",
       "\n",
       "    .dataframe thead th {\n",
       "        text-align: right;\n",
       "    }\n",
       "</style>\n",
       "<table border=\"1\" class=\"dataframe\">\n",
       "  <thead>\n",
       "    <tr style=\"text-align: right;\">\n",
       "      <th></th>\n",
       "      <th>name</th>\n",
       "      <th>jumin7</th>\n",
       "      <th>gender</th>\n",
       "      <th>height</th>\n",
       "      <th>age</th>\n",
       "    </tr>\n",
       "  </thead>\n",
       "  <tbody>\n",
       "    <tr>\n",
       "      <th>0</th>\n",
       "      <td>hkd1</td>\n",
       "      <td>990623-2</td>\n",
       "      <td>F</td>\n",
       "      <td>161.9</td>\n",
       "      <td>22</td>\n",
       "    </tr>\n",
       "    <tr>\n",
       "      <th>1</th>\n",
       "      <td>hkd10</td>\n",
       "      <td>900303-2</td>\n",
       "      <td>F</td>\n",
       "      <td>169.4</td>\n",
       "      <td>31</td>\n",
       "    </tr>\n",
       "    <tr>\n",
       "      <th>2</th>\n",
       "      <td>hkd100</td>\n",
       "      <td>681205-2</td>\n",
       "      <td>F</td>\n",
       "      <td>168.3</td>\n",
       "      <td>55</td>\n",
       "    </tr>\n",
       "    <tr>\n",
       "      <th>3</th>\n",
       "      <td>hkd101</td>\n",
       "      <td>931226-2</td>\n",
       "      <td>F</td>\n",
       "      <td>155.3</td>\n",
       "      <td>28</td>\n",
       "    </tr>\n",
       "  </tbody>\n",
       "</table>\n",
       "</div>"
      ],
      "text/plain": [
       "     name    jumin7 gender  height  age\n",
       "0    hkd1  990623-2      F   161.9   22\n",
       "1   hkd10  900303-2      F   169.4   31\n",
       "2  hkd100  681205-2      F   168.3   55\n",
       "3  hkd101  931226-2      F   155.3   28"
      ]
     },
     "execution_count": 19,
     "metadata": {},
     "output_type": "execute_result"
    }
   ],
   "source": [
    "# loc\n",
    "df_hk.loc[0:3, 'name':'age']"
   ]
  },
  {
   "cell_type": "markdown",
   "metadata": {
    "id": "mfbX29pjBfpS"
   },
   "source": [
    "* boolean indexing"
   ]
  },
  {
   "cell_type": "code",
   "execution_count": null,
   "metadata": {
    "colab": {
     "base_uri": "https://localhost:8080/",
     "height": 206
    },
    "executionInfo": {
     "elapsed": 330,
     "status": "ok",
     "timestamp": 1665627252041,
     "user": {
      "displayName": "jinyang park",
      "userId": "06576046992691541404"
     },
     "user_tz": -540
    },
    "id": "rQQnIdNXB851",
    "outputId": "5035719d-16d8-4952-8f07-e031bd402e8e",
    "scrolled": true
   },
   "outputs": [],
   "source": []
  },
  {
   "cell_type": "markdown",
   "metadata": {
    "id": "r-QFjdQ5fYXO"
   },
   "source": [
    "## Quiz 6\n",
    "\n",
    "1) iris.cvs의 column('petal_width') 값이 1.0보다 큰 것은 몇개인지 구하시오\n",
    "\n",
    "2) bike.cvs의 column dtype이 'int64' 인것만 추출하고 DataFrame명을 'df_bike_int64'로 저장 하시오 "
   ]
  },
  {
   "cell_type": "code",
   "execution_count": 23,
   "metadata": {
    "id": "rlAD9zOJfYXO",
    "scrolled": true
   },
   "outputs": [
    {
     "data": {
      "text/html": [
       "<div>\n",
       "<style scoped>\n",
       "    .dataframe tbody tr th:only-of-type {\n",
       "        vertical-align: middle;\n",
       "    }\n",
       "\n",
       "    .dataframe tbody tr th {\n",
       "        vertical-align: top;\n",
       "    }\n",
       "\n",
       "    .dataframe thead th {\n",
       "        text-align: right;\n",
       "    }\n",
       "</style>\n",
       "<table border=\"1\" class=\"dataframe\">\n",
       "  <thead>\n",
       "    <tr style=\"text-align: right;\">\n",
       "      <th></th>\n",
       "      <th>sepal_length</th>\n",
       "      <th>sepal_width</th>\n",
       "      <th>petal_length</th>\n",
       "      <th>petal_width</th>\n",
       "      <th>species</th>\n",
       "      <th>sepal</th>\n",
       "    </tr>\n",
       "  </thead>\n",
       "  <tbody>\n",
       "    <tr>\n",
       "      <th>50</th>\n",
       "      <td>7.0</td>\n",
       "      <td>3.2</td>\n",
       "      <td>4.7</td>\n",
       "      <td>1.4</td>\n",
       "      <td>versicolor</td>\n",
       "      <td>10.2</td>\n",
       "    </tr>\n",
       "    <tr>\n",
       "      <th>51</th>\n",
       "      <td>6.4</td>\n",
       "      <td>3.2</td>\n",
       "      <td>4.5</td>\n",
       "      <td>1.5</td>\n",
       "      <td>versicolor</td>\n",
       "      <td>9.6</td>\n",
       "    </tr>\n",
       "    <tr>\n",
       "      <th>52</th>\n",
       "      <td>6.9</td>\n",
       "      <td>3.1</td>\n",
       "      <td>4.9</td>\n",
       "      <td>1.5</td>\n",
       "      <td>versicolor</td>\n",
       "      <td>10.0</td>\n",
       "    </tr>\n",
       "    <tr>\n",
       "      <th>53</th>\n",
       "      <td>5.5</td>\n",
       "      <td>2.3</td>\n",
       "      <td>4.0</td>\n",
       "      <td>1.3</td>\n",
       "      <td>versicolor</td>\n",
       "      <td>7.8</td>\n",
       "    </tr>\n",
       "    <tr>\n",
       "      <th>54</th>\n",
       "      <td>6.5</td>\n",
       "      <td>2.8</td>\n",
       "      <td>4.6</td>\n",
       "      <td>1.5</td>\n",
       "      <td>versicolor</td>\n",
       "      <td>9.3</td>\n",
       "    </tr>\n",
       "    <tr>\n",
       "      <th>...</th>\n",
       "      <td>...</td>\n",
       "      <td>...</td>\n",
       "      <td>...</td>\n",
       "      <td>...</td>\n",
       "      <td>...</td>\n",
       "      <td>...</td>\n",
       "    </tr>\n",
       "    <tr>\n",
       "      <th>145</th>\n",
       "      <td>6.7</td>\n",
       "      <td>3.0</td>\n",
       "      <td>5.2</td>\n",
       "      <td>2.3</td>\n",
       "      <td>virginica</td>\n",
       "      <td>9.7</td>\n",
       "    </tr>\n",
       "    <tr>\n",
       "      <th>146</th>\n",
       "      <td>6.3</td>\n",
       "      <td>2.5</td>\n",
       "      <td>5.0</td>\n",
       "      <td>1.9</td>\n",
       "      <td>virginica</td>\n",
       "      <td>8.8</td>\n",
       "    </tr>\n",
       "    <tr>\n",
       "      <th>147</th>\n",
       "      <td>6.5</td>\n",
       "      <td>3.0</td>\n",
       "      <td>5.2</td>\n",
       "      <td>2.0</td>\n",
       "      <td>virginica</td>\n",
       "      <td>9.5</td>\n",
       "    </tr>\n",
       "    <tr>\n",
       "      <th>148</th>\n",
       "      <td>6.2</td>\n",
       "      <td>3.4</td>\n",
       "      <td>5.4</td>\n",
       "      <td>2.3</td>\n",
       "      <td>virginica</td>\n",
       "      <td>9.6</td>\n",
       "    </tr>\n",
       "    <tr>\n",
       "      <th>149</th>\n",
       "      <td>5.9</td>\n",
       "      <td>3.0</td>\n",
       "      <td>5.1</td>\n",
       "      <td>1.8</td>\n",
       "      <td>virginica</td>\n",
       "      <td>8.9</td>\n",
       "    </tr>\n",
       "  </tbody>\n",
       "</table>\n",
       "<p>93 rows × 6 columns</p>\n",
       "</div>"
      ],
      "text/plain": [
       "     sepal_length  sepal_width  petal_length  petal_width     species  sepal\n",
       "50            7.0          3.2           4.7          1.4  versicolor   10.2\n",
       "51            6.4          3.2           4.5          1.5  versicolor    9.6\n",
       "52            6.9          3.1           4.9          1.5  versicolor   10.0\n",
       "53            5.5          2.3           4.0          1.3  versicolor    7.8\n",
       "54            6.5          2.8           4.6          1.5  versicolor    9.3\n",
       "..            ...          ...           ...          ...         ...    ...\n",
       "145           6.7          3.0           5.2          2.3   virginica    9.7\n",
       "146           6.3          2.5           5.0          1.9   virginica    8.8\n",
       "147           6.5          3.0           5.2          2.0   virginica    9.5\n",
       "148           6.2          3.4           5.4          2.3   virginica    9.6\n",
       "149           5.9          3.0           5.1          1.8   virginica    8.9\n",
       "\n",
       "[93 rows x 6 columns]"
      ]
     },
     "execution_count": 23,
     "metadata": {},
     "output_type": "execute_result"
    }
   ],
   "source": [
    "df_iris.loc[df_iris['petal_width']>1.0, :]"
   ]
  },
  {
   "cell_type": "code",
   "execution_count": 33,
   "metadata": {},
   "outputs": [
    {
     "ename": "AttributeError",
     "evalue": "'DataFrame' object has no attribute 'dtype'",
     "output_type": "error",
     "traceback": [
      "\u001b[0;31m---------------------------------------------------------------------------\u001b[0m",
      "\u001b[0;31mAttributeError\u001b[0m                            Traceback (most recent call last)",
      "Cell \u001b[0;32mIn[33], line 1\u001b[0m\n\u001b[0;32m----> 1\u001b[0m df_bike_int64\u001b[38;5;241m=\u001b[39m df_bike\u001b[38;5;241m.\u001b[39mloc[:,\u001b[43mdf_bike\u001b[49m\u001b[38;5;241;43m.\u001b[39;49m\u001b[43mdtype\u001b[49m \u001b[38;5;241m==\u001b[39m \u001b[38;5;124m'\u001b[39m\u001b[38;5;124mint64\u001b[39m\u001b[38;5;124m'\u001b[39m]\n",
      "File \u001b[0;32m~/.pyenv/versions/3.11.1/envs/venv/lib/python3.11/site-packages/pandas/core/generic.py:5902\u001b[0m, in \u001b[0;36mNDFrame.__getattr__\u001b[0;34m(self, name)\u001b[0m\n\u001b[1;32m   5895\u001b[0m \u001b[38;5;28;01mif\u001b[39;00m (\n\u001b[1;32m   5896\u001b[0m     name \u001b[38;5;129;01mnot\u001b[39;00m \u001b[38;5;129;01min\u001b[39;00m \u001b[38;5;28mself\u001b[39m\u001b[38;5;241m.\u001b[39m_internal_names_set\n\u001b[1;32m   5897\u001b[0m     \u001b[38;5;129;01mand\u001b[39;00m name \u001b[38;5;129;01mnot\u001b[39;00m \u001b[38;5;129;01min\u001b[39;00m \u001b[38;5;28mself\u001b[39m\u001b[38;5;241m.\u001b[39m_metadata\n\u001b[1;32m   5898\u001b[0m     \u001b[38;5;129;01mand\u001b[39;00m name \u001b[38;5;129;01mnot\u001b[39;00m \u001b[38;5;129;01min\u001b[39;00m \u001b[38;5;28mself\u001b[39m\u001b[38;5;241m.\u001b[39m_accessors\n\u001b[1;32m   5899\u001b[0m     \u001b[38;5;129;01mand\u001b[39;00m \u001b[38;5;28mself\u001b[39m\u001b[38;5;241m.\u001b[39m_info_axis\u001b[38;5;241m.\u001b[39m_can_hold_identifiers_and_holds_name(name)\n\u001b[1;32m   5900\u001b[0m ):\n\u001b[1;32m   5901\u001b[0m     \u001b[38;5;28;01mreturn\u001b[39;00m \u001b[38;5;28mself\u001b[39m[name]\n\u001b[0;32m-> 5902\u001b[0m \u001b[38;5;28;01mreturn\u001b[39;00m \u001b[38;5;28;43mobject\u001b[39;49m\u001b[38;5;241;43m.\u001b[39;49m\u001b[38;5;21;43m__getattribute__\u001b[39;49m\u001b[43m(\u001b[49m\u001b[38;5;28;43mself\u001b[39;49m\u001b[43m,\u001b[49m\u001b[43m \u001b[49m\u001b[43mname\u001b[49m\u001b[43m)\u001b[49m\n",
      "\u001b[0;31mAttributeError\u001b[0m: 'DataFrame' object has no attribute 'dtype'"
     ]
    }
   ],
   "source": [
    "\n",
    "df_bike_int64= df_bike.loc[:,df_bike.dtype == 'int64']"
   ]
  },
  {
   "cell_type": "markdown",
   "metadata": {
    "id": "aL04SB9PfYXO"
   },
   "source": [
    "## Quiz 7\n",
    "\n",
    "(실습문제 유형1을 사용하여, : indian_food2.csv (구분자: 쉼표(,), 255 행, 10 컬럼)\n",
    "\n",
    "1) 단계 1-1. 지역(state) 컬럼을 제거하시오.\n",
    "\n",
    "2) 단계 1-2. 조리 시간(cook_time)과 재료 준비 시간(prep_time)이 양수(>0)인 데이터만 추출하시오."
   ]
  },
  {
   "cell_type": "code",
   "execution_count": null,
   "metadata": {
    "id": "E6BOdAcYfYXO"
   },
   "outputs": [],
   "source": []
  },
  {
   "cell_type": "markdown",
   "metadata": {
    "id": "WPVhXxAlzypY"
   },
   "source": [
    "### 2_8. 결손 데이터 처리하기\n",
    "* isna(), dropna(), fillna()"
   ]
  },
  {
   "cell_type": "code",
   "execution_count": null,
   "metadata": {
    "id": "y1DdI6cGXOYP"
   },
   "outputs": [],
   "source": [
    "# 파일 로딩 (hk_221206_na.csv)\n"
   ]
  },
  {
   "cell_type": "code",
   "execution_count": null,
   "metadata": {
    "colab": {
     "base_uri": "https://localhost:8080/"
    },
    "executionInfo": {
     "elapsed": 583,
     "status": "ok",
     "timestamp": 1665614532711,
     "user": {
      "displayName": "jinyang park",
      "userId": "06576046992691541404"
     },
     "user_tz": -540
    },
    "id": "jemfpQZDzypY",
    "outputId": "ff8b197f-1dbd-449f-e974-91754d090278"
   },
   "outputs": [],
   "source": [
    "# isna()\n"
   ]
  },
  {
   "cell_type": "code",
   "execution_count": null,
   "metadata": {
    "colab": {
     "base_uri": "https://localhost:8080/",
     "height": 206
    },
    "executionInfo": {
     "elapsed": 554,
     "status": "ok",
     "timestamp": 1665648331364,
     "user": {
      "displayName": "jinyang park",
      "userId": "06576046992691541404"
     },
     "user_tz": -540
    },
    "id": "Ui8CkiWezypY",
    "outputId": "e73cf063-e5fd-455f-d4ab-504e73a18bf9"
   },
   "outputs": [],
   "source": [
    "# dropna()\n"
   ]
  },
  {
   "cell_type": "code",
   "execution_count": null,
   "metadata": {
    "colab": {
     "base_uri": "https://localhost:8080/"
    },
    "executionInfo": {
     "elapsed": 10,
     "status": "ok",
     "timestamp": 1665614532715,
     "user": {
      "displayName": "jinyang park",
      "userId": "06576046992691541404"
     },
     "user_tz": -540
    },
    "id": "Zt8vyxyFNRaN",
    "outputId": "5f92b5ee-e1f3-4f7d-f241-eb31c19f6111"
   },
   "outputs": [],
   "source": [
    "# fillna()\n"
   ]
  },
  {
   "cell_type": "markdown",
   "metadata": {
    "id": "qAO6UNRNfYXR"
   },
   "source": [
    "## Quiz 8\n",
    "\n",
    "(실습문제 유형5을 사용하여, : phone.csv (구분자:  “,” , 105,828 Rows, 10 Columns)\n",
    "\n",
    "1) 단계 1-1. 데이터 중 테스트 결과(TestResult)가 SUCCESS이고 신호 강도(Signal) 값이 결측치(null, N/A 등)가 아닌 데이터만 추출"
   ]
  },
  {
   "cell_type": "code",
   "execution_count": null,
   "metadata": {
    "id": "5z0wz_CVfYXS"
   },
   "outputs": [],
   "source": []
  },
  {
   "cell_type": "markdown",
   "metadata": {
    "id": "ESN62nhDzypT"
   },
   "source": [
    "### 2_9. sort, aggregation함수, groupby \n",
    "\n",
    "* sort_values()\n"
   ]
  },
  {
   "cell_type": "code",
   "execution_count": null,
   "metadata": {
    "id": "G1RPwp8dXpfO"
   },
   "outputs": [],
   "source": [
    "# 파일 로딩\n"
   ]
  },
  {
   "cell_type": "code",
   "execution_count": null,
   "metadata": {
    "colab": {
     "base_uri": "https://localhost:8080/",
     "height": 206
    },
    "executionInfo": {
     "elapsed": 5,
     "status": "ok",
     "timestamp": 1665614878368,
     "user": {
      "displayName": "jinyang park",
      "userId": "06576046992691541404"
     },
     "user_tz": -540
    },
    "id": "78QYYjOYPSe0",
    "outputId": "e1b50e81-7616-4287-dfaf-8a3587c7c635"
   },
   "outputs": [],
   "source": [
    "# sort_values, 1개 column 정렬"
   ]
  },
  {
   "cell_type": "code",
   "execution_count": null,
   "metadata": {
    "colab": {
     "base_uri": "https://localhost:8080/",
     "height": 423
    },
    "executionInfo": {
     "elapsed": 6,
     "status": "ok",
     "timestamp": 1665614927998,
     "user": {
      "displayName": "jinyang park",
      "userId": "06576046992691541404"
     },
     "user_tz": -540
    },
    "id": "fhXGKmL-a2ya",
    "outputId": "9eed9962-b84b-437a-f744-1dd9a1783935",
    "scrolled": false
   },
   "outputs": [],
   "source": [
    "# n개 column 정렬  ['blood_type', 'age']\n"
   ]
  },
  {
   "cell_type": "code",
   "execution_count": null,
   "metadata": {
    "colab": {
     "base_uri": "https://localhost:8080/",
     "height": 423
    },
    "executionInfo": {
     "elapsed": 347,
     "status": "ok",
     "timestamp": 1665614936831,
     "user": {
      "displayName": "jinyang park",
      "userId": "06576046992691541404"
     },
     "user_tz": -540
    },
    "id": "sNqD2Lbebawr",
    "outputId": "7ad27c26-083f-4d31-bbf4-cc3cc4ec6f43"
   },
   "outputs": [],
   "source": [
    "# n개 column 정렬, ascending(True/False) 적용\n"
   ]
  },
  {
   "cell_type": "markdown",
   "metadata": {
    "id": "9t8KdYmQzypU"
   },
   "source": [
    "* aggregation (집계함수)"
   ]
  },
  {
   "cell_type": "code",
   "execution_count": null,
   "metadata": {
    "colab": {
     "base_uri": "https://localhost:8080/"
    },
    "executionInfo": {
     "elapsed": 346,
     "status": "ok",
     "timestamp": 1665614988900,
     "user": {
      "displayName": "jinyang park",
      "userId": "06576046992691541404"
     },
     "user_tz": -540
    },
    "id": "1AJh23TczypU",
    "outputId": "dad9e16c-419a-453b-b8fe-82dd33737e79"
   },
   "outputs": [],
   "source": [
    "# 1개 column 에 대한 aggregation\n"
   ]
  },
  {
   "cell_type": "code",
   "execution_count": null,
   "metadata": {
    "colab": {
     "base_uri": "https://localhost:8080/"
    },
    "executionInfo": {
     "elapsed": 3,
     "status": "ok",
     "timestamp": 1665615073996,
     "user": {
      "displayName": "jinyang park",
      "userId": "06576046992691541404"
     },
     "user_tz": -540
    },
    "id": "asKcTZxSceIH",
    "outputId": "fbfe6c70-ea2f-4574-8636-31ecbbdb4fce"
   },
   "outputs": [],
   "source": [
    "# n개 column 에 대한 aggregation\n"
   ]
  },
  {
   "cell_type": "code",
   "execution_count": null,
   "metadata": {
    "colab": {
     "base_uri": "https://localhost:8080/",
     "height": 206
    },
    "executionInfo": {
     "elapsed": 316,
     "status": "ok",
     "timestamp": 1665615194416,
     "user": {
      "displayName": "jinyang park",
      "userId": "06576046992691541404"
     },
     "user_tz": -540
    },
    "id": "UeBsXPX1djQW",
    "outputId": "95913b89-eeb2-4045-937b-df8b91454451"
   },
   "outputs": [],
   "source": [
    "# n개 column 에 대한 n개 aggregation\n"
   ]
  },
  {
   "cell_type": "code",
   "execution_count": null,
   "metadata": {
    "colab": {
     "base_uri": "https://localhost:8080/"
    },
    "executionInfo": {
     "elapsed": 321,
     "status": "ok",
     "timestamp": 1665615213845,
     "user": {
      "displayName": "jinyang park",
      "userId": "06576046992691541404"
     },
     "user_tz": -540
    },
    "id": "DYT-72xoeZZG",
    "outputId": "5faec497-2472-4f31-ed93-b3652cf82c97"
   },
   "outputs": [],
   "source": [
    "# n개 column 에 대한 column별 aggregation (dict형태로 입력)\n"
   ]
  },
  {
   "cell_type": "code",
   "execution_count": null,
   "metadata": {
    "colab": {
     "base_uri": "https://localhost:8080/"
    },
    "executionInfo": {
     "elapsed": 330,
     "status": "ok",
     "timestamp": 1665615414973,
     "user": {
      "displayName": "jinyang park",
      "userId": "06576046992691541404"
     },
     "user_tz": -540
    },
    "id": "MljsEXOpZ95R",
    "outputId": "50d3945d-47fe-4669-baa4-13d8c1ccb514"
   },
   "outputs": [],
   "source": [
    "# 1개 column에 2개 이상 aggregation을 적용하면 마지막 aggregation이 적용\n"
   ]
  },
  {
   "cell_type": "code",
   "execution_count": null,
   "metadata": {
    "colab": {
     "base_uri": "https://localhost:8080/",
     "height": 143
    },
    "executionInfo": {
     "elapsed": 330,
     "status": "ok",
     "timestamp": 1665620807150,
     "user": {
      "displayName": "jinyang park",
      "userId": "06576046992691541404"
     },
     "user_tz": -540
    },
    "id": "y-Qjnu_qaq5a",
    "outputId": "12367994-c483-4189-9771-afaee9c42fd1"
   },
   "outputs": [],
   "source": [
    "# 1개 column에 2개 이상 aggregation 적용 방법\n"
   ]
  },
  {
   "cell_type": "markdown",
   "metadata": {
    "id": "KZd12h7JzypW"
   },
   "source": [
    "* groupby()"
   ]
  },
  {
   "cell_type": "code",
   "execution_count": null,
   "metadata": {
    "colab": {
     "base_uri": "https://localhost:8080/"
    },
    "executionInfo": {
     "elapsed": 395,
     "status": "ok",
     "timestamp": 1665620839766,
     "user": {
      "displayName": "jinyang park",
      "userId": "06576046992691541404"
     },
     "user_tz": -540
    },
    "id": "akeuIkjmIji8",
    "outputId": "fe41053d-bc70-4497-c048-50bf921b6690"
   },
   "outputs": [],
   "source": [
    "# 1개 column 에 대한 groupby\n"
   ]
  },
  {
   "cell_type": "code",
   "execution_count": null,
   "metadata": {
    "colab": {
     "base_uri": "https://localhost:8080/",
     "height": 425
    },
    "executionInfo": {
     "elapsed": 556,
     "status": "ok",
     "timestamp": 1665620877798,
     "user": {
      "displayName": "jinyang park",
      "userId": "06576046992691541404"
     },
     "user_tz": -540
    },
    "id": "g0IlETmSzypW",
    "outputId": "b20daf34-77c8-4aa5-8247-afb3e63d6b5f"
   },
   "outputs": [],
   "source": [
    "# n개 column 에 대한 groupby \n"
   ]
  },
  {
   "cell_type": "markdown",
   "metadata": {
    "id": "G_9t1VbKlE7q"
   },
   "source": [
    "* groupby() + aggregation"
   ]
  },
  {
   "cell_type": "code",
   "execution_count": null,
   "metadata": {
    "colab": {
     "base_uri": "https://localhost:8080/",
     "height": 425
    },
    "executionInfo": {
     "elapsed": 315,
     "status": "ok",
     "timestamp": 1665620961949,
     "user": {
      "displayName": "jinyang park",
      "userId": "06576046992691541404"
     },
     "user_tz": -540
    },
    "id": "R9VynY97ITE6",
    "outputId": "463d3b71-aef6-4cd3-e408-909dae08bc88"
   },
   "outputs": [],
   "source": [
    "# groupby\n"
   ]
  },
  {
   "cell_type": "code",
   "execution_count": null,
   "metadata": {
    "colab": {
     "base_uri": "https://localhost:8080/",
     "height": 457
    },
    "executionInfo": {
     "elapsed": 9,
     "status": "ok",
     "timestamp": 1665620977291,
     "user": {
      "displayName": "jinyang park",
      "userId": "06576046992691541404"
     },
     "user_tz": -540
    },
    "id": "wFvv4rYCk1x3",
    "outputId": "059c8358-cd98-4891-d8d2-94785d15d130"
   },
   "outputs": [],
   "source": [
    "# n개 groupby + n개 aggregation(1개 column)\n"
   ]
  },
  {
   "cell_type": "code",
   "execution_count": null,
   "metadata": {
    "colab": {
     "base_uri": "https://localhost:8080/",
     "height": 488
    },
    "executionInfo": {
     "elapsed": 333,
     "status": "ok",
     "timestamp": 1665621014020,
     "user": {
      "displayName": "jinyang park",
      "userId": "06576046992691541404"
     },
     "user_tz": -540
    },
    "id": "ShZz-O6ok7Wy",
    "outputId": "6503525e-068b-4fc1-fe97-fb1ad7f5a31f"
   },
   "outputs": [],
   "source": [
    "# n개 groupby + n개 aggregation(column별 동일 aggregation)\n"
   ]
  },
  {
   "cell_type": "code",
   "execution_count": null,
   "metadata": {
    "colab": {
     "base_uri": "https://localhost:8080/",
     "height": 457
    },
    "executionInfo": {
     "elapsed": 311,
     "status": "ok",
     "timestamp": 1665621029387,
     "user": {
      "displayName": "jinyang park",
      "userId": "06576046992691541404"
     },
     "user_tz": -540
    },
    "id": "ZbZWD3WTlUYC",
    "outputId": "1a9cbb7a-c8f5-4f2e-b1ab-5b4c8c22875b"
   },
   "outputs": [],
   "source": [
    "# n개 groupby + n개 aggregation(column별 다른 aggregation)\n"
   ]
  },
  {
   "cell_type": "markdown",
   "metadata": {
    "id": "bUUlOFlzfYXV"
   },
   "source": [
    "## Quiz 9\n",
    "\n",
    "1) iris.cvs의 column('species')별로 'sepal_length' , 'sepal_width')의 평균, 중앙값, 최대값을 구하시오"
   ]
  },
  {
   "cell_type": "code",
   "execution_count": null,
   "metadata": {
    "id": "Zb0gz-NWfYXV"
   },
   "outputs": [],
   "source": []
  },
  {
   "cell_type": "markdown",
   "metadata": {
    "id": "4j9vbi3HzypZ"
   },
   "source": [
    "### 2_10. DataFrame의 병합 (join)\n",
    "* concat"
   ]
  },
  {
   "cell_type": "code",
   "execution_count": null,
   "metadata": {
    "colab": {
     "base_uri": "https://localhost:8080/",
     "height": 112
    },
    "executionInfo": {
     "elapsed": 345,
     "status": "ok",
     "timestamp": 1665623438369,
     "user": {
      "displayName": "jinyang park",
      "userId": "06576046992691541404"
     },
     "user_tz": -540
    },
    "id": "oTLxIp_vXuqy",
    "outputId": "93dbd877-8d2d-4081-d2a6-0a640fd983a3"
   },
   "outputs": [],
   "source": [
    "# 파일 로딩\n"
   ]
  },
  {
   "cell_type": "code",
   "execution_count": null,
   "metadata": {
    "id": "48CChtalzypZ",
    "scrolled": true
   },
   "outputs": [],
   "source": [
    "# concat 실습 파일 생성\n"
   ]
  },
  {
   "cell_type": "code",
   "execution_count": null,
   "metadata": {
    "colab": {
     "base_uri": "https://localhost:8080/",
     "height": 206
    },
    "executionInfo": {
     "elapsed": 320,
     "status": "ok",
     "timestamp": 1665624025301,
     "user": {
      "displayName": "jinyang park",
      "userId": "06576046992691541404"
     },
     "user_tz": -540
    },
    "id": "d9AMjAvCzypZ",
    "outputId": "b0583311-e7fc-48e3-88fa-8a334eef5f25"
   },
   "outputs": [],
   "source": []
  },
  {
   "cell_type": "code",
   "execution_count": null,
   "metadata": {
    "colab": {
     "base_uri": "https://localhost:8080/",
     "height": 363
    },
    "executionInfo": {
     "elapsed": 4,
     "status": "ok",
     "timestamp": 1665624026302,
     "user": {
      "displayName": "jinyang park",
      "userId": "06576046992691541404"
     },
     "user_tz": -540
    },
    "id": "w3p5JKAI6Pwc",
    "outputId": "3fc1209a-785e-4887-f176-6703baf4c477"
   },
   "outputs": [],
   "source": [
    "# concat (row), axis = 0 default \n"
   ]
  },
  {
   "cell_type": "code",
   "execution_count": null,
   "metadata": {
    "colab": {
     "base_uri": "https://localhost:8080/",
     "height": 237
    },
    "executionInfo": {
     "elapsed": 621,
     "status": "ok",
     "timestamp": 1665624081139,
     "user": {
      "displayName": "jinyang park",
      "userId": "06576046992691541404"
     },
     "user_tz": -540
    },
    "id": "0m-1Dyht6-9X",
    "outputId": "c89ea086-af3c-476f-8082-42f58b09dd9a"
   },
   "outputs": [],
   "source": [
    "# concat (column)  axis = 1\n"
   ]
  },
  {
   "cell_type": "markdown",
   "metadata": {
    "id": "W0LJmiBQ7KcG"
   },
   "source": [
    "* merge"
   ]
  },
  {
   "cell_type": "code",
   "execution_count": null,
   "metadata": {
    "id": "lnClk6E-70UQ"
   },
   "outputs": [],
   "source": [
    "# merge 실습 파일 생성\n"
   ]
  },
  {
   "cell_type": "code",
   "execution_count": null,
   "metadata": {
    "colab": {
     "base_uri": "https://localhost:8080/",
     "height": 112
    },
    "executionInfo": {
     "elapsed": 692,
     "status": "ok",
     "timestamp": 1665624734249,
     "user": {
      "displayName": "jinyang park",
      "userId": "06576046992691541404"
     },
     "user_tz": -540
    },
    "id": "rTwzy_JI9L_v",
    "outputId": "e3fdcdeb-5ba9-40d9-bb70-63c1397f6511"
   },
   "outputs": [],
   "source": [
    "# merge  (inner join default)\n"
   ]
  },
  {
   "cell_type": "code",
   "execution_count": null,
   "metadata": {
    "colab": {
     "base_uri": "https://localhost:8080/",
     "height": 206
    },
    "executionInfo": {
     "elapsed": 540,
     "status": "ok",
     "timestamp": 1665624833357,
     "user": {
      "displayName": "jinyang park",
      "userId": "06576046992691541404"
     },
     "user_tz": -540
    },
    "id": "hf6wbReW-P3-",
    "outputId": "018a808e-f0e4-4b08-cd7f-44ba2fefb1c5"
   },
   "outputs": [],
   "source": [
    "# merge   (left join)\n"
   ]
  },
  {
   "cell_type": "code",
   "execution_count": null,
   "metadata": {
    "colab": {
     "base_uri": "https://localhost:8080/",
     "height": 269
    },
    "executionInfo": {
     "elapsed": 603,
     "status": "ok",
     "timestamp": 1665624879207,
     "user": {
      "displayName": "jinyang park",
      "userId": "06576046992691541404"
     },
     "user_tz": -540
    },
    "id": "akTUTATn-nYL",
    "outputId": "3a245078-0fc6-4a3d-b830-b95d084609db"
   },
   "outputs": [],
   "source": [
    "# merge   (outer join)\n"
   ]
  },
  {
   "cell_type": "markdown",
   "metadata": {
    "id": "TeG7iEDPzypZ"
   },
   "source": [
    "### 2_11. column내 값 변경\n",
    "* replace\n",
    "* map"
   ]
  },
  {
   "cell_type": "code",
   "execution_count": null,
   "metadata": {
    "colab": {
     "base_uri": "https://localhost:8080/",
     "height": 112
    },
    "executionInfo": {
     "elapsed": 5,
     "status": "ok",
     "timestamp": 1665640952458,
     "user": {
      "displayName": "jinyang park",
      "userId": "06576046992691541404"
     },
     "user_tz": -540
    },
    "id": "X7O1unmw7724",
    "outputId": "925c4905-5917-467a-d6f1-d359724cab45"
   },
   "outputs": [],
   "source": [
    "# 파일로딩"
   ]
  },
  {
   "cell_type": "code",
   "execution_count": null,
   "metadata": {
    "colab": {
     "base_uri": "https://localhost:8080/"
    },
    "executionInfo": {
     "elapsed": 3,
     "status": "ok",
     "timestamp": 1665641157516,
     "user": {
      "displayName": "jinyang park",
      "userId": "06576046992691541404"
     },
     "user_tz": -540
    },
    "id": "yQkWx_RJzypa",
    "outputId": "959f7e6e-7db9-49dd-ec5a-aa339d13c25f"
   },
   "outputs": [],
   "source": [
    "# replace (1개 값 변경)\n"
   ]
  },
  {
   "cell_type": "code",
   "execution_count": null,
   "metadata": {
    "colab": {
     "base_uri": "https://localhost:8080/"
    },
    "executionInfo": {
     "elapsed": 2,
     "status": "ok",
     "timestamp": 1665641269809,
     "user": {
      "displayName": "jinyang park",
      "userId": "06576046992691541404"
     },
     "user_tz": -540
    },
    "id": "jDKgoltP84Cp",
    "outputId": "cf7a2d23-2f43-4584-e0bc-1a52ed6cc321"
   },
   "outputs": [],
   "source": [
    "# replace (n개 값 변경)\n"
   ]
  },
  {
   "cell_type": "code",
   "execution_count": null,
   "metadata": {
    "colab": {
     "base_uri": "https://localhost:8080/"
    },
    "executionInfo": {
     "elapsed": 450,
     "status": "ok",
     "timestamp": 1665641400194,
     "user": {
      "displayName": "jinyang park",
      "userId": "06576046992691541404"
     },
     "user_tz": -540
    },
    "id": "GYUlh8sK9WLe",
    "outputId": "fe9735f4-781d-4478-a0e3-3103d2968541"
   },
   "outputs": [],
   "source": [
    "# map (n개 값 변경)\n"
   ]
  },
  {
   "cell_type": "markdown",
   "metadata": {
    "id": "iY0qGcDvzypa"
   },
   "source": [
    "### 2_12. apply lambda 식으로 데이터 가공"
   ]
  },
  {
   "cell_type": "code",
   "execution_count": null,
   "metadata": {
    "colab": {
     "base_uri": "https://localhost:8080/",
     "height": 112
    },
    "executionInfo": {
     "elapsed": 354,
     "status": "ok",
     "timestamp": 1665643536210,
     "user": {
      "displayName": "jinyang park",
      "userId": "06576046992691541404"
     },
     "user_tz": -540
    },
    "id": "ke89G0lHF03B",
    "outputId": "cde7cf07-3c68-49e2-9d8d-cbfce5d93c5f"
   },
   "outputs": [],
   "source": [
    "# 파일 로딩 \n"
   ]
  },
  {
   "cell_type": "code",
   "execution_count": null,
   "metadata": {
    "colab": {
     "base_uri": "https://localhost:8080/"
    },
    "executionInfo": {
     "elapsed": 2,
     "status": "ok",
     "timestamp": 1665643544152,
     "user": {
      "displayName": "jinyang park",
      "userId": "06576046992691541404"
     },
     "user_tz": -540
    },
    "id": "wPk1jF-uzypb",
    "outputId": "9cea293c-3719-45a5-f03c-fd7d7b9235bb"
   },
   "outputs": [],
   "source": [
    "# apply lambda\n"
   ]
  },
  {
   "cell_type": "markdown",
   "metadata": {
    "id": "G56CuaBFRFXF"
   },
   "source": [
    "### 2_13. 값 등급화, 분류\n",
    "* np.where\n",
    "* cut"
   ]
  },
  {
   "cell_type": "code",
   "execution_count": null,
   "metadata": {
    "colab": {
     "base_uri": "https://localhost:8080/"
    },
    "executionInfo": {
     "elapsed": 363,
     "status": "ok",
     "timestamp": 1665646954238,
     "user": {
      "displayName": "jinyang park",
      "userId": "06576046992691541404"
     },
     "user_tz": -540
    },
    "id": "ZCcYXlLYDyAb",
    "outputId": "3db8ac4f-9148-41e9-f20b-cd6a2549caef"
   },
   "outputs": [],
   "source": [
    "# np.where 2개\n",
    "# np.where(조건, True, False)\n"
   ]
  },
  {
   "cell_type": "code",
   "execution_count": null,
   "metadata": {
    "id": "wBBsBVWifYXa",
    "outputId": "16b4e94c-d44e-4f79-993c-0fb4c4012956"
   },
   "outputs": [],
   "source": [
    "# np.where 3개\n",
    "# np.where(조건1, True, False)\n",
    "# np.where(조건1, True, \n",
    "#                 np.where(조건2, True, False)\n"
   ]
  },
  {
   "cell_type": "code",
   "execution_count": null,
   "metadata": {
    "colab": {
     "base_uri": "https://localhost:8080/"
    },
    "executionInfo": {
     "elapsed": 558,
     "status": "ok",
     "timestamp": 1665647552691,
     "user": {
      "displayName": "jinyang park",
      "userId": "06576046992691541404"
     },
     "user_tz": -540
    },
    "id": "hnG65FacUR9Y",
    "outputId": "f99a5ce5-aa99-47ba-bdcc-256764b5cdf3"
   },
   "outputs": [],
   "source": [
    "# cut\n",
    "pd.cut(x = df_hk['age'], bins = [0,20,30,40,100], labels = ['10대', '20대', '30대', '40대이상'])"
   ]
  },
  {
   "cell_type": "code",
   "execution_count": null,
   "metadata": {
    "id": "ORiCIQ5tzypc"
   },
   "outputs": [],
   "source": []
  },
  {
   "cell_type": "markdown",
   "metadata": {
    "id": "qpVLviso-Hzp"
   },
   "source": [
    "### 2_14. 날짜 변수 처리 (datetime)"
   ]
  },
  {
   "cell_type": "code",
   "execution_count": null,
   "metadata": {
    "id": "MPTdFHZPEJmd"
   },
   "outputs": [],
   "source": [
    "import datetime"
   ]
  },
  {
   "cell_type": "code",
   "execution_count": null,
   "metadata": {
    "colab": {
     "base_uri": "https://localhost:8080/",
     "height": 206
    },
    "executionInfo": {
     "elapsed": 308,
     "status": "ok",
     "timestamp": 1665644352675,
     "user": {
      "displayName": "jinyang park",
      "userId": "06576046992691541404"
     },
     "user_tz": -540
    },
    "id": "QmA2Iaw19E4a",
    "outputId": "1eee2ffa-49b7-4841-80dc-798a17743b7d"
   },
   "outputs": [],
   "source": []
  },
  {
   "cell_type": "code",
   "execution_count": null,
   "metadata": {
    "colab": {
     "base_uri": "https://localhost:8080/"
    },
    "executionInfo": {
     "elapsed": 836,
     "status": "ok",
     "timestamp": 1665644375549,
     "user": {
      "displayName": "jinyang park",
      "userId": "06576046992691541404"
     },
     "user_tz": -540
    },
    "id": "NNufUjo9-3bl",
    "outputId": "a9e2af8c-d6f5-43fc-8e45-f329c5f0bd98"
   },
   "outputs": [],
   "source": [
    "# pd.to_datetime\n"
   ]
  },
  {
   "cell_type": "code",
   "execution_count": null,
   "metadata": {
    "colab": {
     "base_uri": "https://localhost:8080/"
    },
    "executionInfo": {
     "elapsed": 336,
     "status": "ok",
     "timestamp": 1665644299215,
     "user": {
      "displayName": "jinyang park",
      "userId": "06576046992691541404"
     },
     "user_tz": -540
    },
    "id": "VofWCPNZHbCn",
    "outputId": "64f737d3-6c9d-41a7-a106-531f2e7a0b2f"
   },
   "outputs": [],
   "source": [
    "# astype('datetime64')\n"
   ]
  },
  {
   "cell_type": "code",
   "execution_count": null,
   "metadata": {
    "colab": {
     "base_uri": "https://localhost:8080/"
    },
    "executionInfo": {
     "elapsed": 713,
     "status": "ok",
     "timestamp": 1665643350976,
     "user": {
      "displayName": "jinyang park",
      "userId": "06576046992691541404"
     },
     "user_tz": -540
    },
    "id": "Wfy0_RX0D6wn",
    "outputId": "83c9ac82-df28-476b-ea77-11fb9dd3e566"
   },
   "outputs": [],
   "source": [
    "# datetime.datetime.strptime\n",
    "df_hk['jumin7'].apply(lambda x : x[0:6]).apply(lambda x : datetime.datetime.strptime(x, '%y%m%d'))"
   ]
  },
  {
   "cell_type": "code",
   "execution_count": null,
   "metadata": {
    "colab": {
     "base_uri": "https://localhost:8080/"
    },
    "executionInfo": {
     "elapsed": 4,
     "status": "ok",
     "timestamp": 1665642149115,
     "user": {
      "displayName": "jinyang park",
      "userId": "06576046992691541404"
     },
     "user_tz": -540
    },
    "id": "J9yrDFnp-3kY",
    "outputId": "c2b5d3a7-7ce3-47fd-a312-5fab2fd8b753"
   },
   "outputs": [],
   "source": [
    "# datetime 활용\n"
   ]
  },
  {
   "cell_type": "markdown",
   "metadata": {
    "id": "Rl7mAGRQfYXb"
   },
   "source": [
    "Quiz 7 (실습문제 유형5을 사용하여, : phone.csv (구분자: “,” , 105,828 Rows, 10 Columns)\n",
    "\n",
    "1) 단계 1-1. 데이터 중 테스트 결과(TestResult)가 SUCCESS이고 신호 강도(Signal) 값이 결측치(null, N/A 등)가 아닌 데이터만 추출"
   ]
  },
  {
   "cell_type": "code",
   "execution_count": null,
   "metadata": {
    "id": "v2YNM-LrfYXb",
    "outputId": "d50314d9-68bf-4e38-edc2-875049d5783b"
   },
   "outputs": [],
   "source": [
    "# 파일 로딩\n"
   ]
  },
  {
   "cell_type": "code",
   "execution_count": null,
   "metadata": {
    "id": "3yd4sfeBfYXc"
   },
   "outputs": [],
   "source": [
    "# 단계 1-1. 데이터 중 테스트 결과(TestResult)가 SUCCESS\n"
   ]
  },
  {
   "cell_type": "code",
   "execution_count": null,
   "metadata": {
    "id": "TslJr_Q9fYXc"
   },
   "outputs": [],
   "source": [
    "# 신호 강도(Signal) 값이 결측치(null, N/A 등)가 아닌 데이터만 추출\n"
   ]
  },
  {
   "cell_type": "code",
   "execution_count": null,
   "metadata": {
    "id": "4nBaeDW2fYXc",
    "outputId": "6962ac7b-52bc-401f-8709-c6d4a9bd6a7b",
    "scrolled": true
   },
   "outputs": [],
   "source": [
    "\n"
   ]
  },
  {
   "cell_type": "code",
   "execution_count": null,
   "metadata": {},
   "outputs": [],
   "source": []
  }
 ],
 "metadata": {
  "colab": {
   "provenance": [
    {
     "file_id": "1xHKHcroSB8NmtcADFVfAWeGXkRR1OXjM",
     "timestamp": 1666834708786
    },
    {
     "file_id": "15ce8XzI9VPdTBVZ4NXssMiQJzvbx3x9e",
     "timestamp": 1664519074221
    }
   ],
   "toc_visible": true
  },
  "kernelspec": {
   "display_name": "Python 3 (ipykernel)",
   "language": "python",
   "name": "python3"
  },
  "language_info": {
   "codemirror_mode": {
    "name": "ipython",
    "version": 3
   },
   "file_extension": ".py",
   "mimetype": "text/x-python",
   "name": "python",
   "nbconvert_exporter": "python",
   "pygments_lexer": "ipython3",
   "version": "3.11.1"
  }
 },
 "nbformat": 4,
 "nbformat_minor": 1
}
